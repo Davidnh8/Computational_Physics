{
 "cells": [
  {
   "cell_type": "code",
   "execution_count": 12,
   "metadata": {
    "collapsed": true
   },
   "outputs": [],
   "source": [
    "import numpy as np\n",
    "import matplotlib.pyplot as plt\n",
    "%matplotlib inline"
   ]
  },
  {
   "cell_type": "markdown",
   "metadata": {},
   "source": [
    "# Epicycles: Ptolomy and Homer\n",
    "\n",
    "https://en.wikipedia.org/wiki/Deferent_and_epicycle\n",
    "\n",
    "Assume that the Earth completes a circular orbit (with radius of 1 AU) around the sun in exactly 365.25 days."
   ]
  },
  {
   "cell_type": "code",
   "execution_count": 18,
   "metadata": {
    "collapsed": true
   },
   "outputs": [],
   "source": [
    "def earth_orbit(year):\n",
    "    \"\"\" return cartesian x,y coordinates of Earth orbit\n",
    "    \"\"\"\n",
    "    r, w, phi = 1.0, 1.0, 0.0\n",
    "    arg = 2*np.pi*w*year + phi\n",
    "    x, y = r*np.cos(arg), r*np.sin(arg)  \n",
    "    return x,y"
   ]
  },
  {
   "cell_type": "markdown",
   "metadata": {},
   "source": [
    "An observer at the center of the sun will see the apparent location of the earth move with a linearly increasing angle (constant angular velocity) and constant radius"
   ]
  },
  {
   "cell_type": "code",
   "execution_count": 15,
   "metadata": {
    "collapsed": false
   },
   "outputs": [
    {
     "data": {
      "text/plain": [
       "[<matplotlib.lines.Line2D at 0x8a11a90>]"
      ]
     },
     "execution_count": 15,
     "metadata": {},
     "output_type": "execute_result"
    },
    {
     "data": {
      "image/png": "[encoded data removed]",
      "text/plain": [
       "<matplotlib.figure.Figure at 0x89c3470>"
      ]
     },
     "metadata": {},
     "output_type": "display_data"
    }
   ],
   "source": [
    "x0, y0 = 0.0, 0.0  # Sun at origin\n",
    "year = np.linspace(2000, 2001, 99)\n",
    "x,y = earth_orbit(year)\n",
    "theta = np.arctan2( y-y0, x-x0 )\n",
    "plt.plot( year, theta )"
   ]
  },
  {
   "cell_type": "markdown",
   "metadata": {},
   "source": [
    "An observer at the center of the Earth would see the sun appear to move at a constant angular velocity with a period of 1 year."
   ]
  },
  {
   "cell_type": "code",
   "execution_count": 17,
   "metadata": {
    "collapsed": false
   },
   "outputs": [
    {
     "data": {
      "text/plain": [
       "[<matplotlib.lines.Line2D at 0x8addcc0>]"
      ]
     },
     "execution_count": 17,
     "metadata": {},
     "output_type": "execute_result"
    },
    {
     "data": {
      "image/png": "[encoded data removed]",
      "text/plain": [
       "<matplotlib.figure.Figure at 0x8a97e10>"
      ]
     },
     "metadata": {},
     "output_type": "display_data"
    }
   ],
   "source": [
    "x0, y0 = 0.0, 0.0  # Sun at origin\n",
    "year = np.linspace(2000, 2001, 99)\n",
    "x,y = earth_orbit(year)\n",
    "theta = np.arctan2( y0-y, x0-x )\n",
    "plt.plot( year, theta )"
   ]
  },
  {
   "cell_type": "markdown",
   "metadata": {},
   "source": [
    "## Jupiter\n",
    "\n",
    "Assume that Jupiter has a circular orbit with 5.2 AU radius, 12 year orbital period, and that the most recent closest approach to the Earth was on September 21 2010.\n",
    "\n",
    "Question 1: Calculate and plot the distance $r(t)$ and angular location $\\theta(t)$ of Jupiter as observed from Earth during 2000 to 2012.\n",
    "\n",
    "Question 2: Determine the time(s) during this interval when Jupiter appeared to be stationary.\n",
    "\n",
    "Question 3: Find the largest and smallest apparent angular speeds during each year.\n",
    "See: https://en.wikipedia.org/wiki/Apparent_retrograde_motion\n",
    "\n",
    "Question 4: Evaluate the following integrals\n",
    "\n",
    " $$ \\int \\cos(\\omega t) \\, \\theta(t) \\, dt $$\n",
    " $$ \\int \\sin(\\omega t) \\, \\theta(t) \\, dt $$\n",
    "\n",
    "for the first 6 harmonics of the 12 year period (ie. T=12, 6, 3, 1.5 years etc.)\n",
    "\n",
    "\n",
    "Question 5: Fit a model to $\\theta(t)$ and write a corresponding function to predict $\\hat\\theta(t)$ as a function of time.\n",
    "There is more than one way of solving this problem.\n",
    "\n",
    "See: https://www.youtube.com/watch?v=QVuU2YCwHjw\n",
    "\n",
    "https://santi75.files.wordpress.com/2008/07/deferentes-epiciclos-y-adaptaciones.pdf\n",
    "\n",
    "You must submit a single Jupyter notebook in ipynb format by midnight on Friday April 14. This should contain at least the following elements\n",
    "\n",
    " *Answers to each each question with some combintation of text, code, and figures or tables\n",
    " \n",
    " *An introduction and conclusions\n",
    " \n",
    " *Documented code with docstrings for all functions"
   ]
  }
 ],
 "metadata": {
  "anaconda-cloud": {},
  "kernelspec": {
   "display_name": "Python 3",
   "language": "python",
   "name": "python3"
  },
  "language_info": {
   "codemirror_mode": {
    "name": "ipython",
    "version": 3
   },
   "file_extension": ".py",
   "mimetype": "text/x-python",
   "name": "python",
   "nbconvert_exporter": "python",
   "pygments_lexer": "ipython3",
   "version": "3.5.2"
  }
 },
 "nbformat": 4,
 "nbformat_minor": 1
}
