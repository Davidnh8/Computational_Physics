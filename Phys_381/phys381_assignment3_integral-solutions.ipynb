{
 "cells": [
  {
   "cell_type": "markdown",
   "metadata": {},
   "source": [
    "# PHYS381  Assignment \\#3\n",
    "## Due Wednesday Feb 8\n",
    "\n",
    "Use scipy.integrate.romberg to evaluate the triple integral\n",
    "\n",
    "  $$ \\int_{x=0}^1 \\int_{y=0}^\\sqrt{1-x^2} \\int_{z=0}^\\sqrt{1-x^2-y^2} \\frac{dz \\, dy \\, dx}{1 + x^2 + y^2 + z^2} $$\n",
    "  \n",
    "Try to obtain results for a range of precision eg. tol=1e-3, 1e-4, ...\n",
    "See how small you can make the tolerance and still obtain a result in under a minute or so.\n",
    "(It may be helpful to adjust divmax.)\n",
    "\n",
    "Determine the number of calls $N$ to the integrand\n",
    "\n",
    "  $$ \\frac{1}{1 + x^2 + y^2 + z^2} $$\n",
    "  \n",
    "required for each value of tol.  Plot the graph of N versus tol and discuss the result.\n",
    "\n",
    "<hr>"
   ]
  },
  {
   "cell_type": "markdown",
   "metadata": {},
   "source": [
    "# Solutions\n",
    "\n",
    "A triple integral is equivalent to three nested single integrals.  \n",
    "\n",
    "In this case the $x$ integral\n",
    "  $$ I =  \\int_{x=0}^1  I_x(x) \\, dx$$\n",
    "has an x-integrand which is a $y$ integral\n",
    "  $$ I_x(x) =  \\int_{y=0}^\\sqrt{1-x^2}  I_y(y,x) \\, dy $$\n",
    "and the y-integrand is a $z$ integral  \n",
    "  $$ I_y(y,x) =  \\int_{z=0}^\\sqrt{1-x^2-y^2} I_z(z,y,x) \\, dz$$\n",
    "of the function \n",
    "  $$ I_z(z,y,x) =  \\frac{1}{1 + x^2 + y^2 + z^2} $$\n",
    "where the z-limits depend on $x$ and $y$, and the y-limits depend on $x$.\n",
    "\n",
    "\n",
    "\n",
    "We are asked to use the \"scipy.integrate.romberg\" function to evaluate the triple integral.  From the documentation provided by \"help(scipy.integrate.romberg)\"\n",
    "\n",
    "     Returns the integral of `function` (a function of one variable) over the interval (`a`, `b`).\n",
    " \n",
    "we will have to make multiple nested calls to  \"romberg\"."
   ]
  },
  {
   "cell_type": "code",
   "execution_count": 4,
   "metadata": {
    "collapsed": true
   },
   "outputs": [],
   "source": [
    "import numpy as np\n",
    "from scipy.integrate import romberg"
   ]
  },
  {
   "cell_type": "code",
   "execution_count": 5,
   "metadata": {
    "collapsed": true
   },
   "outputs": [],
   "source": [
    "# Call this version 1, with the expectation that we may\n",
    "# need to add more features.\n",
    "#\n",
    "def integral_xyz_version1():\n",
    "    return romberg( intv1_x, 0.0, 1.0 )\n",
    "\n",
    "def intv1_x(x):\n",
    "    lo, hi = 0.0, np.sqrt(1.0-x*x)\n",
    "    return romberg( intv1_y, lo, hi, args=(x,) )\n",
    "\n",
    "def intv1_y(y,x):\n",
    "    lo, hi = 0.0, np.sqrt( 1.0-x*x-y*y  )\n",
    "    return romberg( intv1_z, lo, hi, args=(y,x) )\n",
    "\n",
    "def intv1_z(z,x,y):\n",
    "    return 1.0 / (1.0 + x*x + y*y + z*z)"
   ]
  },
  {
   "cell_type": "code",
   "execution_count": 6,
   "metadata": {
    "collapsed": false
   },
   "outputs": [],
   "source": [
    "# print( integral_xyz_version1() )"
   ]
  },
  {
   "cell_type": "markdown",
   "metadata": {},
   "source": [
    "Simply calling the integrating function\n",
    "\n",
    "    integral_xyz_version1()\n",
    "\n",
    "will generate many warning messages of the form\n",
    "\n",
    "    C:\\Users\\bjackel\\Miniconda3\\envs\\py34\\lib\\site-packages\\scipy\\integrate\\quadrature.py:706: \n",
    "    AccuracyWarning: divmax (10) exceeded. Latest difference = 2.704740e-06  AccuracyWarning)\n",
    "    \n",
    "After a closer read of the documentation it looks like we should increase \"divmax\" to allow for additional sub-division steps.  For now we will also require a low \"tol\"erance level to speed up testing and development"
   ]
  },
  {
   "cell_type": "code",
   "execution_count": 13,
   "metadata": {
    "collapsed": false
   },
   "outputs": [],
   "source": [
    "tol = 1e-3    # use relaxed value for testing\n",
    "divmax = 15   # increase default from 10\n",
    "\n",
    "def integral_xyz_version2(show=False):\n",
    "    return romberg( intv2_x, 0.0, 1.0, tol=tol, divmax=divmax, show=show )\n",
    "\n",
    "def intv2_x(x):\n",
    "    lo, hi = 0.0, np.sqrt( 1.0-x*x )\n",
    "    return romberg( intv2_y, lo, hi, args=(x,), tol=tol, divmax=divmax )\n",
    "\n",
    "def intv2_y(y,x):\n",
    "    lo, hi = 0.0, np.sqrt( 1.0-x*x-y*y )\n",
    "    return romberg( intv2_z, lo, hi, args=(y,x), tol=tol, divmax=divmax, vec_func=True )\n",
    "\n",
    "def intv2_z(z,x,y):\n",
    "    return 1.0 / (1.0 + x*x + y*y + z*z)\n",
    "    \n",
    "# print( integral_xyz_version2() )"
   ]
  },
  {
   "cell_type": "markdown",
   "metadata": {},
   "source": [
    "Adjusting the integrator parameters as shown above in\n",
    "\n",
    "    integral_xyz_version2()\n",
    "\n",
    "will produce fewer error messages, but now they're complaining about the square-root\n",
    "\n",
    "    C:\\Users\\bjackel\\Miniconda3\\envs\\py34\\lib\\site-packages\\ipykernel\\__main__.py:12: RuntimeWarning: invalid value encountered in sqrt\n",
    "    C:\\Users\\bjackel\\Miniconda3\\envs\\py34\\lib\\site-packages\\scipy\\integrate\\quadrature.py:706: AccuracyWarning: divmax (15) exceeded. Latest difference = nan\n",
    "  AccuracyWarning)\n",
    "  \n",
    "The np.sqrt function is only called in two places.  Adding some debugging print statements showed that the second call is the problem with an argument of the following form:\n",
    "\n",
    "  $$1 - x^2 - y^2$$\n",
    "  \n",
    "Although this expression should in principle always be greater than or equal to zero, in practice numerical round-off errors could produce very small negative numbers. \n",
    "\n",
    "One way to deal with this is to test for negative numbers and replace them with zero.  Using \"abs\" also seems to work."
   ]
  },
  {
   "cell_type": "code",
   "execution_count": 47,
   "metadata": {
    "collapsed": true
   },
   "outputs": [],
   "source": [
    "count_integrand = 0\n",
    "tol = 1e-3\n",
    "divmax = 10\n",
    "\n",
    "def integral_xyz_version3(show=False):\n",
    "    globals()['count_integrand'] = 0\n",
    "    return romberg( intv3_x, 0.0, 1.0, tol=tol, divmax=divmax, show=show )\n",
    "\n",
    "def intv3_x(x):\n",
    "    lo, hi = 0.0, np.sqrt(1.0-x*x)\n",
    "    return romberg( intv3_y, lo, hi, args=(x,), tol=tol, divmax=divmax )\n",
    "\n",
    "def intv3_y(y,x):\n",
    "    sqrt_arg = 1.0-x*x-y*y\n",
    "    sqrt_arg = 0.0 if sqrt_arg<0 else sqrt_arg\n",
    "    lo, hi = 0.0, np.sqrt( sqrt_arg )\n",
    "    return romberg( intv3_z, lo, hi, args=(y,x), tol=tol, divmax=divmax, vec_func=True )\n",
    "\n",
    "def intv3_z(z,x,y):\n",
    "    globals()['count_integrand'] += 1\n",
    "    return 1.0 / (1.0 + x*x + y*y + z*z)"
   ]
  },
  {
   "cell_type": "code",
   "execution_count": 48,
   "metadata": {
    "collapsed": false
   },
   "outputs": [
    {
     "name": "stdout",
     "output_type": "stream",
     "text": [
      "Romberg integration of <function vectorize1.<locals>.vfunc at 0x000000000AC17F28> from [0.0, 1.0]\n",
      "\n",
      " Steps  StepSize   Results\n",
      "     1  1.000000  0.272196 \n",
      "     2  0.500000  0.320667  0.336823 \n",
      "     4  0.250000  0.332997  0.337108  0.337127 \n",
      "     8  0.125000  0.336070  0.337094  0.337093  0.337092 \n",
      "    16  0.062500  0.336837  0.337092  0.337092  0.337092  0.337092 \n",
      "\n",
      "The final result is 0.337092335091 after 17 function evaluations.\n",
      "0.337092335091\n"
     ]
    }
   ],
   "source": [
    "tol = 1.0e-5\n",
    "divmax = 10\n",
    "print( integral_xyz_version3(show=True) )"
   ]
  },
  {
   "cell_type": "markdown",
   "metadata": {},
   "source": [
    "We are now in a postion to do what the question asked for: calculate results and track integrand evaluations over a range of requested accuracies.\n",
    "\n",
    "We found that \"tol=1e-7\" is noticably slower than 2e-7, so we stopped there."
   ]
  },
  {
   "cell_type": "code",
   "execution_count": 56,
   "metadata": {
    "collapsed": false
   },
   "outputs": [
    {
     "name": "stdout",
     "output_type": "stream",
     "text": [
      "[[  1.00000000e-01   3.25780726e-01   3.30000000e+01]\n",
      " [  1.00000000e-02   3.35071956e-01   1.27000000e+02]\n",
      " [  1.00000000e-03   3.36881778e-01   4.83000000e+02]\n",
      " [  2.00000000e-04   3.37026122e-01   2.07300000e+03]\n",
      " [  1.00000000e-04   3.37069531e-01   3.95100000e+03]\n",
      " [  2.00000000e-05   3.37089680e-01   2.60320000e+04]\n",
      " [  1.00000000e-05   3.37092335e-01   3.65310000e+04]\n",
      " [  5.00000000e-06   3.37094394e-01   6.94000000e+04]\n",
      " [  2.00000000e-06   3.37095213e-01   1.33930000e+05]\n",
      " [  1.00000000e-06   3.37095361e-01   1.62206000e+05]\n",
      " [  5.00000000e-07   3.37095627e-01   3.22365000e+05]\n",
      " [  2.00000000e-07   3.37095714e-01   1.23975600e+06]]\n"
     ]
    }
   ],
   "source": [
    "result = []\n",
    "divmax=15\n",
    "for tol in [0.1, 1e-2, 1e-3, 2e-4, 1e-4, 2e-5, 1e-5, 5e-6, 2e-6, 1e-6, 5e-7, 2e-7]:\n",
    "    result.append( (tol, integral_xyz_version3(), globals()['count_integrand'] ) )\n",
    "    \n",
    "result = np.array( result )\n",
    "print( result )"
   ]
  },
  {
   "cell_type": "code",
   "execution_count": 57,
   "metadata": {
    "collapsed": false
   },
   "outputs": [],
   "source": [
    "import matplotlib.pyplot as plt\n",
    "%matplotlib inline"
   ]
  },
  {
   "cell_type": "code",
   "execution_count": 58,
   "metadata": {
    "collapsed": false
   },
   "outputs": [
    {
     "data": {
      "text/plain": [
       "<matplotlib.text.Text at 0x9b7e710>"
      ]
     },
     "execution_count": 58,
     "metadata": {},
     "output_type": "execute_result"
    },
    {
     "data": {
      "image/png": "[encoded data removed]",
      "text/plain": [
       "<matplotlib.figure.Figure at 0xac47be0>"
      ]
     },
     "metadata": {},
     "output_type": "display_data"
    }
   ],
   "source": [
    "plt.plot( result[:,0], result[:,2], 'go-')\n",
    "plt.xscale('log')\n",
    "plt.yscale('log')\n",
    "plt.grid('on')\n",
    "plt.title('3D Romberg integration')\n",
    "plt.xlabel('requested accuracy (tol) ')\n",
    "plt.ylabel('number of integrand evaluations')"
   ]
  },
  {
   "cell_type": "markdown",
   "metadata": {},
   "source": [
    "This plot shows an approximately linear relationship beween accuracy and number of function evaluations on a log-log scale.  In other words: if we want a factor of 10 better precision then it will require roughly 10x as many evaluations of the integrand."
   ]
  },
  {
   "cell_type": "markdown",
   "metadata": {},
   "source": [
    "# Optional material\n",
    "\n",
    "Nothing below this point is required for this assignment."
   ]
  },
  {
   "cell_type": "markdown",
   "metadata": {},
   "source": [
    "## what about quad?\n",
    "\n",
    "The scipy.integrate.quad function performs a 1D integral just like romberg.  Is it better?\n",
    "\n",
    "As a quick test I replaced the \"x\" integral and found that roughly 5% more function evaluations were required. "
   ]
  },
  {
   "cell_type": "code",
   "execution_count": 28,
   "metadata": {
    "collapsed": false
   },
   "outputs": [],
   "source": [
    "from scipy.integrate import quad\n",
    "count_integrand = 0\n",
    "tol = 1e-6\n",
    "divmax = 15\n",
    "\n",
    "def integral_xyz_version4():\n",
    "    globals()['count_integrand'] = 0\n",
    "    return quad( intv2_x, 0.0, 1.0, epsabs=tol )\n",
    "\n",
    "def intv2_x(x):\n",
    "    lo, hi = 0.0, np.sqrt(1.0-x*x)\n",
    "    return romberg( intv2_y, lo, hi, args=(x,), tol=tol, divmax=divmax )\n",
    "\n",
    "def intv2_y(y,x):\n",
    "    lo, hi = 0.0, np.sqrt( np.abs( 1.0-x*x-y*y ) )\n",
    "    return romberg( intv2_z, lo, hi, args=(y,x), tol=tol, divmax=divmax, vec_func=True )\n",
    "\n",
    "def intv2_z(z,x,y):\n",
    "    globals()['count_integrand'] += 1\n",
    "    return 1.0 / (1.0 + x*x + y*y + z*z)"
   ]
  },
  {
   "cell_type": "code",
   "execution_count": 29,
   "metadata": {
    "collapsed": false
   },
   "outputs": [
    {
     "name": "stdout",
     "output_type": "stream",
     "text": [
      "0.337095361376 162206\n",
      "(0.33709538052728716, 1.8284618227058605e-08) 190016\n"
     ]
    }
   ],
   "source": [
    "print( integral_xyz_version3(), count_integrand )\n",
    "print( integral_xyz_version4(), count_integrand )"
   ]
  },
  {
   "cell_type": "code",
   "execution_count": 35,
   "metadata": {
    "collapsed": false
   },
   "outputs": [],
   "source": [
    "count_integrand = 0\n",
    "tol = 1e-6\n",
    "divmax = 15\n",
    "\n",
    "def integral_xyz_version5():\n",
    "    globals()['count_integrand'] = 0\n",
    "    return quad( intv5_x, 0.0, 1.0, epsabs=tol, limit=99 )\n",
    "\n",
    "def intv5_x(x):\n",
    "    lo, hi = 0.0, np.sqrt(1.0-x*x)\n",
    "    return quad( intv2_y, lo, hi, args=(x,), epsabs=tol, limit=99 )\n",
    "\n",
    "def intv2_y(y,x):\n",
    "    lo, hi = 0.0, np.sqrt( np.abs( 1.0-x*x-y*y ) )\n",
    "    return romberg( intv2_z, lo, hi, args=(y,x), tol=tol, divmax=divmax, vec_func=True )\n",
    "\n",
    "def intv2_z(z,x,y):\n",
    "    globals()['count_integrand'] += 1\n",
    "    return 1.0 / (1.0 + x*x + y*y + z*z)\n",
    "\n",
    "#print( integral_xyz_version3(), count_integrand )\n",
    "#print( integral_xyz_version5(), count_integrand )"
   ]
  },
  {
   "cell_type": "markdown",
   "metadata": {},
   "source": [
    "Trying to replace either of the \"y\" or \"z\" integrals resulted in a failure which in theory we could track down if it was important enough.\n",
    "\n",
    "     C:\\Users\\bjackel\\Miniconda3\\envs\\py34\\lib\\site-packages\\scipy\\integrate\\quadrature.py in _difftrap(function, interval, numtraps)\n",
    "     555         raise ValueError(\"numtraps must be > 0 in difftrap().\")\n",
    "     556     elif numtraps == 1:\n",
    "     --> 557         return 0.5*(function(interval[0])+function(interval[1]))\n",
    "     558     else:\n",
    "     559         numtosum = numtraps/2\n",
    "\n",
    "     TypeError: can't multiply sequence by non-int of type 'float'"
   ]
  },
  {
   "cell_type": "markdown",
   "metadata": {},
   "source": []
  },
  {
   "cell_type": "markdown",
   "metadata": {},
   "source": [
    "## Change of variables\n",
    "\n",
    "A transformation from Cartesian to spherical coordinates changes the integral into the following form\n",
    "\n",
    "$$ \\int_{\\theta=0}^{\\pi/2} \\int_{\\phi=0}^{\\pi/2} \\int_{\\rho=0}^1 \\frac{\\rho^2 \\sin\\phi \\, d\\rho \\, d\\phi \\, d\\theta}{1 + \\rho^2} $$\n",
    "\n",
    "Straightforward numerical evaluation of this three-dimensional integral is roughly 100x faster than the original form (3ms versus 300ms).  This is an excellent illustration of how numerical computation can depend on how problems are expressed."
   ]
  },
  {
   "cell_type": "code",
   "execution_count": 37,
   "metadata": {
    "collapsed": false
   },
   "outputs": [
    {
     "name": "stdout",
     "output_type": "stream",
     "text": [
      "0.337095774814\n",
      "1 loop, best of 3: 338 ms per loop\n",
      "100 loops, best of 3: 3.46 ms per loop\n"
     ]
    }
   ],
   "source": [
    "def integral_r_3d(show=False):\n",
    "    return romberg( int3d_r, 0.0, 1.0, tol=tol, divmax=divmax, show=show )\n",
    "\n",
    "def int3d_r(r):\n",
    "    return romberg( int3d_phi, 0, np.pi/2.0, args=(r,), tol=tol, divmax=divmax )\n",
    "\n",
    "def int3d_phi(phi, r):\n",
    "    return romberg( int3d_theta, 0, np.pi/2.0, args=(phi, r), tol=tol, divmax=divmax, vec_func=True )\n",
    "\n",
    "def int3d_theta(theta, phi, r):\n",
    "    return np.sin(phi) * (1.0 - 1.0/(1+r*r))\n",
    "\n",
    "tol = 1.0e-5\n",
    "divmax = 15\n",
    "print( integral_r_3d() )\n",
    "%timeit integral_xyz_version2()\n",
    "%timeit integral_r_3d()"
   ]
  },
  {
   "cell_type": "code",
   "execution_count": null,
   "metadata": {
    "collapsed": true
   },
   "outputs": [],
   "source": []
  },
  {
   "cell_type": "markdown",
   "metadata": {},
   "source": [
    "We further note that the transformation has resulted in three independent integrals\n",
    "\n",
    "$$ \\int_{\\theta=0}^{\\pi/2} \\int_{\\phi=0}^{\\pi/2} \\int_{\\rho=0}^1 \\sin\\phi \\left[ 1 - \\frac{1}{1 + \\rho^2} \\right] d\\rho \\, d\\phi \\, d\\theta $$\n",
    "\n",
    "Evaluating them separately provides another factor of 30 improvement (0.15ms versus 3.5ms)."
   ]
  },
  {
   "cell_type": "code",
   "execution_count": 49,
   "metadata": {
    "collapsed": false
   },
   "outputs": [
    {
     "name": "stdout",
     "output_type": "stream",
     "text": [
      "0.337095774814\n",
      "10000 loops, best of 3: 143 µs per loop\n",
      "100 loops, best of 3: 3.49 ms per loop\n"
     ]
    }
   ],
   "source": [
    "def integral_r_1d():\n",
    "    Ir = romberg( int1d_r, 0.0, 1.0, tol=tol, divmax=divmax )\n",
    "    Iphi = romberg( int1d_phi, 0.0, np.pi/2.0, tol=tol, divmax=divmax )\n",
    "    Itheta = romberg( int1d_theta, 0.0, np.pi/2.0, tol=tol, divmax=divmax )\n",
    "    return Ir * Iphi * Itheta\n",
    "    \n",
    "def int1d_r(r):\n",
    "    return 1.0 - 1.0/( 1.0 + r*r )\n",
    "\n",
    "def int1d_phi(phi):\n",
    "    return np.sin(phi)\n",
    "\n",
    "def int1d_theta(theta):\n",
    "    return 1.0\n",
    "\n",
    "tol = 1.0e-5\n",
    "divmax = 15\n",
    "print( integral_r_1d() )\n",
    "%timeit integral_r_1d()\n",
    "%timeit integral_r_3d()"
   ]
  },
  {
   "cell_type": "markdown",
   "metadata": {},
   "source": [
    "Finally, it can be shown that each of the integrals has a closed form solution\n",
    "\n",
    "  $$ \\left( 1 - \\frac{\\pi}{4} \\right) \\left( \\cos\\phi \\right|_0^{\\pi/2} \\int_{\\theta=0}^{\\pi/2} d\\theta $$\n",
    "\n",
    "so that we can get an \"exact\" solution very quickly\n",
    "\n",
    "  $$ \\left( 1 - \\frac{\\pi}{4} \\right) \\frac{\\pi}{2} = \\frac{\\pi}{2} - \\frac{\\pi^2}{8} $$"
   ]
  },
  {
   "cell_type": "code",
   "execution_count": 11,
   "metadata": {
    "collapsed": false
   },
   "outputs": [
    {
     "name": "stdout",
     "output_type": "stream",
     "text": [
      "0.3370957766587268\n"
     ]
    }
   ],
   "source": [
    "exact =  np.pi/2.0 - np.pi**2 / 8.0\n",
    "print( exact ) "
   ]
  },
  {
   "cell_type": "code",
   "execution_count": 39,
   "metadata": {
    "collapsed": false
   },
   "outputs": [
    {
     "name": "stdout",
     "output_type": "stream",
     "text": [
      "4.15283060773e-07\n",
      "-9.42791400504e-11\n"
     ]
    }
   ],
   "source": [
    "tol = 1.0e-6\n",
    "divmax = 20\n",
    "print( exact - integral_xyz_version3() )\n",
    "print( exact - integral_r_3d() )"
   ]
  },
  {
   "cell_type": "markdown",
   "metadata": {},
   "source": [
    "## Error: actual vs. predicted\n",
    "\n",
    "It appears that the actual error for this case is consistently lower than the estimated error.  It is usually a good thing to be conservative with error estimates."
   ]
  },
  {
   "cell_type": "code",
   "execution_count": 41,
   "metadata": {
    "collapsed": false
   },
   "outputs": [
    {
     "data": {
      "text/plain": [
       "[<matplotlib.lines.Line2D at 0x99c7518>]"
      ]
     },
     "execution_count": 41,
     "metadata": {},
     "output_type": "execute_result"
    },
    {
     "data": {
      "image/png": "[encoded data removed]",
      "text/plain": [
       "<matplotlib.figure.Figure at 0x9a07fd0>"
      ]
     },
     "metadata": {},
     "output_type": "display_data"
    }
   ],
   "source": [
    "plt.plot( result[:,0], np.abs( exact - result[:,1] ), 'go-')\n",
    "plt.xscale('log')\n",
    "plt.yscale('log')\n",
    "plt.grid('on')\n",
    "plt.xlabel('requested accuracy')\n",
    "plt.ylabel('actual error')\n",
    "plt.plot( [1e-7, 1e-1], [1e-7,1e-1], 'b--')"
   ]
  },
  {
   "cell_type": "markdown",
   "metadata": {},
   "source": [
    "## Nested functions\n",
    "\n",
    "Python allows us to define functions inside other functions.  This provides another way to share variables between the inner and outer integrals.  It also \"hides\" the inner functions to avoid naming conflicts."
   ]
  },
  {
   "cell_type": "code",
   "execution_count": 51,
   "metadata": {
    "collapsed": false
   },
   "outputs": [],
   "source": [
    "def integral_nested(show=False):\n",
    "    \n",
    "    global count_integrand \n",
    "    count_integrand = 0 \n",
    "    \n",
    "    def integrand_x(x):\n",
    "        \n",
    "        def integrand_y(y):\n",
    "\n",
    "            def integrand_z(z):\n",
    "                global count_integrand \n",
    "                count_integrand += 1\n",
    "                return 1.0 / (1.0 + x*x + y*y + z*z)            \n",
    "            \n",
    "            lo, hi = 0.0, np.sqrt( np.abs( 1.0-x*x-y*y ) )\n",
    "            return romberg( integrand_z, lo, hi, tol=tol, divmax=divmax, vec_func=True )\n",
    "\n",
    "        lo, hi = 0.0, np.sqrt(1.0-x*x)\n",
    "        return romberg( integrand_y, lo, hi, tol=tol, divmax=divmax )\n",
    "\n",
    "    return romberg( integrand_x, 0.0, 1.0, tol=tol, divmax=divmax, show=show )\n",
    "    \n",
    "    \n",
    "tol = 1.0e-6\n",
    "divmax = 20\n",
    "assert( np.abs( exact - integral_nested() ) <= 1e-6 )"
   ]
  },
  {
   "cell_type": "markdown",
   "metadata": {},
   "source": [
    "## Ineffective optimization\n",
    "\n",
    "The integrand is being called thousands of times, so we might expect that it would be worth trying to make it less computationally expensive.  However, applying all the standard tricks to remove redundant calculations only gives us a 10% improvement."
   ]
  },
  {
   "cell_type": "code",
   "execution_count": 52,
   "metadata": {
    "collapsed": false
   },
   "outputs": [],
   "source": [
    "def integral_nested_faster(show=False):\n",
    "    \n",
    "    def integrand_x(x):\n",
    "        \n",
    "        def integrand_y(y):            \n",
    "            \n",
    "            def integrand_z(z):\n",
    "                return 1.0 / (one_plus_x2_y2 + z*z)\n",
    "            \n",
    "            y2 = y*y\n",
    "            lo, hi = 0.0, np.sqrt( np.abs( 1.0-x2-y2 ) )\n",
    "            one_plus_x2_y2 = 1.0 + x2 + y2\n",
    "            return romberg( integrand_z, lo, hi, tol=tol, divmax=divmax, vec_func=True )        \n",
    "        \n",
    "        x2 = x*x\n",
    "        lo, hi = 0.0, np.sqrt(1.0-x2)\n",
    "        return romberg( integrand_y, lo, hi, tol=tol, divmax=divmax )\n",
    "\n",
    "    return romberg( integrand_x, 0.0, 1.0, tol=tol, divmax=divmax, show=show )\n",
    "\n",
    "tol = 1.0e-6\n",
    "divmax = 20\n",
    "assert( np.abs( exact - integral_nested_faster() ) <= 1e-6 )"
   ]
  },
  {
   "cell_type": "code",
   "execution_count": 45,
   "metadata": {
    "collapsed": false
   },
   "outputs": [
    {
     "name": "stdout",
     "output_type": "stream",
     "text": [
      "1 loop, best of 3: 340 ms per loop\n",
      "1 loop, best of 3: 317 ms per loop\n"
     ]
    }
   ],
   "source": [
    "tol = 1.0e-5\n",
    "divmax = 15\n",
    "%timeit integral_nested()\n",
    "%timeit integral_nested_faster()"
   ]
  },
  {
   "cell_type": "markdown",
   "metadata": {},
   "source": [
    "### profiling\n",
    "\n",
    "We can use the %prun magic command to run the profiler.  This will collect information about how much time is spent in each function.  It turns out that \"integrand_z\" is only the third most expensive element.  Even if we could reduce the integrand time by 50%, we would only decrease the overall run time by about 15%.\n",
    "\n",
    "One alternative would be to go and read the soruce code for \"quadrature.py\" and see if we can somehow speed things up.\n",
    "\n",
    "Another would be to somehow simplify the integral eg. variable transformation.\n",
    "\n",
    "Or we could simply stop worrying, if this integral is a small part of a larger program with more expensive hot-spots."
   ]
  },
  {
   "cell_type": "code",
   "execution_count": 46,
   "metadata": {
    "collapsed": false
   },
   "outputs": [
    {
     "name": "stdout",
     "output_type": "stream",
     "text": [
      " "
     ]
    }
   ],
   "source": [
    "%prun integral_nested()"
   ]
  },
  {
   "cell_type": "markdown",
   "metadata": {},
   "source": [
    "<pre>\n",
    "    374434 function calls (337555 primitive calls) in 0.400 seconds\n",
    "\n",
    "   Ordered by: internal time\n",
    "\n",
    "   ncalls  tottime  percall  cumtime  percall filename:lineno(function)\n",
    "   7077/1    0.090    0.000    0.400    0.400 quadrature.py:593(romberg)\n",
    "  29634/5    0.070    0.000    0.400    0.080 quadrature.py:541(_difftrap)\n",
    "    36531    0.069    0.000    0.069    0.000 <ipython-input-43-29930bc8af6c>:10(integrand_z)\n",
    "    22557    0.036    0.000    0.036    0.000 {method 'reduce' of 'numpy.ufunc' objects}\n",
    "    49211    0.029    0.000    0.029    0.000 quadrature.py:567(_romberg_diff)\n",
    "    22557    0.027    0.000    0.073    0.000 fromnumeric.py:1743(sum)\n",
    "     7059    0.021    0.000    0.391    0.000 <ipython-input-43-29930bc8af6c>:8(integrand_y)\n",
    "    22557    0.020    0.000    0.020    0.000 {built-in method arange}\n",
    "    36531    0.011    0.000    0.079    0.000 quadrature.py:111(vfunc)\n",
    "    49211    0.006    0.000    0.006    0.000 {method 'append' of 'list' objects}\n",
    "    180/6    0.006    0.000    0.400    0.067 quadrature.py:114(vfunc)\n",
    "    22737    0.006    0.000    0.006    0.000 {built-in method isinstance}\n",
    "    22557    0.005    0.000    0.041    0.000 _methods.py:31(_sum)\n",
    "    38037    0.003    0.000    0.003    0.000 {built-in method abs}\n",
    "     7077    0.002    0.000    0.002    0.000 quadrature.py:85(vectorize1)\n",
    "      144    0.000    0.000    0.000    0.000 {built-in method empty}\n",
    "      180    0.000    0.000    0.000    0.000 numeric.py:2064(isscalar)\n",
    "      144    0.000    0.000    0.000    0.000 numeric.py:414(asarray)\n",
    "       17    0.000    0.000    0.400    0.024 <ipython-input-43-29930bc8af6c>:6(integrand_x)\n",
    "      144    0.000    0.000    0.000    0.000 {built-in method getattr}\n",
    "      144    0.000    0.000    0.000    0.000 {built-in method array}\n",
    "      144    0.000    0.000    0.000    0.000 {built-in method len}\n",
    "        1    0.000    0.000    0.400    0.400 {built-in method exec}\n",
    "        1    0.000    0.000    0.400    0.400 <ipython-input-43-29930bc8af6c>:1(integral_nested)\n",
    "        1    0.000    0.000    0.400    0.400 <string>:1(<module>)\n",
    "        1    0.000    0.000    0.000    0.000 {method 'disable' of '_lsprof.Profiler' objects}\n",
    "</pre>"
   ]
  },
  {
   "cell_type": "code",
   "execution_count": null,
   "metadata": {
    "collapsed": true
   },
   "outputs": [],
   "source": []
  }
 ],
 "metadata": {
  "anaconda-cloud": {},
  "kernelspec": {
   "display_name": "Python 3",
   "language": "python",
   "name": "python3"
  },
  "language_info": {
   "codemirror_mode": {
    "name": "ipython",
    "version": 3
   },
   "file_extension": ".py",
   "mimetype": "text/x-python",
   "name": "python",
   "nbconvert_exporter": "python",
   "pygments_lexer": "ipython3",
   "version": "3.5.2"
  }
 },
 "nbformat": 4,
 "nbformat_minor": 1
}
