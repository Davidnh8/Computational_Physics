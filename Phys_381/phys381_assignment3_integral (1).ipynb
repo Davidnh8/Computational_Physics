{
 "cells": [
  {
   "cell_type": "markdown",
   "metadata": {},
   "source": [
    "# PHYS381  Assignment\\#3\n",
    "## Due Wednesday Feb 8\n",
    "\n",
    "Use scipy.integrate.romberg to evaluate the triple integral\n",
    "\n",
    "  $$ \\int_{x=0}^1 \\int_{y=0}^\\sqrt{1-x^2} \\int_{z=0}^\\sqrt{1-x^2-y^2} \\frac{dz \\, dy \\, dx}{1 + x^2 + y^2 + z^2} $$\n",
    "  \n",
    "Try to obtain results for a range of precision eg. tol=1e-3, 1e-4, ...\n",
    "See how small you can make the tolerance and still obtain a result in under a minute or so.\n",
    "(It may be helpful to adjust divmax.)\n",
    "\n",
    "Determine the number of calls $N$ to the integrand\n",
    "\n",
    "  $$ \\frac{1}{1 + x^2 + y^2 + z^2} $$\n",
    "  \n",
    "required for each value of tol.  Plot the graph of N versus tol and discuss the result."
   ]
  },
  {
   "cell_type": "markdown",
   "metadata": {},
   "source": [
    "Gisu Ham 10134838  \n",
    "Justin Park 10115894"
   ]
  },
  {
   "cell_type": "code",
   "execution_count": 44,
   "metadata": {
    "collapsed": true
   },
   "outputs": [],
   "source": [
    "import scipy.integrate as SI\n",
    "import scipy\n",
    "import math\n",
    "import numpy\n",
    "import matplotlib.pyplot as plt\n",
    "import time"
   ]
  },
  {
   "cell_type": "markdown",
   "metadata": {},
   "source": [
    "First we attempt to harvest the expected value of the result of integration using simple cartesian to spherical coordinate transformation technique from calculus class. The result is then\n",
    "$$ \\int_{0}^1 \\int_{0}^\\frac{\\pi}{2} \\int_{0}^\\frac{\\pi}{2} \\frac{\\rho^2 sin\\phi d\\phi \\, d\\theta \\, d\\rho}{1 + \\rho^2} $$\n",
    "Then we make a function to compute this integral using product of Romberg integral (since the integrand is separable)"
   ]
  },
  {
   "cell_type": "code",
   "execution_count": 45,
   "metadata": {
    "collapsed": false
   },
   "outputs": [
    {
     "name": "stdout",
     "output_type": "stream",
     "text": [
      "0.337095776639\n"
     ]
    }
   ],
   "source": [
    "def R(r):\n",
    "    return (r**2)/(1+r**2)\n",
    "def Th(t):\n",
    "    return math.sin(t)\n",
    "def Phi(p):\n",
    "    return 1\n",
    "\n",
    "def triple_integral_spherical(R,Th,Phi,a1,a2,a3,a4,a5,a6,tol_):\n",
    "    return scipy.integrate.romberg(R,a1,a2,tol=tol_)*scipy.integrate.romberg(Th,a3,a4,tol=tol_)*scipy.integrate.romberg(Phi,a5,a6,tol=tol_,rtol=rtol_)\n",
    "print(triple_integral_spherical(R,Th,Phi,0,1,0,math.pi/2,0,math.pi/2,1e-9))"
   ]
  },
  {
   "cell_type": "markdown",
   "metadata": {},
   "source": [
    "Thus this result is what we are aiming for (direct input into wolfram alpha in cartesian form also give the same result)."
   ]
  },
  {
   "cell_type": "markdown",
   "metadata": {},
   "source": [
    "Since romberg integral takes one integrand with respect to a single variable and outputs a number, we cannot compute the triple integral with a single romberg integral. We approach this triple integral problem with functions calling to other functions to work around it."
   ]
  },
  {
   "cell_type": "code",
   "execution_count": 46,
   "metadata": {
    "collapsed": false
   },
   "outputs": [
    {
     "name": "stdout",
     "output_type": "stream",
     "text": [
      "Romberg integration of <function vectorize1.<locals>.vfunc at 0x000001C38D8B41E0> from [0, 1]\n",
      "\n",
      " Steps  StepSize   Results\n",
      "     1  1.000000  0.261702 \n",
      "     2  0.500000  0.307984  0.323411 \n",
      "\n",
      "The final result is 0.32341143955 after 3 function evaluations.\n",
      "Time taken:  0.044043540954589844 seconds\n",
      "Number called to the function N: 27\n",
      "tol value: 1.0\n",
      "Romberg integration of <function vectorize1.<locals>.vfunc at 0x000001C38DAF8598> from [0, 1]\n",
      "\n",
      " Steps  StepSize   Results\n",
      "     1  1.000000  0.261702 \n",
      "     2  0.500000  0.307984  0.323411 \n",
      "\n",
      "The final result is 0.32341143955 after 3 function evaluations.\n",
      "Time taken:  0.000997781753540039 seconds\n",
      "Number called to the function N: 27\n",
      "tol value: 0.31622776601683794\n",
      "Romberg integration of <function vectorize1.<locals>.vfunc at 0x000001C38F07A7B8> from [0, 1]\n",
      "\n",
      " Steps  StepSize   Results\n",
      "     1  1.000000  0.268810 \n",
      "     2  0.500000  0.311538  0.325781 \n",
      "\n",
      "The final result is 0.325780725762 after 3 function evaluations.\n",
      "Time taken:  0.0010042190551757812 seconds\n",
      "Number called to the function N: 33\n",
      "tol value: 0.1\n",
      "Romberg integration of <function vectorize1.<locals>.vfunc at 0x000001C38D9A0268> from [0, 1]\n",
      "\n",
      " Steps  StepSize   Results\n",
      "     1  1.000000  0.269144 \n",
      "     2  0.500000  0.316794  0.332678 \n",
      "     4  0.250000  0.328869  0.332894  0.332909 \n",
      "\n",
      "The final result is 0.332908761624 after 5 function evaluations.\n",
      "Time taken:  0.0009911060333251953 seconds\n",
      "Number called to the function N: 75\n",
      "tol value: 0.03162277660168379\n",
      "Romberg integration of <function vectorize1.<locals>.vfunc at 0x000001C38DC5C2F0> from [0, 1]\n",
      "\n",
      " Steps  StepSize   Results\n",
      "     1  1.000000  0.271147 \n",
      "     2  0.500000  0.319341  0.335405 \n",
      "     4  0.250000  0.331155  0.335093  0.335072 \n",
      "\n",
      "The final result is 0.335071956273 after 5 function evaluations.\n",
      "Time taken:  0.0030171871185302734 seconds\n",
      "Number called to the function N: 149\n",
      "tol value: 0.01\n",
      "Romberg integration of <function vectorize1.<locals>.vfunc at 0x000001C38DB12158> from [0, 1]\n",
      "\n",
      " Steps  StepSize   Results\n",
      "     1  1.000000  0.271842 \n",
      "     2  0.500000  0.319687  0.335635 \n",
      "     4  0.250000  0.332103  0.336242  0.336283 \n",
      "\n",
      "The final result is 0.336282508603 after 5 function evaluations.\n",
      "Time taken:  0.004000186920166016 seconds\n",
      "Number called to the function N: 253\n",
      "tol value: 0.0031622776601683794\n",
      "Romberg integration of <function vectorize1.<locals>.vfunc at 0x000001C38F0C8EA0> from [0, 1]\n",
      "\n",
      " Steps  StepSize   Results\n",
      "     1  1.000000  0.272069 \n",
      "     2  0.500000  0.320507  0.336653 \n",
      "     4  0.250000  0.332777  0.336867  0.336882 \n",
      "\n",
      "The final result is 0.336881777805 after 5 function evaluations.\n",
      "Time taken:  0.039015769958496094 seconds\n",
      "Number called to the function N: 645\n",
      "tol value: 0.001\n",
      "Romberg integration of <function vectorize1.<locals>.vfunc at 0x000001C38DB04048> from [0, 1]\n",
      "\n",
      " Steps  StepSize   Results\n",
      "     1  1.000000  0.272152 \n",
      "     2  0.500000  0.320613  0.336767 \n",
      "     4  0.250000  0.332922  0.337025  0.337042 \n",
      "\n",
      "The final result is 0.337042423238 after 5 function evaluations.\n",
      "Time taken:  0.016010522842407227 seconds\n",
      "Number called to the function N: 1365\n",
      "tol value: 0.00031622776601683794\n",
      "Romberg integration of <function vectorize1.<locals>.vfunc at 0x000001C38DB2BE18> from [0, 1]\n",
      "\n",
      " Steps  StepSize   Results\n",
      "     1  1.000000  0.272182 \n",
      "     2  0.500000  0.320649  0.336805 \n",
      "     4  0.250000  0.332973  0.337081  0.337099 \n",
      "     8  0.125000  0.336046  0.337071  0.337070  0.337070 \n",
      "\n",
      "The final result is 0.337069531078 after 9 function evaluations.\n",
      "Time taken:  0.07006263732910156 seconds\n",
      "Number called to the function N: 6063\n",
      "tol value: 0.0001\n",
      "Romberg integration of <function vectorize1.<locals>.vfunc at 0x000001C38D9690D0> from [0, 1]\n",
      "\n",
      " Steps  StepSize   Results\n",
      "     1  1.000000  0.272192 \n",
      "     2  0.500000  0.320662  0.336819 \n",
      "     4  0.250000  0.332991  0.337101  0.337120 \n",
      "     8  0.125000  0.336063  0.337088  0.337087  0.337086 \n",
      "    16  0.062500  0.336830  0.337086  0.337086  0.337086  0.337086 \n",
      "\n",
      "The final result is 0.337086074501 after 17 function evaluations.\n",
      "Time taken:  0.28218555450439453 seconds\n",
      "Number called to the function N: 33219\n",
      "tol value: 3.1622776601683795e-05\n",
      "Romberg integration of <function vectorize1.<locals>.vfunc at 0x000001C38D9510D0> from [0, 1]\n",
      "\n",
      " Steps  StepSize   Results\n",
      "     1  1.000000  0.272196 \n",
      "     2  0.500000  0.320667  0.336823 \n",
      "     4  0.250000  0.332997  0.337108  0.337127 \n",
      "     8  0.125000  0.336070  0.337094  0.337093  0.337092 \n",
      "    16  0.062500  0.336837  0.337092  0.337092  0.337092  0.337092 \n",
      "\n",
      "The final result is 0.337092335092 after 17 function evaluations.\n",
      "Time taken:  0.6124358177185059 seconds\n",
      "Number called to the function N: 78253\n",
      "tol value: 1e-05\n",
      "Romberg integration of <function vectorize1.<locals>.vfunc at 0x000001C38F0CEEA0> from [0, 1]\n",
      "\n",
      " Steps  StepSize   Results\n",
      "     1  1.000000  0.272198 \n",
      "     2  0.500000  0.320668  0.336825 \n",
      "     4  0.250000  0.333000  0.337111  0.337130 \n",
      "     8  0.125000  0.336072  0.337096  0.337095  0.337094 \n",
      "    16  0.062500  0.336839  0.337095  0.337095  0.337095  0.337095 \n",
      "\n",
      "The final result is 0.337094602061 after 17 function evaluations.\n",
      "Time taken:  1.3069257736206055 seconds\n",
      "Number called to the function N: 176497\n",
      "tol value: 3.162277660168379e-06\n",
      "Romberg integration of <function vectorize1.<locals>.vfunc at 0x000001C38F0F9840> from [0, 1]\n",
      "\n",
      " Steps  StepSize   Results\n",
      "     1  1.000000  0.272198 \n",
      "     2  0.500000  0.320669  0.336826 \n",
      "     4  0.250000  0.333001  0.337111  0.337130 \n",
      "     8  0.125000  0.336072  0.337096  0.337095  0.337095 \n",
      "    16  0.062500  0.336840  0.337095  0.337095  0.337095  0.337095 \n",
      "\n",
      "The final result is 0.337095361376 after 17 function evaluations.\n",
      "Time taken:  2.933079242706299 seconds\n",
      "Number called to the function N: 419651\n",
      "tol value: 1e-06\n",
      "Romberg integration of <function vectorize1.<locals>.vfunc at 0x000001C38F051EA0> from [0, 1]\n",
      "\n",
      " Steps  StepSize   Results\n",
      "     1  1.000000  0.272198 \n",
      "     2  0.500000  0.320669  0.336826 \n",
      "     4  0.250000  0.333001  0.337111  0.337130 \n",
      "     8  0.125000  0.336073  0.337097  0.337096  0.337095 \n",
      "    16  0.062500  0.336840  0.337096  0.337096  0.337096  0.337096 \n",
      "    32  0.031250  0.337032  0.337096  0.337096  0.337096  0.337096  0.337096 \n",
      "\n",
      "The final result is 0.337095671883 after 33 function evaluations.\n",
      "Time taken:  16.73896622657776 seconds\n",
      "Number called to the function N: 2760757\n",
      "tol value: 3.162277660168379e-07\n",
      "Romberg integration of <function vectorize1.<locals>.vfunc at 0x000001C38D96E6A8> from [0, 1]\n",
      "\n",
      " Steps  StepSize   Results\n",
      "     1  1.000000  0.272198 \n",
      "     2  0.500000  0.320669  0.336826 \n",
      "     4  0.250000  0.333001  0.337112  0.337131 \n",
      "     8  0.125000  0.336073  0.337097  0.337096  0.337095 \n",
      "    16  0.062500  0.336840  0.337096  0.337096  0.337096  0.337096 \n",
      "    32  0.031250  0.337032  0.337096  0.337096  0.337096  0.337096  0.337096 \n",
      "\n",
      "The final result is 0.337095746581 after 33 function evaluations.\n",
      "Time taken:  41.85832238197327 seconds\n",
      "Number called to the function N: 7350025\n",
      "tol value: 1e-07\n",
      "Romberg integration of <function vectorize1.<locals>.vfunc at 0x000001C38F3082F0> from [0, 1]\n",
      "\n",
      " Steps  StepSize   Results\n",
      "     1  1.000000  0.272198 \n",
      "     2  0.500000  0.320669  0.336826 \n",
      "     4  0.250000  0.333001  0.337112  0.337131 \n",
      "     8  0.125000  0.336073  0.337097  0.337096  0.337095 \n",
      "    16  0.062500  0.336840  0.337096  0.337096  0.337096  0.337096 \n",
      "    32  0.031250  0.337032  0.337096  0.337096  0.337096  0.337096  0.337096 \n",
      "\n",
      "The final result is 0.337095767213 after 33 function evaluations.\n",
      "Time taken:  95.26513338088989 seconds\n",
      "Number called to the function N: 17752903\n",
      "tol value: 3.162277660168379e-08\n"
     ]
    },
    {
     "data": {
      "image/png": "[encoded data removed]",
      "text/plain": [
       "<matplotlib.figure.Figure at 0x1c38db19da0>"
      ]
     },
     "metadata": {},
     "output_type": "display_data"
    },
    {
     "data": {
      "image/png": "[encoded data removed]",
      "text/plain": [
       "<matplotlib.figure.Figure at 0x1c38f1aca58>"
      ]
     },
     "metadata": {},
     "output_type": "display_data"
    },
    {
     "data": {
      "image/png": "[encoded data removed]",
      "text/plain": [
       "<matplotlib.figure.Figure at 0x1c38f06c518>"
      ]
     },
     "metadata": {},
     "output_type": "display_data"
    }
   ],
   "source": [
    "divmax_=20\n",
    "def fz(z,y,x):\n",
    "    N.append(1)  #note: using a list to count the number of calls may increase the computation time significantly.\n",
    "    return 1/(1+x**2+y**2+z**2)\n",
    "def fy(y,x):\n",
    "    return SI.romberg(fz,0,numpy.sqrt(numpy.abs(1-x**2-y**2)),args=(y,x),tol=tol_,divmax=divmax_)\n",
    "def fx(x):\n",
    "    return SI.romberg(fy,0,numpy.sqrt(numpy.abs(1-x**2)),args=(x,),tol=tol_,divmax=divmax_)\n",
    "\n",
    "NN=[]  #list collecting values of N- number of call to the integrand\n",
    "TOL=[] #list collecting tol values.\n",
    "TIME=[] #list collecting the time consumptions\n",
    "RESULT=[] #list collecting results of integration\n",
    "for i in range(0,16): \n",
    "    k=i/2   # go up by interval of 0.5\n",
    "    tol_=10**(-k)\n",
    "    rtol_=10**(-k)\n",
    "    N=[] #list used to count the number of calls to the main function\n",
    "    start = time.time()   #begin time measurement\n",
    "    RESULT.append(SI.romberg(fx,0,1,tol=tol_,show=True,divmax=divmax_))\n",
    "    end = time.time()     #end time measurement\n",
    "    print(\"Time taken: \",end - start,\"seconds\")\n",
    "    print(\"Number called to the function N:\",len(N))\n",
    "    print(\"tol value:\",tol_)\n",
    "    NN.append(len(N)) #storing relevant datas as lists\n",
    "    TOL.append(tol_)\n",
    "    TIME.append(end-start)\n",
    "    \n",
    "plt.plot(TOL,NN,'ro')\n",
    "plt.xlabel('tol')\n",
    "plt.ylabel('N')\n",
    "plt.title('N vs tol')\n",
    "plt.show()\n",
    "plt.loglog(TOL,NN,'ro')\n",
    "plt.xlabel('tol')\n",
    "plt.ylabel('N')\n",
    "plt.title('N vs tol in loglog')\n",
    "plt.show()\n",
    "plt.loglog(TOL,TIME,'ro')\n",
    "plt.xlabel('tol')\n",
    "plt.ylabel('Computation time(s)')\n",
    "plt.title('Computing time vs tol in loglog')\n",
    "plt.show()\n"
   ]
  },
  {
   "cell_type": "markdown",
   "metadata": {
    "collapsed": true
   },
   "source": [
    "The 60 second computation time bound seem to be broken when the tol value is between 1e-7 and 1e-8 (see the list below).\n",
    "Note that this value may be different than other codes since we used list to calculate the number of calls to the 3 variable integrand. Dealing with lists consume more time in general than using arithmetic operation to a single variable to count.\n",
    "\n",
    "3 plots are shown. The first is the 'regular' plot of N vs tol. Since our tol begins decreasing from the value of 1 and jumps to lower values in exponential fashion, it's hard to recognize any pattern, thus the second plot is N vs tol in log log scale for both x and y axis. The plot we obtained is roughly inversely linear.\n",
    "\n",
    "Lastly, Computation time vs tol in log log is plotted. The result seems quite similar to N vs tol in log log plot. This somewhat makes sense since time consumsed is rougly(but not directly) proportional to the number of calls to the integrand.\n",
    "\n",
    "Represented below, as the value of tolerance decreases, N and time consumption increases, and the result becomes more accurate. The result at the lowest tolerance value closely match the theoretical result we obtained in the spherical corodinate case (0.337095776639).  \n",
    "\n",
    "Anyone who favors low tolerance value must be cautious as the time for computation may explode. The key to numerical integration is keeping the balance between accuracy (tol) and the time consumption."
   ]
  },
  {
   "cell_type": "code",
   "execution_count": 48,
   "metadata": {
    "collapsed": false
   },
   "outputs": [
    {
     "name": "stdout",
     "output_type": "stream",
     "text": [
      "Tol                           N                             Time Consumption (s)          Result                        \n",
      "1.0                           27                            0.044043540954589844          0.32341143955                 \n",
      "0.31622776601683794           27                            0.000997781753540039          0.32341143955                 \n",
      "0.1                           33                            0.0010042190551757812         0.325780725762                \n",
      "0.03162277660168379           75                            0.0009911060333251953         0.332908761624                \n",
      "0.01                          149                           0.0030171871185302734         0.335071956273                \n",
      "0.0031622776601683794         253                           0.004000186920166016          0.336282508603                \n",
      "0.001                         645                           0.039015769958496094          0.336881777805                \n",
      "0.00031622776601683794        1365                          0.016010522842407227          0.337042423238                \n",
      "0.0001                        6063                          0.07006263732910156           0.337069531078                \n",
      "3.1622776601683795e-05        33219                         0.28218555450439453           0.337086074501                \n",
      "1e-05                         78253                         0.6124358177185059            0.337092335092                \n",
      "3.162277660168379e-06         176497                        1.3069257736206055            0.337094602061                \n",
      "1e-06                         419651                        2.933079242706299             0.337095361376                \n",
      "3.162277660168379e-07         2760757                       16.73896622657776             0.337095671883                \n",
      "1e-07                         7350025                       41.85832238197327             0.337095746581                \n",
      "3.162277660168379e-08         17752903                      95.26513338088989             0.337095767213                \n"
     ]
    }
   ],
   "source": [
    "print('%-30s%-30s%-30s%-30s' % ('Tol','N','Time Consumption (s)','Result'))\n",
    "for i in range(0,len(TIME)):\n",
    "    print('%-30s%-30i%-30s%-30s' %(TOL[i],NN[i],TIME[i],RESULT[i]))"
   ]
  },
  {
   "cell_type": "code",
   "execution_count": null,
   "metadata": {
    "collapsed": true
   },
   "outputs": [],
   "source": []
  }
 ],
 "metadata": {
  "anaconda-cloud": {},
  "kernelspec": {
   "display_name": "Python 3",
   "language": "python",
   "name": "python3"
  },
  "language_info": {
   "codemirror_mode": {
    "name": "ipython",
    "version": 3
   },
   "file_extension": ".py",
   "mimetype": "text/x-python",
   "name": "python",
   "nbconvert_exporter": "python",
   "pygments_lexer": "ipython3",
   "version": "3.5.2"
  }
 },
 "nbformat": 4,
 "nbformat_minor": 1
}
