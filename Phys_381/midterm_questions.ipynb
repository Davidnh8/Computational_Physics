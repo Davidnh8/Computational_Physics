{
 "cells": [
  {
   "cell_type": "markdown",
   "metadata": {},
   "source": [
    "# PHYS 381 midterm 2017\n",
    "\n",
    "A proton is located at the origin ${\\vec r}_1 = (x=0,y=0,z=0)$ in a Cartesian coordinate system.\n",
    "\n",
    "A positron (electron with positive charge) is located at ${\\vec r}_2 = (x=-L,y=b,z=0)$ with velocity ${\\vec v}_2 = (x=v_0,y=0,z=0)$.  \n",
    "\n",
    "We want to examine the motion of the positron using numerical integration of the Coulomb force \n",
    "  \n",
    "  $$\\vec F = k \\frac{q_1 q_2}{r^2} {\\hat r}_{12} $$\n",
    "\n",
    "and, when possible, compare these results to theory.\n",
    "\n",
    "For this question, $m_1 >> m_2$ so we can make the simplifying assumption that the proton is fixed at the origin.\n",
    "\n",
    "In general, the force on the positron will initially be very small, may increase as the charges approach, and will eventually become very small again as the separation increases.\n",
    "\n",
    "The quantity $b$ is usually called the \"impact parameter\".  The angle between the initial velocity ${\\vec v}_0$ and the final velocity vector is usually called the \"scattering angle\".\n",
    "\n",
    "https://en.wikipedia.org/wiki/File:Impctprmtr.png"
   ]
  },
  {
   "cell_type": "markdown",
   "metadata": {},
   "source": [
    "## Closest approach\n",
    "\n",
    "Assume that the positron initial conditions are $b=0$, $L=1~m$, and speed of $v=1000 m/s$ at $t=0$.  What is the smallest separation between the two charges and when does it occur?"
   ]
  },
  {
   "cell_type": "markdown",
   "metadata": {},
   "source": [
    "## Deflection angle\n",
    "\n",
    "Assume that the positron initial conditions are $b=1~mm$, $L=10~m$, and $v=1000 m/s$ at $t=0$.\n",
    "\n",
    "Use numerical integration to get the positron acceleration, speed, location, deflection angle, and distance from the proton versus time. Make useful plots of these quantities.\n",
    "\n",
    "What is the net change in kinetic energy of the positron between $t=0$ and $t=\\infty$?\n",
    "\n",
    "What is the deflection angle $\\theta$ between the initial and final velocity vectors?"
   ]
  },
  {
   "cell_type": "markdown",
   "metadata": {},
   "source": [
    "## Figures\n",
    "\n",
    "Plot scattering angles for 1000 m/s positrons over appropriate ranges of $b$ values.\n",
    "Plot impact parameters for 1000 m/s positrons over appropriate ranges of $\\theta$ values.\n",
    "Try to make these figures informative and useful."
   ]
  },
  {
   "cell_type": "markdown",
   "metadata": {},
   "source": [
    "## Impact parameter $b(\\theta)$\n",
    "\n",
    "Write a python function to calculate the impact parameter for a given scattering angle.  Use this function to determine $b$ for $\\theta=45^\\circ$ and $\\theta=90^\\circ$.  Hint: it may be helpful to think about this as a root-finding problem."
   ]
  }
 ],
 "metadata": {
  "anaconda-cloud": {},
  "kernelspec": {
   "display_name": "Python 3",
   "language": "python",
   "name": "python3"
  },
  "language_info": {
   "codemirror_mode": {
    "name": "ipython",
    "version": 3
   },
   "file_extension": ".py",
   "mimetype": "text/x-python",
   "name": "python",
   "nbconvert_exporter": "python",
   "pygments_lexer": "ipython3",
   "version": "3.5.2"
  }
 },
 "nbformat": 4,
 "nbformat_minor": 1
}
