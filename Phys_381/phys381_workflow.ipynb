{
 "cells": [
  {
   "cell_type": "raw",
   "metadata": {},
   "source": [
    "# PHYS 381 Workflow\n",
    "\n",
    "The Jupyter notebook provides a environment for organizing text, code, and figures.  It is relatively easy to learn while still providing access to most essential python functionality.  However, it is not necessarily the best tool for dealing with large projects.\n",
    "\n",
    "  "
   ]
  },
  {
   "cell_type": "markdown",
   "metadata": {},
   "source": [
    "An alternative paradigm uses one or more \".py\" files which contain collections of related source code.  For example, we might have a pair of functions and their testing framework (see below).  Defining these in a Jupyter notebook cell will make these two functions available for any subequent cells."
   ]
  },
  {
   "cell_type": "code",
   "execution_count": 7,
   "metadata": {
    "collapsed": false
   },
   "outputs": [
    {
     "name": "stdout",
     "output_type": "stream",
     "text": [
      "current __name__ is:  __main__\n"
     ]
    }
   ],
   "source": [
    "def function1(arg):\n",
    "    return\n",
    "\n",
    "def function2(arg):\n",
    "    return\n",
    "\n",
    "def test():\n",
    "    assert( function1(0) is None)\n",
    "    assert( function2(0) is None)\n",
    "\n",
    "print(\"current __name__ is: \",__name__)    \n",
    "if __name__ == \"__main__\":\n",
    "    test()"
   ]
  },
  {
   "cell_type": "markdown",
   "metadata": {},
   "source": [
    "Note the variable called \\__name\\__ with double leading and trailing underscores.  In python this indicates a system variable, so we should avoid changing it unless we really know what we're doing.  Jupyter runs by default at the \"\\__main\\__\" level, so the test function will be called every time this cell is compiled."
   ]
  },
  {
   "cell_type": "markdown",
   "metadata": {},
   "source": [
    "Exactly the same code could be placed into a file called \"library1.py\".  This could be done using any basic text editor or a more powerful integrated development environment (IDE, see Spyder below).  Once that's done, we can import our new library in exactly the same way as for any other package.  In fact, if we go looking at any other packages, we will find that they're simply collections of functions and other python code."
   ]
  },
  {
   "cell_type": "code",
   "execution_count": 10,
   "metadata": {
    "collapsed": false
   },
   "outputs": [],
   "source": [
    "import library1"
   ]
  },
  {
   "cell_type": "markdown",
   "metadata": {},
   "source": [
    "As usual, we can use the \"dir()\" command to examine the contents of any object or variable"
   ]
  },
  {
   "cell_type": "code",
   "execution_count": 11,
   "metadata": {
    "collapsed": false
   },
   "outputs": [
    {
     "data": {
      "text/plain": [
       "['__builtins__',\n",
       " '__cached__',\n",
       " '__doc__',\n",
       " '__file__',\n",
       " '__loader__',\n",
       " '__name__',\n",
       " '__package__',\n",
       " '__spec__',\n",
       " 'function1',\n",
       " 'function2',\n",
       " 'test']"
      ]
     },
     "execution_count": 11,
     "metadata": {},
     "output_type": "execute_result"
    }
   ],
   "source": [
    "dir( library1 )"
   ]
  },
  {
   "cell_type": "markdown",
   "metadata": {},
   "source": [
    "We can access any function inside our library"
   ]
  },
  {
   "cell_type": "code",
   "execution_count": 12,
   "metadata": {
    "collapsed": true
   },
   "outputs": [],
   "source": [
    "result = library1.function1(0)"
   ]
  },
  {
   "cell_type": "code",
   "execution_count": 13,
   "metadata": {
    "collapsed": false
   },
   "outputs": [
    {
     "name": "stdout",
     "output_type": "stream",
     "text": [
      "library1\n"
     ]
    }
   ],
   "source": [
    "print( library1.__name__ )"
   ]
  },
  {
   "cell_type": "markdown",
   "metadata": {},
   "source": [
    "Note that when \"library1.py\" is imported by another program, the \\__name\\__ will not be \"\\__main\\__\".  This means that the \"test\" function will not be executed as a result of importing.\n",
    "\n"
   ]
  },
  {
   "cell_type": "markdown",
   "metadata": {},
   "source": [
    "# Spyder \n",
    "\n",
    "Very large projects may involve dozens or hundreds of \".py\" files which may rely on each other in complicated ways.  This can be difficult to navigate with a simple text editor.  There are several good integrated development environments (IDEs) for python.  For this course, we will use Spyder (version 2).  This consists of multiple panes inside a larger window.\n",
    "\n",
    "In general, you will have one or more \"Consoles\".  These may be either \"Python\" or \"IPython\", which supports magic commands ie. %%timeit%%.  You may also be editing one or more files.  At some point you can run a file and see the resulting output in the console window.\n",
    "\n",
    "## Menu: Run\n",
    "### F5: run current editor window contents\n",
    "### F9: run selection\n",
    "\n",
    "## Editor\n",
    "\n",
    "## History\n",
    "\n",
    "## Python consoles\n",
    "\n",
    "## IPython consoles\n",
    "\n",
    "## Assorted\n",
    "\n",
    "### Object inspector\n",
    "\n",
    "### Variable explorer\n",
    "\n",
    "### File explorer\n",
    "\n",
    "### Static code analysis\n",
    "\n",
    "\n"
   ]
  },
  {
   "cell_type": "code",
   "execution_count": null,
   "metadata": {
    "collapsed": true
   },
   "outputs": [],
   "source": []
  }
 ],
 "metadata": {
  "anaconda-cloud": {},
  "kernelspec": {
   "display_name": "Python 3",
   "language": "python",
   "name": "python3"
  },
  "language_info": {
   "codemirror_mode": {
    "name": "ipython",
    "version": 3
   },
   "file_extension": ".py",
   "mimetype": "text/x-python",
   "name": "python",
   "nbconvert_exporter": "python",
   "pygments_lexer": "ipython3",
   "version": "3.5.2"
  }
 },
 "nbformat": 4,
 "nbformat_minor": 1
}
