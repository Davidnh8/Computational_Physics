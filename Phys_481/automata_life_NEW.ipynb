{
 "cells": [
  {
   "cell_type": "markdown",
   "metadata": {},
   "source": [
    "# Automata and Life\n",
    "Physics 481 Fall 2017 Week 3\n",
    "\n",
    "au·tom·a·ton\n",
    "ôˈtämədən,ôˈtäməˌtän\n",
    "noun\n",
    "plural noun: automata\n",
    "\n",
    " +a moving mechanical device made in imitation of a human being.\n",
    "synonyms:\trobot, android, cyborg, droid, bot\n",
    "\"assembly-line automatons\"\n",
    "\n",
    " +a machine that performs a function according to a predetermined set of coded instructions, especially one capable of a range of programmed responses to different circumstances.\n",
    "used in similes and comparisons to refer to a person who seems to act in a mechanical or unemotional way."
   ]
  },
  {
   "cell_type": "markdown",
   "metadata": {},
   "source": [
    "## Cellular automata\n",
    "\n",
    "Read at least the first link:\n",
    "\n",
    "    http://natureofcode.com/book/chapter-7-cellular-automata/\n",
    "\n",
    "    https://plato.stanford.edu/entries/cellular-automata/index.html\n",
    "\n",
    "    https://en.wikipedia.org/wiki/Cellular_automaton\n",
    "\n",
    "in order to understand how to calculate and classify basic 1-dimensional automata.\n",
    "\n",
    "Write a program to generate a sequence for $N=64$ grid cells and an arbitrary rule eg.\n",
    "\n",
    "    ncells = 64\n",
    "    state = np.zeros(ncells, dtype=np.int8 ) \n",
    "    state[ncells//2] = 1  # initialize one cell near the middle\n",
    "  \n",
    "    nsteps = 999\n",
    "    for i in range(1,nsteps):\n",
    "        state = cellular_step( state, rule=18)\n",
    "\n",
    "Determine which 5 rules appear to be most random by estimating steady-state entropy after many steps.\n",
    "\n",
    "Write a function to generate a pseudorandom sequence 64-bit integer based on a cellular automaton using the highest entropy rule.\n",
    "  \n",
    "Optional: read more about other examples and applications of cellular automata:  \n",
    "  \n",
    "    https://en.wikipedia.org/wiki/Nagel%E2%80%93Schreckenberg_model\n",
    "  \n",
    "    http://mathworld.wolfram.com/WireWorld.html  \n",
    "  \n",
    "  "
   ]
  },
  {
   "cell_type": "code",
   "execution_count": 1,
   "metadata": {
    "collapsed": true
   },
   "outputs": [],
   "source": [
    "import numpy as np\n",
    "import matplotlib.pyplot as plt\n",
    "%matplotlib inline\n",
    "\n"
   ]
  },
  {
   "cell_type": "markdown",
   "metadata": {},
   "source": [
    "### decimal to binary\n",
    "\n",
    "There are several different ways of converting a decimal integer into a binary value.  Perhaps the most obvious is \"np.unpackbits\" which returns a list of 0's and 1's.  The \"np.binary_repr\" function returns a string, as does \"str.format\" and the built-in \"bin\" function (although more work may be required to ensure leading 0's).\n",
    "\n",
    "In the unlikely event that this operation is a computational bottleneck, we should probably use the \"bin\" method.  \n",
    "\n",
    "Note: converting a string to a list of individual characters can be done with something like this:\n",
    "\n",
    "        blist = []*len(s)\n",
    "        for i,b in enumerate(s):\n",
    "            blist[-i] = b\n",
    "\n",
    "or:\n",
    "\n",
    "        blist = []\n",
    "        for b in s[::-1]:\n",
    "            blist.append(b)\n",
    "\n",
    "or:\n",
    "\n",
    "        blist = [b for b in s][::-1] "
   ]
  },
  {
   "cell_type": "code",
   "execution_count": 4,
   "metadata": {},
   "outputs": [
    {
     "name": "stdout",
     "output_type": "stream",
     "text": [
      "[0 1 1 0 1 1 1 0]\n",
      "250 µs ± 9.75 µs per loop (mean ± std. dev. of 7 runs, 1000 loops each)\n"
     ]
    }
   ],
   "source": [
    "rule_number = 110\n",
    "dec2bin = lambda x: np.unpackbits( np.uint8(x) )\n",
    "print( dec2bin(rule_number) ) \n",
    "%timeit [dec2bin(rule_number) for rule_number in range(256)]"
   ]
  },
  {
   "cell_type": "code",
   "execution_count": 5,
   "metadata": {},
   "outputs": [
    {
     "name": "stdout",
     "output_type": "stream",
     "text": [
      "01101110\n",
      "233 µs ± 882 ns per loop (mean ± std. dev. of 7 runs, 1000 loops each)\n"
     ]
    }
   ],
   "source": [
    "dec2bin = lambda x: np.binary_repr(x, width=8)\n",
    "print( dec2bin(rule_number) ) \n",
    "%timeit [dec2bin(rule_number) for rule_number in range(256)]"
   ]
  },
  {
   "cell_type": "code",
   "execution_count": 6,
   "metadata": {},
   "outputs": [
    {
     "name": "stdout",
     "output_type": "stream",
     "text": [
      "01101110\n",
      "107 µs ± 1.27 µs per loop (mean ± std. dev. of 7 runs, 10000 loops each)\n"
     ]
    }
   ],
   "source": [
    "dec2bin = lambda x: '{:08b}'.format(x)\n",
    "print( dec2bin(rule_number) ) \n",
    "%timeit [dec2bin(rule_number) for rule_number in range(256)]"
   ]
  },
  {
   "cell_type": "code",
   "execution_count": 7,
   "metadata": {},
   "outputs": [
    {
     "name": "stdout",
     "output_type": "stream",
     "text": [
      "0b1101110\n",
      "44.9 µs ± 391 ns per loop (mean ± std. dev. of 7 runs, 10000 loops each)\n"
     ]
    }
   ],
   "source": [
    "dec2bin = lambda x:  bin(rule_number)\n",
    "print( dec2bin(rule_number) ) \n",
    "%timeit [dec2bin(rule_number) for rule_number in range(256)]"
   ]
  },
  {
   "cell_type": "code",
   "execution_count": 8,
   "metadata": {},
   "outputs": [
    {
     "name": "stdout",
     "output_type": "stream",
     "text": [
      "01101110\n",
      "101 µs ± 991 ns per loop (mean ± std. dev. of 7 runs, 10000 loops each)\n"
     ]
    }
   ],
   "source": [
    "dec2bin = lambda x:  bin(rule_number)[2:].zfill(8)\n",
    "print( dec2bin(rule_number) ) \n",
    "%timeit [dec2bin(rule_number) for rule_number in range(256)]"
   ]
  },
  {
   "cell_type": "markdown",
   "metadata": {},
   "source": [
    "### 3-bit lookup\n",
    "\n",
    "A 1-dimensional CA requires that we use 3-bits (left,middle,right) to look up the result for a given rule.\n",
    "\n",
    "One way is to use a \"dict\" indexed by a tuple containing the three bits.  Another would be to convert the tuple into an integer in the range 0-7 and use that to index a list. The simplest and fastest approach is based on numpy array indexing, which is discussed in more detail below."
   ]
  },
  {
   "cell_type": "code",
   "execution_count": 18,
   "metadata": {},
   "outputs": [
    {
     "name": "stdout",
     "output_type": "stream",
     "text": [
      "665 ns ± 5.12 ns per loop (mean ± std. dev. of 7 runs, 1000000 loops each)\n",
      "[0, 1, 1, 0, 1, 1, 1, 0]\n"
     ]
    }
   ],
   "source": [
    "blist = np.unpackbits( np.uint8(rule_number) )\n",
    "\n",
    "truple = [(0,0,0), (0,0,1), (0,1,0), (0,1,1), (1,0,0), (1,0,1), (1,1,0), (1,1,1)]\n",
    "\n",
    "# we can generate an index to go with each value of a loop\n",
    "#\n",
    "lookup_dict = {}\n",
    "for indx,lmr in zip(range(8),truple):\n",
    "    lookup_dict[lmr] = blist[indx]\n",
    "\n",
    "# or use enumerate to do the same thing automatically\n",
    "#\n",
    "lookup_dict = {}\n",
    "for indx,lmr in enumerate(truple):\n",
    "    lookup_dict[lmr] = blist[indx]\n",
    "\n",
    "\n",
    "%timeit x = [ lookup_dict[i] for i in truple]\n",
    "print([ lookup_dict[i] for i in truple] )"
   ]
  },
  {
   "cell_type": "code",
   "execution_count": 19,
   "metadata": {},
   "outputs": [
    {
     "name": "stdout",
     "output_type": "stream",
     "text": [
      "821 ns ± 10.4 ns per loop (mean ± std. dev. of 7 runs, 1000000 loops each)\n"
     ]
    }
   ],
   "source": [
    "blist = np.unpackbits( np.uint8(rule_number) )\n",
    "\n",
    "lookup_list = [None]*8\n",
    "for indx in range(8):\n",
    "    lookup_list[indx] = blist[indx]\n",
    "    \n",
    "%timeit [lookup_list[i] for i in range(8)]"
   ]
  },
  {
   "cell_type": "code",
   "execution_count": 21,
   "metadata": {},
   "outputs": [
    {
     "name": "stdout",
     "output_type": "stream",
     "text": [
      "1.77 µs ± 8.02 ns per loop (mean ± std. dev. of 7 runs, 1000000 loops each)\n",
      "1.77 µs ± 4.36 ns per loop (mean ± std. dev. of 7 runs, 1000000 loops each)\n",
      "700 ns ± 1.29 ns per loop (mean ± std. dev. of 7 runs, 1000000 loops each)\n"
     ]
    }
   ],
   "source": [
    "blist = np.unpackbits( np.uint8(rule_number) )\n",
    "lookup_array = np.array( blist, dtype=np.uint8 )\n",
    "indx = np.arange(8,dtype=np.int)\n",
    "\n",
    "%timeit x = [blist[i] for i in indx]\n",
    "%timeit x = [lookup_array[i] for i in indx]\n",
    "%timeit x = lookup_array[indx]"
   ]
  },
  {
   "cell_type": "markdown",
   "metadata": {},
   "source": [
    "### numpy array indexing\n",
    "\n",
    "We can select individual elements from a list, or a range of elements\n",
    "\n",
    "    list( [1,2,3,3] ) [1:3]\n",
    "    \n",
    "The same is true for Numpy arrays.  However, there are other ways to select elements.  A list or array of index values will result in a new array that is the same size as the index.  Each element will be the corresponding element of the original array. "
   ]
  },
  {
   "cell_type": "code",
   "execution_count": 107,
   "metadata": {},
   "outputs": [
    {
     "name": "stdout",
     "output_type": "stream",
     "text": [
      "range(0, 9)\n",
      "0\n",
      "[0 1 2 3 4 5 6 7 8]\n",
      "0\n",
      "[0 2]\n",
      "[0 2 6 7]\n",
      "[0 2 0 4 0 6 0 8]\n"
     ]
    }
   ],
   "source": [
    "x = range(9) ; print(x)\n",
    "print(x[0])\n",
    "# print(x[0,2])\n",
    "# print(x[ [0,2] ])\n",
    "\n",
    "x = np.array(range(9)) ; print(x)\n",
    "print(x[0])\n",
    "#print(x[0,2])\n",
    "print(x[ [0,2] ])\n",
    "print(x[ [0,2,6,7] ])\n",
    "print(x[ [0,2,0,4,0,6,0,8] ])"
   ]
  },
  {
   "cell_type": "markdown",
   "metadata": {},
   "source": [
    "## Example cellular_step"
   ]
  },
  {
   "cell_type": "code",
   "execution_count": null,
   "metadata": {
    "collapsed": true
   },
   "outputs": [],
   "source": [
    "def cellular_step(value, rule_number=110):\n",
    "    \n",
    "    lookup = np.unpackbits( np.uint8(rule_number) )[::-1]\n",
    "    triple = np.roll(value,+1)*4 + value*2 + np.roll(value,-1)\n",
    "    \n",
    "    return lookup[triple]"
   ]
  },
  {
   "cell_type": "code",
   "execution_count": 41,
   "metadata": {},
   "outputs": [
    {
     "data": {
      "text/plain": [
       "<matplotlib.image.AxesImage at 0x1ffb6cf2898>"
      ]
     },
     "execution_count": 41,
     "metadata": {},
     "output_type": "execute_result"
    },
    {
     "data": {
      "image/png": "[encoded data removed]",
      "text/plain": [
       "<matplotlib.figure.Figure at 0x1ffb6ca0400>"
      ]
     },
     "metadata": {},
     "output_type": "display_data"
    }
   ],
   "source": [
    "value = np.zeros(320, dtype=np.int8)\n",
    "value[ len(value)//2 ] = 1\n",
    "\n",
    "nsteps = 360\n",
    "grid = np.ndarray( [nsteps, len(value)], dtype=np.int8)\n",
    "for n in range(nsteps):\n",
    "    value = cellular_step(value, rule_number=60)\n",
    "    grid[n,:] = value\n",
    "    \n",
    "plt.imshow(grid)"
   ]
  },
  {
   "cell_type": "code",
   "execution_count": 97,
   "metadata": {},
   "outputs": [
    {
     "name": "stdout",
     "output_type": "stream",
     "text": [
      " "
     ]
    }
   ],
   "source": [
    "nsteps = 9999\n",
    "%prun for n in range(nsteps): value = cellular_step(value, rule_number=60)"
   ]
  },
  {
   "cell_type": "markdown",
   "metadata": {},
   "source": [
    "## The game of life\n",
    "\n",
    "Read this Wikipedia page: https://en.wikipedia.org/wiki/Conway%27s_Game_of_Life\n",
    "\n",
    "Read the python file in D2L: phys481_game-of-life.py\n",
    "and work your way through different implementations of the algorithm in stepper0, stepper1...\n",
    "and play around with the results.\n",
    "\n",
    "Examine the steady-state (long time) behaviour for an initial configuration with 1/2 the cells randomly turned on ($p=0.5$).\n",
    "Calculate mean & standard deviation for at least 3 runs to estimate uncertainty.\n",
    "\n",
    "Examine the steady-state behaviour for a range of initial random densities ranging from $p=0$ to $p=1$.\n",
    "Discuss your results."
   ]
  },
  {
   "cell_type": "markdown",
   "metadata": {},
   "source": [
    "# import resources\n",
    "\n",
    "The \"import\" command loads collections of code that are not part of the core python distribution.  We have used this to obtain plotting tools from matplotlib.pyplot and numerical tools from numpy.\n",
    "\n",
    "For example, assume that the file \"phys481_game_of_life.py\" contains the python code as listed below.  Calling the import command will execute all the code in that file exactly as if we ran it from a Jupyter cell.  This can be used to define functions without taking up pages of space."
   ]
  },
  {
   "cell_type": "code",
   "execution_count": 12,
   "metadata": {},
   "outputs": [
    {
     "data": {
      "text/plain": [
       "2.5"
      ]
     },
     "execution_count": 12,
     "metadata": {},
     "output_type": "execute_result"
    }
   ],
   "source": [
    "plist=[1/2,1/2,1/2,1/2,1/2]\n",
    "H=0.0\n",
    "for p in plist:\n",
    "    H+=-np.log(p)*p/np.log(2)\n",
    "H"
   ]
  },
  {
   "cell_type": "code",
   "execution_count": 13,
   "metadata": {},
   "outputs": [
    {
     "data": {
      "text/plain": [
       "2.3863137138648347"
      ]
     },
     "execution_count": 13,
     "metadata": {},
     "output_type": "execute_result"
    }
   ],
   "source": [
    "plist=[2/5,1/5,1/5,1/5,1/5]\n",
    "H=0.0\n",
    "for p in plist:\n",
    "    H+=-np.log(p)*p/np.log(2)\n",
    "H"
   ]
  },
  {
   "cell_type": "code",
   "execution_count": 122,
   "metadata": {
    "collapsed": true
   },
   "outputs": [],
   "source": [
    "import phys481_game_of_life"
   ]
  },
  {
   "cell_type": "code",
   "execution_count": 123,
   "metadata": {},
   "outputs": [
    {
     "name": "stdout",
     "output_type": "stream",
     "text": [
      "Check agreement between different algorithms\n",
      "<function stepper0 at 0x7fc5a348aea0> True\n",
      "<function stepper1 at 0x7fc5a348ac80> True\n",
      "<function stepper2 at 0x7fc5a348abf8> True\n",
      "<function stepper3 at 0x7fc5a348ab70> True\n",
      "<function stepper4 at 0x7fc5a348a9d8> True\n",
      "Compare speed of different algorithms (lower is better)\n",
      "  0.01909 stepper4\n",
      "  0.02042 stepper3\n",
      "  0.02079 stepper2\n",
      "  0.54507 stepper1\n",
      "  0.83978 stepper0\n"
     ]
    }
   ],
   "source": [
    "# %load phys481_game-of-life.py\n",
    "\"\"\"\n",
    "Created on Mon Oct 31 17:53:50 2016\n",
    "\n",
    "@author: bjackel\n",
    "\"\"\"\n",
    "\n",
    "\"\"\"\n",
    "# example with animation\n",
    "grid = np.random.rand(401,501) > 0.5\n",
    "p = plt.matshow(grid)\n",
    "grid = life_generation_stepper(grid,nsteps=10000,plot=p)\n",
    "\"\"\"\n",
    "\n",
    "import numpy as np\n",
    "import matplotlib.pyplot as plt\n",
    "\n",
    "\n",
    "def life_generation_stepper(grid, nsteps=1, plot=None):\n",
    "    \n",
    "    # get most recently used plotting window\n",
    "    fig = list(map(plt.figure, plt.get_fignums()))[-1]\n",
    "\n",
    "    nx, ny = grid.shape\n",
    "    x, y = np.meshgrid( np.arange(nx), np.arange(ny), indexing='ij' )\n",
    "    xx = np.array([x+1, x-1, x+0, x+0, x+1, x-1, x+1, x-1]) % nx\n",
    "    yy = np.array([y+0, y+0, y+1, y-1, y+1, y-1, y-1, y+1]) % ny\n",
    "\n",
    "    for nstep in range(nsteps):\n",
    "        nnear = np.sum( grid[xx,yy] , axis=0 )\n",
    "        \n",
    "        grid[(nnear < 2) | (nnear > 3)] = 0\n",
    "        grid[nnear==3] = 1\n",
    "\n",
    "        if plot is not None:\n",
    "            plot.set_data(grid)\n",
    "            plot.axes.set_title(str(nstep))\n",
    "            fig.canvas.draw() ; fig.canvas.flush_events() #update plot window\n",
    "   \n",
    "    return grid\n",
    "\n",
    "    \n",
    "def stepper0(grid, nsteps=1, plot=None):\n",
    "    \"\"\"\n",
    "    One step in Conway's game of life with wrap-around edges.\n",
    "    \n",
    "    Loop over all pixels in grid, and over all neighbors (very slow)\n",
    "    \"\"\"\n",
    "    \n",
    "    nx, ny = grid.shape\n",
    "    xx, yy =  np.arange(nx), np.arange(ny) \n",
    "    newgrid = grid.copy()\n",
    "    \n",
    "    for x in xx:\n",
    "        for y in yy:\n",
    "            \n",
    "            nnear = 0  # count number of neighbors\n",
    "            \n",
    "            for dx in [-1,0,1]:\n",
    "                for dy in [-1,0,1]:\n",
    "                    if (dx!=0 or dy!=0):  # don't include the cell itself\n",
    "                        nnear += grid[ (x+dx)%nx, (y+dy)%ny ]\n",
    "\n",
    "            # dead cells with three live neighbours become live cells\n",
    "            if (grid[x,y] == 0):\n",
    "                if nnear == 3:\n",
    "                    newgrid[x,y]=1\n",
    "\n",
    "            # live cells with fewer than two or more than 3 live neighbors die\n",
    "            else:\n",
    "                if nnear < 2:\n",
    "                    newgrid[x,y]=0\n",
    "                if nnear >3 :\n",
    "                    newgrid[x,y]=0\n",
    "                                                            \n",
    "    return newgrid\n",
    "    \n",
    "\n",
    "def stepper1(grid, nsteps=1, plot=None):\n",
    "    \"\"\"\n",
    "    One step in Conway's game of life with wrap-around edges.\n",
    "    \n",
    "    Loop over all pixels in grid, and then add all 8 neighbours (slow)\n",
    "    \"\"\"\n",
    "    nx, ny = grid.shape\n",
    "    xx, yy =  np.arange(nx), np.arange(ny) \n",
    "    newgrid = grid.copy()\n",
    "    \n",
    "    dx = np.array( [1, -1, 0, 0, 1, -1, 1, -1] )\n",
    "    dy = np.array( [0, 0, 1, -1, 1, -1, -1, 1] )\n",
    "               \n",
    "    for x in xx:\n",
    "        for y in yy:\n",
    "            \n",
    "            nnear = np.sum( grid[ (x+dx)%nx, (y+dy)%ny ] )\n",
    "    \n",
    "            if (nnear < 2) or (nnear > 3): \n",
    "                newgrid[x,y] = 0\n",
    "            elif (nnear == 3):\n",
    "                newgrid[x,y] = 1\n",
    "                                            \n",
    "    return newgrid    \n",
    "    \n",
    "\n",
    "def stepper2(grid, nsteps=1, plot=None):\n",
    "    \"\"\"\n",
    "    One step in Conway's game of life with wrap-around edges.\n",
    "    \n",
    "    Loop over all neighbor shifts, adding an entire grid  (fast)\n",
    "    \"\"\"\n",
    "    \n",
    "    nx, ny = grid.shape\n",
    "    xx, yy = np.meshgrid( np.arange(nx), np.arange(ny), indexing='ij' )\n",
    "\n",
    "    nnear = 0\n",
    "    newgrid = grid.copy()\n",
    "\n",
    "    for dx in [-1,0,1]:\n",
    "        for dy in [-1,0,1]:\n",
    "            if (dx==0 and dy==0): continue\n",
    "            nnear += grid[ (xx+dx)%nx,(yy+dy)%ny ]\n",
    "    \n",
    "    newgrid[(grid>0) & (nnear<2)] = 0\n",
    "    newgrid[(grid>0) & (nnear>3)] = 0\n",
    "    newgrid[(grid==0) & (nnear==3)] = 1\n",
    "   \n",
    "    return newgrid\n",
    "\n",
    "\n",
    "def stepper3(grid, nsteps=1, plot=None):\n",
    "    \"\"\"\n",
    "    One step in Conway's game of life with wrap-around edges.\n",
    "    \n",
    "    Try cleaning up the neighbour loops (faster?)\n",
    "    \"\"\"\n",
    "    nx, ny = grid.shape\n",
    "    xx, yy = np.meshgrid( np.arange(nx), np.arange(ny), indexing='ij' )\n",
    "    dxy = [(1,0), (-1,0), (0,1), (0,-1), (1,1), (-1,-1), (1,-1), (-1,1) ]\n",
    "    \n",
    "    newgrid = grid.copy()           \n",
    "    nnear = 0\n",
    "    \n",
    "    for dx,dy in dxy:\n",
    "        nnear += grid[(xx+dx)%nx,(yy+dy)%ny] \n",
    "    \n",
    "    newgrid[nnear < 2] = 0  \n",
    "    newgrid[nnear > 3] = 0\n",
    "    newgrid[nnear==3] = 1\n",
    "   \n",
    "    return newgrid\n",
    "\n",
    "\n",
    "def stepper4(grid, nsteps=1, plot=None):\n",
    "    \"\"\"\n",
    "    One step in Conway's game of life with wrap-around edges.\n",
    "    \n",
    "    -move more calculations outside loop (fastest?)\n",
    "    -reuse input grid for output\n",
    "    \"\"\"\n",
    "    nx, ny = grid.shape\n",
    "    x, y = np.meshgrid( np.arange(nx), np.arange(ny), indexing='ij' )\n",
    "    \n",
    "    xx = np.array([x+1, x-1, x+0, x+0, x+1, x-1, x+1, x-1]) % nx\n",
    "    yy = np.array([y+0, y+0, y+1, y-1, y+1, y-1, y-1, y+1]) % ny\n",
    "\n",
    "    # grid[xx,yy].shape = 8,nx,ny  <= add up neighbours \n",
    "    # note: numpy will automatically convert boolean to integer before summing\n",
    "    nnear = np.sum( grid[xx,yy] , axis=0 )\n",
    "        \n",
    "    grid[(nnear < 2) | (nnear > 3)] = 0\n",
    "    grid[nnear==3] = 1\n",
    "\n",
    "    return grid\n",
    "    \n",
    "    \n",
    "      \n",
    "# the code below will not run if this file is \"included\"\n",
    "#\n",
    "if __name__ == '__main__':\n",
    "\n",
    "    print('Check agreement between different algorithms')\n",
    "    grid = np.random.rand(31,21) >= 0.5  # don't use a square grid\n",
    "    newgrid = stepper0(grid, nsteps=1)\n",
    "    stepfunclist = [stepper0, stepper1, stepper2, stepper3, stepper4]\n",
    "    \n",
    "    for stepfunc in stepfunclist:\n",
    "        test = stepfunc(grid)\n",
    "        print( str(stepfunc), np.all(test == newgrid) )\n",
    "        \n",
    "    \n",
    "    print('Compare speed of different algorithms (lower is better)')\n",
    "    import timeit\n",
    "    times = {}\n",
    "    for stepfunc in stepfunclist:\n",
    "        command = 'ng = {}(g)'.format(stepfunc.__name__)\n",
    "        setup = 'from __main__ import {}; import numpy as np; g=(np.random.rand(31,21)>=0.5)'.format(stepfunc.__name__)\n",
    "        times[stepfunc.__name__] = timeit.timeit(command,setup=setup, number=100)\n",
    "    #t = timeit.timeit('ng = stepper0(grid)', setup='from __main__ import stepper0; import numpy as np; grid=np.random.rand(31,21)>=0.5', number=100)\n",
    "    timeinfo = [ '{:9.5f} {}'.format(t,n) for (n,t) in times.items() ]\n",
    "    print( '\\n'.join( sorted(timeinfo) ) )\n",
    "    \n",
    "#newgrid = life_generation_stepper(grid, nsteps=1)\n",
    "#p=plt.imshow(grid, interpolation='nearest')    \n",
    "#p = plt.matshow(grid)\n",
    "#newgrid = life_generation_stepper2(grid, nsteps=100, plot=p)\n",
    "#p = plt.imshow(grid)\n",
    "    "
   ]
  },
  {
   "cell_type": "markdown",
   "metadata": {
    "collapsed": true
   },
   "source": [
    "## \\_\\_name\\_\\_ == \\_\\_main\\_\\_\n",
    "\n",
    "Calling \"import\" will automatically execute everything in a python file.  Sometimes this is inconvenient.  For example, when writing and debugging a library we might want to run some tests or generate some plots to confirm that everything is working correctly.  However, some other user may want to import our library without running our diagnostic code.\n",
    "\n",
    "One way to accomplish this might be to have some comments containing the test code.  We could uncomment it whenever we want to check that everything is okay, then turn it back into a comment when we were done.  This is a bit tedious and could cause problems if the code was imported while we were working on it.\n",
    "\n",
    "One solution is to check whether the file is being run directly or as part of an import command.  This can be done by looking at the \\_\\_name\\_\\_ system variable which will only be set to \\_\\_main\\_\\_ if the file is *not* being imported."
   ]
  },
  {
   "cell_type": "code",
   "execution_count": 124,
   "metadata": {},
   "outputs": [
    {
     "name": "stdout",
     "output_type": "stream",
     "text": [
      "__main__\n"
     ]
    }
   ],
   "source": [
    "print( __name__ )"
   ]
  },
  {
   "cell_type": "code",
   "execution_count": 113,
   "metadata": {},
   "outputs": [
    {
     "data": {
      "text/html": [
       "<style type=\"text/css\">.highlight .hll { background-color: #ffffcc }\n",
       ".highlight  { background: #f8f8f8; }\n",
       ".highlight .c { color: #408080; font-style: italic } /* Comment */\n",
       ".highlight .err { border: 1px solid #FF0000 } /* Error */\n",
       ".highlight .k { color: #008000; font-weight: bold } /* Keyword */\n",
       ".highlight .o { color: #666666 } /* Operator */\n",
       ".highlight .ch { color: #408080; font-style: italic } /* Comment.Hashbang */\n",
       ".highlight .cm { color: #408080; font-style: italic } /* Comment.Multiline */\n",
       ".highlight .cp { color: #BC7A00 } /* Comment.Preproc */\n",
       ".highlight .cpf { color: #408080; font-style: italic } /* Comment.PreprocFile */\n",
       ".highlight .c1 { color: #408080; font-style: italic } /* Comment.Single */\n",
       ".highlight .cs { color: #408080; font-style: italic } /* Comment.Special */\n",
       ".highlight .gd { color: #A00000 } /* Generic.Deleted */\n",
       ".highlight .ge { font-style: italic } /* Generic.Emph */\n",
       ".highlight .gr { color: #FF0000 } /* Generic.Error */\n",
       ".highlight .gh { color: #000080; font-weight: bold } /* Generic.Heading */\n",
       ".highlight .gi { color: #00A000 } /* Generic.Inserted */\n",
       ".highlight .go { color: #888888 } /* Generic.Output */\n",
       ".highlight .gp { color: #000080; font-weight: bold } /* Generic.Prompt */\n",
       ".highlight .gs { font-weight: bold } /* Generic.Strong */\n",
       ".highlight .gu { color: #800080; font-weight: bold } /* Generic.Subheading */\n",
       ".highlight .gt { color: #0044DD } /* Generic.Traceback */\n",
       ".highlight .kc { color: #008000; font-weight: bold } /* Keyword.Constant */\n",
       ".highlight .kd { color: #008000; font-weight: bold } /* Keyword.Declaration */\n",
       ".highlight .kn { color: #008000; font-weight: bold } /* Keyword.Namespace */\n",
       ".highlight .kp { color: #008000 } /* Keyword.Pseudo */\n",
       ".highlight .kr { color: #008000; font-weight: bold } /* Keyword.Reserved */\n",
       ".highlight .kt { color: #B00040 } /* Keyword.Type */\n",
       ".highlight .m { color: #666666 } /* Literal.Number */\n",
       ".highlight .s { color: #BA2121 } /* Literal.String */\n",
       ".highlight .na { color: #7D9029 } /* Name.Attribute */\n",
       ".highlight .nb { color: #008000 } /* Name.Builtin */\n",
       ".highlight .nc { color: #0000FF; font-weight: bold } /* Name.Class */\n",
       ".highlight .no { color: #880000 } /* Name.Constant */\n",
       ".highlight .nd { color: #AA22FF } /* Name.Decorator */\n",
       ".highlight .ni { color: #999999; font-weight: bold } /* Name.Entity */\n",
       ".highlight .ne { color: #D2413A; font-weight: bold } /* Name.Exception */\n",
       ".highlight .nf { color: #0000FF } /* Name.Function */\n",
       ".highlight .nl { color: #A0A000 } /* Name.Label */\n",
       ".highlight .nn { color: #0000FF; font-weight: bold } /* Name.Namespace */\n",
       ".highlight .nt { color: #008000; font-weight: bold } /* Name.Tag */\n",
       ".highlight .nv { color: #19177C } /* Name.Variable */\n",
       ".highlight .ow { color: #AA22FF; font-weight: bold } /* Operator.Word */\n",
       ".highlight .w { color: #bbbbbb } /* Text.Whitespace */\n",
       ".highlight .mb { color: #666666 } /* Literal.Number.Bin */\n",
       ".highlight .mf { color: #666666 } /* Literal.Number.Float */\n",
       ".highlight .mh { color: #666666 } /* Literal.Number.Hex */\n",
       ".highlight .mi { color: #666666 } /* Literal.Number.Integer */\n",
       ".highlight .mo { color: #666666 } /* Literal.Number.Oct */\n",
       ".highlight .sb { color: #BA2121 } /* Literal.String.Backtick */\n",
       ".highlight .sc { color: #BA2121 } /* Literal.String.Char */\n",
       ".highlight .sd { color: #BA2121; font-style: italic } /* Literal.String.Doc */\n",
       ".highlight .s2 { color: #BA2121 } /* Literal.String.Double */\n",
       ".highlight .se { color: #BB6622; font-weight: bold } /* Literal.String.Escape */\n",
       ".highlight .sh { color: #BA2121 } /* Literal.String.Heredoc */\n",
       ".highlight .si { color: #BB6688; font-weight: bold } /* Literal.String.Interpol */\n",
       ".highlight .sx { color: #008000 } /* Literal.String.Other */\n",
       ".highlight .sr { color: #BB6688 } /* Literal.String.Regex */\n",
       ".highlight .s1 { color: #BA2121 } /* Literal.String.Single */\n",
       ".highlight .ss { color: #19177C } /* Literal.String.Symbol */\n",
       ".highlight .bp { color: #008000 } /* Name.Builtin.Pseudo */\n",
       ".highlight .vc { color: #19177C } /* Name.Variable.Class */\n",
       ".highlight .vg { color: #19177C } /* Name.Variable.Global */\n",
       ".highlight .vi { color: #19177C } /* Name.Variable.Instance */\n",
       ".highlight .il { color: #666666 } /* Literal.Number.Integer.Long */</style><div class=\"highlight\"><pre><span></span><span class=\"c1\"># -*- coding: utf-8 -*-</span>\n",
       "<span class=\"sd\">&quot;&quot;&quot;</span>\n",
       "<span class=\"sd\">Created on Mon Oct 31 17:53:50 2016</span>\n",
       "\n",
       "<span class=\"sd\">@author: bjackel</span>\n",
       "<span class=\"sd\">&quot;&quot;&quot;</span>\n",
       "\n",
       "<span class=\"sd\">&quot;&quot;&quot;</span>\n",
       "<span class=\"sd\"># example with animation</span>\n",
       "<span class=\"sd\">grid = np.random.rand(401,501) &gt; 0.5</span>\n",
       "<span class=\"sd\">p = plt.matshow(grid)</span>\n",
       "<span class=\"sd\">grid = life_generation_stepper(grid,nsteps=10000,plot=p)</span>\n",
       "<span class=\"sd\">&quot;&quot;&quot;</span>\n",
       "\n",
       "<span class=\"kn\">import</span> <span class=\"nn\">numpy</span> <span class=\"kn\">as</span> <span class=\"nn\">np</span>\n",
       "<span class=\"kn\">import</span> <span class=\"nn\">matplotlib.pyplot</span> <span class=\"kn\">as</span> <span class=\"nn\">plt</span>\n",
       "\n",
       "\n",
       "<span class=\"k\">def</span> <span class=\"nf\">life_generation_stepper</span><span class=\"p\">(</span><span class=\"n\">grid</span><span class=\"p\">,</span> <span class=\"n\">nsteps</span><span class=\"o\">=</span><span class=\"mi\">1</span><span class=\"p\">,</span> <span class=\"n\">plot</span><span class=\"o\">=</span><span class=\"bp\">None</span><span class=\"p\">):</span>\n",
       "    \n",
       "    <span class=\"c1\"># get most recently used plotting window</span>\n",
       "    <span class=\"n\">fig</span> <span class=\"o\">=</span> <span class=\"nb\">list</span><span class=\"p\">(</span><span class=\"nb\">map</span><span class=\"p\">(</span><span class=\"n\">plt</span><span class=\"o\">.</span><span class=\"n\">figure</span><span class=\"p\">,</span> <span class=\"n\">plt</span><span class=\"o\">.</span><span class=\"n\">get_fignums</span><span class=\"p\">()))[</span><span class=\"o\">-</span><span class=\"mi\">1</span><span class=\"p\">]</span>\n",
       "\n",
       "    <span class=\"n\">nx</span><span class=\"p\">,</span> <span class=\"n\">ny</span> <span class=\"o\">=</span> <span class=\"n\">grid</span><span class=\"o\">.</span><span class=\"n\">shape</span>\n",
       "    <span class=\"n\">x</span><span class=\"p\">,</span> <span class=\"n\">y</span> <span class=\"o\">=</span> <span class=\"n\">np</span><span class=\"o\">.</span><span class=\"n\">meshgrid</span><span class=\"p\">(</span> <span class=\"n\">np</span><span class=\"o\">.</span><span class=\"n\">arange</span><span class=\"p\">(</span><span class=\"n\">nx</span><span class=\"p\">),</span> <span class=\"n\">np</span><span class=\"o\">.</span><span class=\"n\">arange</span><span class=\"p\">(</span><span class=\"n\">ny</span><span class=\"p\">),</span> <span class=\"n\">indexing</span><span class=\"o\">=</span><span class=\"s1\">&#39;ij&#39;</span> <span class=\"p\">)</span>\n",
       "    <span class=\"n\">xx</span> <span class=\"o\">=</span> <span class=\"n\">np</span><span class=\"o\">.</span><span class=\"n\">array</span><span class=\"p\">([</span><span class=\"n\">x</span><span class=\"o\">+</span><span class=\"mi\">1</span><span class=\"p\">,</span> <span class=\"n\">x</span><span class=\"o\">-</span><span class=\"mi\">1</span><span class=\"p\">,</span> <span class=\"n\">x</span><span class=\"o\">+</span><span class=\"mi\">0</span><span class=\"p\">,</span> <span class=\"n\">x</span><span class=\"o\">+</span><span class=\"mi\">0</span><span class=\"p\">,</span> <span class=\"n\">x</span><span class=\"o\">+</span><span class=\"mi\">1</span><span class=\"p\">,</span> <span class=\"n\">x</span><span class=\"o\">-</span><span class=\"mi\">1</span><span class=\"p\">,</span> <span class=\"n\">x</span><span class=\"o\">+</span><span class=\"mi\">1</span><span class=\"p\">,</span> <span class=\"n\">x</span><span class=\"o\">-</span><span class=\"mi\">1</span><span class=\"p\">])</span> <span class=\"o\">%</span> <span class=\"n\">nx</span>\n",
       "    <span class=\"n\">yy</span> <span class=\"o\">=</span> <span class=\"n\">np</span><span class=\"o\">.</span><span class=\"n\">array</span><span class=\"p\">([</span><span class=\"n\">y</span><span class=\"o\">+</span><span class=\"mi\">0</span><span class=\"p\">,</span> <span class=\"n\">y</span><span class=\"o\">+</span><span class=\"mi\">0</span><span class=\"p\">,</span> <span class=\"n\">y</span><span class=\"o\">+</span><span class=\"mi\">1</span><span class=\"p\">,</span> <span class=\"n\">y</span><span class=\"o\">-</span><span class=\"mi\">1</span><span class=\"p\">,</span> <span class=\"n\">y</span><span class=\"o\">+</span><span class=\"mi\">1</span><span class=\"p\">,</span> <span class=\"n\">y</span><span class=\"o\">-</span><span class=\"mi\">1</span><span class=\"p\">,</span> <span class=\"n\">y</span><span class=\"o\">-</span><span class=\"mi\">1</span><span class=\"p\">,</span> <span class=\"n\">y</span><span class=\"o\">+</span><span class=\"mi\">1</span><span class=\"p\">])</span> <span class=\"o\">%</span> <span class=\"n\">ny</span>\n",
       "\n",
       "    <span class=\"k\">for</span> <span class=\"n\">nstep</span> <span class=\"ow\">in</span> <span class=\"nb\">range</span><span class=\"p\">(</span><span class=\"n\">nsteps</span><span class=\"p\">):</span>\n",
       "        <span class=\"n\">nnear</span> <span class=\"o\">=</span> <span class=\"n\">np</span><span class=\"o\">.</span><span class=\"n\">sum</span><span class=\"p\">(</span> <span class=\"n\">grid</span><span class=\"p\">[</span><span class=\"n\">xx</span><span class=\"p\">,</span><span class=\"n\">yy</span><span class=\"p\">]</span> <span class=\"p\">,</span> <span class=\"n\">axis</span><span class=\"o\">=</span><span class=\"mi\">0</span> <span class=\"p\">)</span>\n",
       "        \n",
       "        <span class=\"n\">grid</span><span class=\"p\">[(</span><span class=\"n\">nnear</span> <span class=\"o\">&lt;</span> <span class=\"mi\">2</span><span class=\"p\">)</span> <span class=\"o\">|</span> <span class=\"p\">(</span><span class=\"n\">nnear</span> <span class=\"o\">&gt;</span> <span class=\"mi\">3</span><span class=\"p\">)]</span> <span class=\"o\">=</span> <span class=\"mi\">0</span>\n",
       "        <span class=\"n\">grid</span><span class=\"p\">[</span><span class=\"n\">nnear</span><span class=\"o\">==</span><span class=\"mi\">3</span><span class=\"p\">]</span> <span class=\"o\">=</span> <span class=\"mi\">1</span>\n",
       "\n",
       "        <span class=\"k\">if</span> <span class=\"n\">plot</span> <span class=\"ow\">is</span> <span class=\"ow\">not</span> <span class=\"bp\">None</span><span class=\"p\">:</span>\n",
       "            <span class=\"n\">plot</span><span class=\"o\">.</span><span class=\"n\">set_data</span><span class=\"p\">(</span><span class=\"n\">grid</span><span class=\"p\">)</span>\n",
       "            <span class=\"n\">plot</span><span class=\"o\">.</span><span class=\"n\">axes</span><span class=\"o\">.</span><span class=\"n\">set_title</span><span class=\"p\">(</span><span class=\"nb\">str</span><span class=\"p\">(</span><span class=\"n\">nstep</span><span class=\"p\">))</span>\n",
       "            <span class=\"n\">fig</span><span class=\"o\">.</span><span class=\"n\">canvas</span><span class=\"o\">.</span><span class=\"n\">draw</span><span class=\"p\">()</span> <span class=\"p\">;</span> <span class=\"n\">fig</span><span class=\"o\">.</span><span class=\"n\">canvas</span><span class=\"o\">.</span><span class=\"n\">flush_events</span><span class=\"p\">()</span> <span class=\"c1\">#update plot window</span>\n",
       "   \n",
       "    <span class=\"k\">return</span> <span class=\"n\">grid</span>\n",
       "\n",
       "    \n",
       "<span class=\"k\">def</span> <span class=\"nf\">stepper0</span><span class=\"p\">(</span><span class=\"n\">grid</span><span class=\"p\">,</span> <span class=\"n\">nsteps</span><span class=\"o\">=</span><span class=\"mi\">1</span><span class=\"p\">,</span> <span class=\"n\">plot</span><span class=\"o\">=</span><span class=\"bp\">None</span><span class=\"p\">):</span>\n",
       "    <span class=\"sd\">&quot;&quot;&quot;</span>\n",
       "<span class=\"sd\">    One step in Conway&#39;s game of life with wrap-around edges.</span>\n",
       "<span class=\"sd\">    </span>\n",
       "<span class=\"sd\">    Loop over all pixels in grid, and over all neighbors (very slow)</span>\n",
       "<span class=\"sd\">    &quot;&quot;&quot;</span>\n",
       "    \n",
       "    <span class=\"n\">nx</span><span class=\"p\">,</span> <span class=\"n\">ny</span> <span class=\"o\">=</span> <span class=\"n\">grid</span><span class=\"o\">.</span><span class=\"n\">shape</span>\n",
       "    <span class=\"n\">xx</span><span class=\"p\">,</span> <span class=\"n\">yy</span> <span class=\"o\">=</span>  <span class=\"n\">np</span><span class=\"o\">.</span><span class=\"n\">arange</span><span class=\"p\">(</span><span class=\"n\">nx</span><span class=\"p\">),</span> <span class=\"n\">np</span><span class=\"o\">.</span><span class=\"n\">arange</span><span class=\"p\">(</span><span class=\"n\">ny</span><span class=\"p\">)</span> \n",
       "    <span class=\"n\">newgrid</span> <span class=\"o\">=</span> <span class=\"n\">grid</span><span class=\"o\">.</span><span class=\"n\">copy</span><span class=\"p\">()</span>\n",
       "    \n",
       "    <span class=\"k\">for</span> <span class=\"n\">x</span> <span class=\"ow\">in</span> <span class=\"n\">xx</span><span class=\"p\">:</span>\n",
       "        <span class=\"k\">for</span> <span class=\"n\">y</span> <span class=\"ow\">in</span> <span class=\"n\">yy</span><span class=\"p\">:</span>\n",
       "            \n",
       "            <span class=\"n\">nnear</span> <span class=\"o\">=</span> <span class=\"mi\">0</span>  <span class=\"c1\"># count number of neighbors</span>\n",
       "            \n",
       "            <span class=\"k\">for</span> <span class=\"n\">dx</span> <span class=\"ow\">in</span> <span class=\"p\">[</span><span class=\"o\">-</span><span class=\"mi\">1</span><span class=\"p\">,</span><span class=\"mi\">0</span><span class=\"p\">,</span><span class=\"mi\">1</span><span class=\"p\">]:</span>\n",
       "                <span class=\"k\">for</span> <span class=\"n\">dy</span> <span class=\"ow\">in</span> <span class=\"p\">[</span><span class=\"o\">-</span><span class=\"mi\">1</span><span class=\"p\">,</span><span class=\"mi\">0</span><span class=\"p\">,</span><span class=\"mi\">1</span><span class=\"p\">]:</span>\n",
       "                    <span class=\"k\">if</span> <span class=\"p\">(</span><span class=\"n\">dx</span><span class=\"o\">!=</span><span class=\"mi\">0</span> <span class=\"ow\">or</span> <span class=\"n\">dy</span><span class=\"o\">!=</span><span class=\"mi\">0</span><span class=\"p\">):</span>  <span class=\"c1\"># don&#39;t include the cell itself</span>\n",
       "                        <span class=\"n\">nnear</span> <span class=\"o\">+=</span> <span class=\"n\">grid</span><span class=\"p\">[</span> <span class=\"p\">(</span><span class=\"n\">x</span><span class=\"o\">+</span><span class=\"n\">dx</span><span class=\"p\">)</span><span class=\"o\">%</span><span class=\"n\">nx</span><span class=\"p\">,</span> <span class=\"p\">(</span><span class=\"n\">y</span><span class=\"o\">+</span><span class=\"n\">dy</span><span class=\"p\">)</span><span class=\"o\">%</span><span class=\"n\">ny</span> <span class=\"p\">]</span>\n",
       "\n",
       "            <span class=\"c1\"># dead cells with three live neighbours become live cells</span>\n",
       "            <span class=\"k\">if</span> <span class=\"p\">(</span><span class=\"n\">grid</span><span class=\"p\">[</span><span class=\"n\">x</span><span class=\"p\">,</span><span class=\"n\">y</span><span class=\"p\">]</span> <span class=\"o\">==</span> <span class=\"mi\">0</span><span class=\"p\">):</span>\n",
       "                <span class=\"k\">if</span> <span class=\"n\">nnear</span> <span class=\"o\">==</span> <span class=\"mi\">3</span><span class=\"p\">:</span>\n",
       "                    <span class=\"n\">newgrid</span><span class=\"p\">[</span><span class=\"n\">x</span><span class=\"p\">,</span><span class=\"n\">y</span><span class=\"p\">]</span><span class=\"o\">=</span><span class=\"mi\">1</span>\n",
       "\n",
       "            <span class=\"c1\"># live cells with fewer than two or more than 3 live neighbors die</span>\n",
       "            <span class=\"k\">else</span><span class=\"p\">:</span>\n",
       "                <span class=\"k\">if</span> <span class=\"n\">nnear</span> <span class=\"o\">&lt;</span> <span class=\"mi\">2</span><span class=\"p\">:</span>\n",
       "                    <span class=\"n\">newgrid</span><span class=\"p\">[</span><span class=\"n\">x</span><span class=\"p\">,</span><span class=\"n\">y</span><span class=\"p\">]</span><span class=\"o\">=</span><span class=\"mi\">0</span>\n",
       "                <span class=\"k\">if</span> <span class=\"n\">nnear</span> <span class=\"o\">&gt;</span><span class=\"mi\">3</span> <span class=\"p\">:</span>\n",
       "                    <span class=\"n\">newgrid</span><span class=\"p\">[</span><span class=\"n\">x</span><span class=\"p\">,</span><span class=\"n\">y</span><span class=\"p\">]</span><span class=\"o\">=</span><span class=\"mi\">0</span>\n",
       "                                                            \n",
       "    <span class=\"k\">return</span> <span class=\"n\">newgrid</span>\n",
       "    \n",
       "\n",
       "<span class=\"k\">def</span> <span class=\"nf\">stepper1</span><span class=\"p\">(</span><span class=\"n\">grid</span><span class=\"p\">,</span> <span class=\"n\">nsteps</span><span class=\"o\">=</span><span class=\"mi\">1</span><span class=\"p\">,</span> <span class=\"n\">plot</span><span class=\"o\">=</span><span class=\"bp\">None</span><span class=\"p\">):</span>\n",
       "    <span class=\"sd\">&quot;&quot;&quot;</span>\n",
       "<span class=\"sd\">    One step in Conway&#39;s game of life with wrap-around edges.</span>\n",
       "<span class=\"sd\">    </span>\n",
       "<span class=\"sd\">    Loop over all pixels in grid, and then add all 8 neighbours (slow)</span>\n",
       "<span class=\"sd\">    &quot;&quot;&quot;</span>\n",
       "    <span class=\"n\">nx</span><span class=\"p\">,</span> <span class=\"n\">ny</span> <span class=\"o\">=</span> <span class=\"n\">grid</span><span class=\"o\">.</span><span class=\"n\">shape</span>\n",
       "    <span class=\"n\">xx</span><span class=\"p\">,</span> <span class=\"n\">yy</span> <span class=\"o\">=</span>  <span class=\"n\">np</span><span class=\"o\">.</span><span class=\"n\">arange</span><span class=\"p\">(</span><span class=\"n\">nx</span><span class=\"p\">),</span> <span class=\"n\">np</span><span class=\"o\">.</span><span class=\"n\">arange</span><span class=\"p\">(</span><span class=\"n\">ny</span><span class=\"p\">)</span> \n",
       "    <span class=\"n\">newgrid</span> <span class=\"o\">=</span> <span class=\"n\">grid</span><span class=\"o\">.</span><span class=\"n\">copy</span><span class=\"p\">()</span>\n",
       "    \n",
       "    <span class=\"n\">dx</span> <span class=\"o\">=</span> <span class=\"n\">np</span><span class=\"o\">.</span><span class=\"n\">array</span><span class=\"p\">(</span> <span class=\"p\">[</span><span class=\"mi\">1</span><span class=\"p\">,</span> <span class=\"o\">-</span><span class=\"mi\">1</span><span class=\"p\">,</span> <span class=\"mi\">0</span><span class=\"p\">,</span> <span class=\"mi\">0</span><span class=\"p\">,</span> <span class=\"mi\">1</span><span class=\"p\">,</span> <span class=\"o\">-</span><span class=\"mi\">1</span><span class=\"p\">,</span> <span class=\"mi\">1</span><span class=\"p\">,</span> <span class=\"o\">-</span><span class=\"mi\">1</span><span class=\"p\">]</span> <span class=\"p\">)</span>\n",
       "    <span class=\"n\">dy</span> <span class=\"o\">=</span> <span class=\"n\">np</span><span class=\"o\">.</span><span class=\"n\">array</span><span class=\"p\">(</span> <span class=\"p\">[</span><span class=\"mi\">0</span><span class=\"p\">,</span> <span class=\"mi\">0</span><span class=\"p\">,</span> <span class=\"mi\">1</span><span class=\"p\">,</span> <span class=\"o\">-</span><span class=\"mi\">1</span><span class=\"p\">,</span> <span class=\"mi\">1</span><span class=\"p\">,</span> <span class=\"o\">-</span><span class=\"mi\">1</span><span class=\"p\">,</span> <span class=\"o\">-</span><span class=\"mi\">1</span><span class=\"p\">,</span> <span class=\"mi\">1</span><span class=\"p\">]</span> <span class=\"p\">)</span>\n",
       "               \n",
       "    <span class=\"k\">for</span> <span class=\"n\">x</span> <span class=\"ow\">in</span> <span class=\"n\">xx</span><span class=\"p\">:</span>\n",
       "        <span class=\"k\">for</span> <span class=\"n\">y</span> <span class=\"ow\">in</span> <span class=\"n\">yy</span><span class=\"p\">:</span>\n",
       "            \n",
       "            <span class=\"n\">nnear</span> <span class=\"o\">=</span> <span class=\"n\">np</span><span class=\"o\">.</span><span class=\"n\">sum</span><span class=\"p\">(</span> <span class=\"n\">grid</span><span class=\"p\">[</span> <span class=\"p\">(</span><span class=\"n\">x</span><span class=\"o\">+</span><span class=\"n\">dx</span><span class=\"p\">)</span><span class=\"o\">%</span><span class=\"n\">nx</span><span class=\"p\">,</span> <span class=\"p\">(</span><span class=\"n\">y</span><span class=\"o\">+</span><span class=\"n\">dy</span><span class=\"p\">)</span><span class=\"o\">%</span><span class=\"n\">ny</span> <span class=\"p\">]</span> <span class=\"p\">)</span>\n",
       "    \n",
       "            <span class=\"k\">if</span> <span class=\"p\">(</span><span class=\"n\">nnear</span> <span class=\"o\">&lt;</span> <span class=\"mi\">2</span><span class=\"p\">)</span> <span class=\"ow\">or</span> <span class=\"p\">(</span><span class=\"n\">nnear</span> <span class=\"o\">&gt;</span> <span class=\"mi\">3</span><span class=\"p\">):</span> \n",
       "                <span class=\"n\">newgrid</span><span class=\"p\">[</span><span class=\"n\">x</span><span class=\"p\">,</span><span class=\"n\">y</span><span class=\"p\">]</span> <span class=\"o\">=</span> <span class=\"mi\">0</span>\n",
       "            <span class=\"k\">elif</span> <span class=\"p\">(</span><span class=\"n\">nnear</span> <span class=\"o\">==</span> <span class=\"mi\">3</span><span class=\"p\">):</span>\n",
       "                <span class=\"n\">newgrid</span><span class=\"p\">[</span><span class=\"n\">x</span><span class=\"p\">,</span><span class=\"n\">y</span><span class=\"p\">]</span> <span class=\"o\">=</span> <span class=\"mi\">1</span>\n",
       "                                            \n",
       "    <span class=\"k\">return</span> <span class=\"n\">newgrid</span>    \n",
       "    \n",
       "\n",
       "<span class=\"k\">def</span> <span class=\"nf\">stepper2</span><span class=\"p\">(</span><span class=\"n\">grid</span><span class=\"p\">,</span> <span class=\"n\">nsteps</span><span class=\"o\">=</span><span class=\"mi\">1</span><span class=\"p\">,</span> <span class=\"n\">plot</span><span class=\"o\">=</span><span class=\"bp\">None</span><span class=\"p\">):</span>\n",
       "    <span class=\"sd\">&quot;&quot;&quot;</span>\n",
       "<span class=\"sd\">    One step in Conway&#39;s game of life with wrap-around edges.</span>\n",
       "<span class=\"sd\">    </span>\n",
       "<span class=\"sd\">    Loop over all neighbor shifts, adding an entire grid  (fast)</span>\n",
       "<span class=\"sd\">    &quot;&quot;&quot;</span>\n",
       "    \n",
       "    <span class=\"n\">nx</span><span class=\"p\">,</span> <span class=\"n\">ny</span> <span class=\"o\">=</span> <span class=\"n\">grid</span><span class=\"o\">.</span><span class=\"n\">shape</span>\n",
       "    <span class=\"n\">xx</span><span class=\"p\">,</span> <span class=\"n\">yy</span> <span class=\"o\">=</span> <span class=\"n\">np</span><span class=\"o\">.</span><span class=\"n\">meshgrid</span><span class=\"p\">(</span> <span class=\"n\">np</span><span class=\"o\">.</span><span class=\"n\">arange</span><span class=\"p\">(</span><span class=\"n\">nx</span><span class=\"p\">),</span> <span class=\"n\">np</span><span class=\"o\">.</span><span class=\"n\">arange</span><span class=\"p\">(</span><span class=\"n\">ny</span><span class=\"p\">),</span> <span class=\"n\">indexing</span><span class=\"o\">=</span><span class=\"s1\">&#39;ij&#39;</span> <span class=\"p\">)</span>\n",
       "\n",
       "    <span class=\"n\">nnear</span> <span class=\"o\">=</span> <span class=\"mi\">0</span>\n",
       "    <span class=\"n\">newgrid</span> <span class=\"o\">=</span> <span class=\"n\">grid</span><span class=\"o\">.</span><span class=\"n\">copy</span><span class=\"p\">()</span>\n",
       "\n",
       "    <span class=\"k\">for</span> <span class=\"n\">dx</span> <span class=\"ow\">in</span> <span class=\"p\">[</span><span class=\"o\">-</span><span class=\"mi\">1</span><span class=\"p\">,</span><span class=\"mi\">0</span><span class=\"p\">,</span><span class=\"mi\">1</span><span class=\"p\">]:</span>\n",
       "        <span class=\"k\">for</span> <span class=\"n\">dy</span> <span class=\"ow\">in</span> <span class=\"p\">[</span><span class=\"o\">-</span><span class=\"mi\">1</span><span class=\"p\">,</span><span class=\"mi\">0</span><span class=\"p\">,</span><span class=\"mi\">1</span><span class=\"p\">]:</span>\n",
       "            <span class=\"k\">if</span> <span class=\"p\">(</span><span class=\"n\">dx</span><span class=\"o\">==</span><span class=\"mi\">0</span> <span class=\"ow\">and</span> <span class=\"n\">dy</span><span class=\"o\">==</span><span class=\"mi\">0</span><span class=\"p\">):</span> <span class=\"k\">continue</span>\n",
       "            <span class=\"n\">nnear</span> <span class=\"o\">+=</span> <span class=\"n\">grid</span><span class=\"p\">[</span> <span class=\"p\">(</span><span class=\"n\">xx</span><span class=\"o\">+</span><span class=\"n\">dx</span><span class=\"p\">)</span><span class=\"o\">%</span><span class=\"n\">nx</span><span class=\"p\">,(</span><span class=\"n\">yy</span><span class=\"o\">+</span><span class=\"n\">dy</span><span class=\"p\">)</span><span class=\"o\">%</span><span class=\"n\">ny</span> <span class=\"p\">]</span>\n",
       "    \n",
       "    <span class=\"n\">newgrid</span><span class=\"p\">[(</span><span class=\"n\">grid</span><span class=\"o\">&gt;</span><span class=\"mi\">0</span><span class=\"p\">)</span> <span class=\"o\">&amp;</span> <span class=\"p\">(</span><span class=\"n\">nnear</span><span class=\"o\">&lt;</span><span class=\"mi\">2</span><span class=\"p\">)]</span> <span class=\"o\">=</span> <span class=\"mi\">0</span>\n",
       "    <span class=\"n\">newgrid</span><span class=\"p\">[(</span><span class=\"n\">grid</span><span class=\"o\">&gt;</span><span class=\"mi\">0</span><span class=\"p\">)</span> <span class=\"o\">&amp;</span> <span class=\"p\">(</span><span class=\"n\">nnear</span><span class=\"o\">&gt;</span><span class=\"mi\">3</span><span class=\"p\">)]</span> <span class=\"o\">=</span> <span class=\"mi\">0</span>\n",
       "    <span class=\"n\">newgrid</span><span class=\"p\">[(</span><span class=\"n\">grid</span><span class=\"o\">==</span><span class=\"mi\">0</span><span class=\"p\">)</span> <span class=\"o\">&amp;</span> <span class=\"p\">(</span><span class=\"n\">nnear</span><span class=\"o\">==</span><span class=\"mi\">3</span><span class=\"p\">)]</span> <span class=\"o\">=</span> <span class=\"mi\">1</span>\n",
       "   \n",
       "    <span class=\"k\">return</span> <span class=\"n\">newgrid</span>\n",
       "\n",
       "\n",
       "<span class=\"k\">def</span> <span class=\"nf\">stepper3</span><span class=\"p\">(</span><span class=\"n\">grid</span><span class=\"p\">,</span> <span class=\"n\">nsteps</span><span class=\"o\">=</span><span class=\"mi\">1</span><span class=\"p\">,</span> <span class=\"n\">plot</span><span class=\"o\">=</span><span class=\"bp\">None</span><span class=\"p\">):</span>\n",
       "    <span class=\"sd\">&quot;&quot;&quot;</span>\n",
       "<span class=\"sd\">    One step in Conway&#39;s game of life with wrap-around edges.</span>\n",
       "<span class=\"sd\">    </span>\n",
       "<span class=\"sd\">    Try cleaning up the neighbour loops (faster?)</span>\n",
       "<span class=\"sd\">    &quot;&quot;&quot;</span>\n",
       "    <span class=\"n\">nx</span><span class=\"p\">,</span> <span class=\"n\">ny</span> <span class=\"o\">=</span> <span class=\"n\">grid</span><span class=\"o\">.</span><span class=\"n\">shape</span>\n",
       "    <span class=\"n\">xx</span><span class=\"p\">,</span> <span class=\"n\">yy</span> <span class=\"o\">=</span> <span class=\"n\">np</span><span class=\"o\">.</span><span class=\"n\">meshgrid</span><span class=\"p\">(</span> <span class=\"n\">np</span><span class=\"o\">.</span><span class=\"n\">arange</span><span class=\"p\">(</span><span class=\"n\">nx</span><span class=\"p\">),</span> <span class=\"n\">np</span><span class=\"o\">.</span><span class=\"n\">arange</span><span class=\"p\">(</span><span class=\"n\">ny</span><span class=\"p\">),</span> <span class=\"n\">indexing</span><span class=\"o\">=</span><span class=\"s1\">&#39;ij&#39;</span> <span class=\"p\">)</span>\n",
       "    <span class=\"n\">dxy</span> <span class=\"o\">=</span> <span class=\"p\">[(</span><span class=\"mi\">1</span><span class=\"p\">,</span><span class=\"mi\">0</span><span class=\"p\">),</span> <span class=\"p\">(</span><span class=\"o\">-</span><span class=\"mi\">1</span><span class=\"p\">,</span><span class=\"mi\">0</span><span class=\"p\">),</span> <span class=\"p\">(</span><span class=\"mi\">0</span><span class=\"p\">,</span><span class=\"mi\">1</span><span class=\"p\">),</span> <span class=\"p\">(</span><span class=\"mi\">0</span><span class=\"p\">,</span><span class=\"o\">-</span><span class=\"mi\">1</span><span class=\"p\">),</span> <span class=\"p\">(</span><span class=\"mi\">1</span><span class=\"p\">,</span><span class=\"mi\">1</span><span class=\"p\">),</span> <span class=\"p\">(</span><span class=\"o\">-</span><span class=\"mi\">1</span><span class=\"p\">,</span><span class=\"o\">-</span><span class=\"mi\">1</span><span class=\"p\">),</span> <span class=\"p\">(</span><span class=\"mi\">1</span><span class=\"p\">,</span><span class=\"o\">-</span><span class=\"mi\">1</span><span class=\"p\">),</span> <span class=\"p\">(</span><span class=\"o\">-</span><span class=\"mi\">1</span><span class=\"p\">,</span><span class=\"mi\">1</span><span class=\"p\">)</span> <span class=\"p\">]</span>\n",
       "    \n",
       "    <span class=\"n\">newgrid</span> <span class=\"o\">=</span> <span class=\"n\">grid</span><span class=\"o\">.</span><span class=\"n\">copy</span><span class=\"p\">()</span>           \n",
       "    <span class=\"n\">nnear</span> <span class=\"o\">=</span> <span class=\"mi\">0</span>\n",
       "    \n",
       "    <span class=\"k\">for</span> <span class=\"n\">dx</span><span class=\"p\">,</span><span class=\"n\">dy</span> <span class=\"ow\">in</span> <span class=\"n\">dxy</span><span class=\"p\">:</span>\n",
       "        <span class=\"n\">nnear</span> <span class=\"o\">+=</span> <span class=\"n\">grid</span><span class=\"p\">[(</span><span class=\"n\">xx</span><span class=\"o\">+</span><span class=\"n\">dx</span><span class=\"p\">)</span><span class=\"o\">%</span><span class=\"n\">nx</span><span class=\"p\">,(</span><span class=\"n\">yy</span><span class=\"o\">+</span><span class=\"n\">dy</span><span class=\"p\">)</span><span class=\"o\">%</span><span class=\"n\">ny</span><span class=\"p\">]</span> \n",
       "    \n",
       "    <span class=\"n\">newgrid</span><span class=\"p\">[</span><span class=\"n\">nnear</span> <span class=\"o\">&lt;</span> <span class=\"mi\">2</span><span class=\"p\">]</span> <span class=\"o\">=</span> <span class=\"mi\">0</span>  \n",
       "    <span class=\"n\">newgrid</span><span class=\"p\">[</span><span class=\"n\">nnear</span> <span class=\"o\">&gt;</span> <span class=\"mi\">3</span><span class=\"p\">]</span> <span class=\"o\">=</span> <span class=\"mi\">0</span>\n",
       "    <span class=\"n\">newgrid</span><span class=\"p\">[</span><span class=\"n\">nnear</span><span class=\"o\">==</span><span class=\"mi\">3</span><span class=\"p\">]</span> <span class=\"o\">=</span> <span class=\"mi\">1</span>\n",
       "   \n",
       "    <span class=\"k\">return</span> <span class=\"n\">newgrid</span>\n",
       "\n",
       "\n",
       "<span class=\"k\">def</span> <span class=\"nf\">stepper4</span><span class=\"p\">(</span><span class=\"n\">grid</span><span class=\"p\">,</span> <span class=\"n\">nsteps</span><span class=\"o\">=</span><span class=\"mi\">1</span><span class=\"p\">,</span> <span class=\"n\">plot</span><span class=\"o\">=</span><span class=\"bp\">None</span><span class=\"p\">):</span>\n",
       "    <span class=\"sd\">&quot;&quot;&quot;</span>\n",
       "<span class=\"sd\">    One step in Conway&#39;s game of life with wrap-around edges.</span>\n",
       "<span class=\"sd\">    </span>\n",
       "<span class=\"sd\">    -move more calculations outside loop (fastest?)</span>\n",
       "<span class=\"sd\">    -reuse input grid for output</span>\n",
       "<span class=\"sd\">    &quot;&quot;&quot;</span>\n",
       "    <span class=\"n\">nx</span><span class=\"p\">,</span> <span class=\"n\">ny</span> <span class=\"o\">=</span> <span class=\"n\">grid</span><span class=\"o\">.</span><span class=\"n\">shape</span>\n",
       "    <span class=\"n\">x</span><span class=\"p\">,</span> <span class=\"n\">y</span> <span class=\"o\">=</span> <span class=\"n\">np</span><span class=\"o\">.</span><span class=\"n\">meshgrid</span><span class=\"p\">(</span> <span class=\"n\">np</span><span class=\"o\">.</span><span class=\"n\">arange</span><span class=\"p\">(</span><span class=\"n\">nx</span><span class=\"p\">),</span> <span class=\"n\">np</span><span class=\"o\">.</span><span class=\"n\">arange</span><span class=\"p\">(</span><span class=\"n\">ny</span><span class=\"p\">),</span> <span class=\"n\">indexing</span><span class=\"o\">=</span><span class=\"s1\">&#39;ij&#39;</span> <span class=\"p\">)</span>\n",
       "    \n",
       "    <span class=\"n\">xx</span> <span class=\"o\">=</span> <span class=\"n\">np</span><span class=\"o\">.</span><span class=\"n\">array</span><span class=\"p\">([</span><span class=\"n\">x</span><span class=\"o\">+</span><span class=\"mi\">1</span><span class=\"p\">,</span> <span class=\"n\">x</span><span class=\"o\">-</span><span class=\"mi\">1</span><span class=\"p\">,</span> <span class=\"n\">x</span><span class=\"o\">+</span><span class=\"mi\">0</span><span class=\"p\">,</span> <span class=\"n\">x</span><span class=\"o\">+</span><span class=\"mi\">0</span><span class=\"p\">,</span> <span class=\"n\">x</span><span class=\"o\">+</span><span class=\"mi\">1</span><span class=\"p\">,</span> <span class=\"n\">x</span><span class=\"o\">-</span><span class=\"mi\">1</span><span class=\"p\">,</span> <span class=\"n\">x</span><span class=\"o\">+</span><span class=\"mi\">1</span><span class=\"p\">,</span> <span class=\"n\">x</span><span class=\"o\">-</span><span class=\"mi\">1</span><span class=\"p\">])</span> <span class=\"o\">%</span> <span class=\"n\">nx</span>\n",
       "    <span class=\"n\">yy</span> <span class=\"o\">=</span> <span class=\"n\">np</span><span class=\"o\">.</span><span class=\"n\">array</span><span class=\"p\">([</span><span class=\"n\">y</span><span class=\"o\">+</span><span class=\"mi\">0</span><span class=\"p\">,</span> <span class=\"n\">y</span><span class=\"o\">+</span><span class=\"mi\">0</span><span class=\"p\">,</span> <span class=\"n\">y</span><span class=\"o\">+</span><span class=\"mi\">1</span><span class=\"p\">,</span> <span class=\"n\">y</span><span class=\"o\">-</span><span class=\"mi\">1</span><span class=\"p\">,</span> <span class=\"n\">y</span><span class=\"o\">+</span><span class=\"mi\">1</span><span class=\"p\">,</span> <span class=\"n\">y</span><span class=\"o\">-</span><span class=\"mi\">1</span><span class=\"p\">,</span> <span class=\"n\">y</span><span class=\"o\">-</span><span class=\"mi\">1</span><span class=\"p\">,</span> <span class=\"n\">y</span><span class=\"o\">+</span><span class=\"mi\">1</span><span class=\"p\">])</span> <span class=\"o\">%</span> <span class=\"n\">ny</span>\n",
       "\n",
       "    <span class=\"c1\"># grid[xx,yy].shape = 8,nx,ny  &lt;= add up neighbours </span>\n",
       "    <span class=\"c1\"># note: numpy will automatically convert boolean to integer before summing</span>\n",
       "    <span class=\"n\">nnear</span> <span class=\"o\">=</span> <span class=\"n\">np</span><span class=\"o\">.</span><span class=\"n\">sum</span><span class=\"p\">(</span> <span class=\"n\">grid</span><span class=\"p\">[</span><span class=\"n\">xx</span><span class=\"p\">,</span><span class=\"n\">yy</span><span class=\"p\">]</span> <span class=\"p\">,</span> <span class=\"n\">axis</span><span class=\"o\">=</span><span class=\"mi\">0</span> <span class=\"p\">)</span>\n",
       "        \n",
       "    <span class=\"n\">grid</span><span class=\"p\">[(</span><span class=\"n\">nnear</span> <span class=\"o\">&lt;</span> <span class=\"mi\">2</span><span class=\"p\">)</span> <span class=\"o\">|</span> <span class=\"p\">(</span><span class=\"n\">nnear</span> <span class=\"o\">&gt;</span> <span class=\"mi\">3</span><span class=\"p\">)]</span> <span class=\"o\">=</span> <span class=\"mi\">0</span>\n",
       "    <span class=\"n\">grid</span><span class=\"p\">[</span><span class=\"n\">nnear</span><span class=\"o\">==</span><span class=\"mi\">3</span><span class=\"p\">]</span> <span class=\"o\">=</span> <span class=\"mi\">1</span>\n",
       "\n",
       "    <span class=\"k\">return</span> <span class=\"n\">grid</span>\n",
       "    \n",
       "    \n",
       "      \n",
       "<span class=\"c1\"># the code below will not run if this file is &quot;included&quot;</span>\n",
       "<span class=\"c1\">#</span>\n",
       "<span class=\"k\">if</span> <span class=\"n\">__name__</span> <span class=\"o\">==</span> <span class=\"s1\">&#39;__main__&#39;</span><span class=\"p\">:</span>\n",
       "\n",
       "    <span class=\"k\">print</span><span class=\"p\">(</span><span class=\"s1\">&#39;Check agreement between different algorithms&#39;</span><span class=\"p\">)</span>\n",
       "    <span class=\"n\">grid</span> <span class=\"o\">=</span> <span class=\"n\">np</span><span class=\"o\">.</span><span class=\"n\">random</span><span class=\"o\">.</span><span class=\"n\">rand</span><span class=\"p\">(</span><span class=\"mi\">31</span><span class=\"p\">,</span><span class=\"mi\">21</span><span class=\"p\">)</span> <span class=\"o\">&gt;=</span> <span class=\"mf\">0.5</span>  <span class=\"c1\"># don&#39;t use a square grid</span>\n",
       "    <span class=\"n\">newgrid</span> <span class=\"o\">=</span> <span class=\"n\">stepper0</span><span class=\"p\">(</span><span class=\"n\">grid</span><span class=\"p\">,</span> <span class=\"n\">nsteps</span><span class=\"o\">=</span><span class=\"mi\">1</span><span class=\"p\">)</span>\n",
       "    <span class=\"n\">stepfunclist</span> <span class=\"o\">=</span> <span class=\"p\">[</span><span class=\"n\">stepper0</span><span class=\"p\">,</span> <span class=\"n\">stepper1</span><span class=\"p\">,</span> <span class=\"n\">stepper2</span><span class=\"p\">,</span> <span class=\"n\">stepper3</span><span class=\"p\">,</span> <span class=\"n\">stepper4</span><span class=\"p\">]</span>\n",
       "    \n",
       "    <span class=\"k\">for</span> <span class=\"n\">stepfunc</span> <span class=\"ow\">in</span> <span class=\"n\">stepfunclist</span><span class=\"p\">:</span>\n",
       "        <span class=\"n\">test</span> <span class=\"o\">=</span> <span class=\"n\">stepfunc</span><span class=\"p\">(</span><span class=\"n\">grid</span><span class=\"p\">)</span>\n",
       "        <span class=\"k\">print</span><span class=\"p\">(</span> <span class=\"nb\">str</span><span class=\"p\">(</span><span class=\"n\">stepfunc</span><span class=\"p\">),</span> <span class=\"n\">np</span><span class=\"o\">.</span><span class=\"n\">all</span><span class=\"p\">(</span><span class=\"n\">test</span> <span class=\"o\">==</span> <span class=\"n\">newgrid</span><span class=\"p\">)</span> <span class=\"p\">)</span>\n",
       "        \n",
       "    \n",
       "    <span class=\"k\">print</span><span class=\"p\">(</span><span class=\"s1\">&#39;Compare speed of different algorithms (lower is better)&#39;</span><span class=\"p\">)</span>\n",
       "    <span class=\"kn\">import</span> <span class=\"nn\">timeit</span>\n",
       "    <span class=\"n\">times</span> <span class=\"o\">=</span> <span class=\"p\">{}</span>\n",
       "    <span class=\"k\">for</span> <span class=\"n\">stepfunc</span> <span class=\"ow\">in</span> <span class=\"n\">stepfunclist</span><span class=\"p\">:</span>\n",
       "        <span class=\"n\">command</span> <span class=\"o\">=</span> <span class=\"s1\">&#39;ng = {}(g)&#39;</span><span class=\"o\">.</span><span class=\"n\">format</span><span class=\"p\">(</span><span class=\"n\">stepfunc</span><span class=\"o\">.</span><span class=\"n\">__name__</span><span class=\"p\">)</span>\n",
       "        <span class=\"n\">setup</span> <span class=\"o\">=</span> <span class=\"s1\">&#39;from __main__ import {}; import numpy as np; g=(np.random.rand(31,21)&gt;=0.5)&#39;</span><span class=\"o\">.</span><span class=\"n\">format</span><span class=\"p\">(</span><span class=\"n\">stepfunc</span><span class=\"o\">.</span><span class=\"n\">__name__</span><span class=\"p\">)</span>\n",
       "        <span class=\"n\">times</span><span class=\"p\">[</span><span class=\"n\">stepfunc</span><span class=\"o\">.</span><span class=\"n\">__name__</span><span class=\"p\">]</span> <span class=\"o\">=</span> <span class=\"n\">timeit</span><span class=\"o\">.</span><span class=\"n\">timeit</span><span class=\"p\">(</span><span class=\"n\">command</span><span class=\"p\">,</span><span class=\"n\">setup</span><span class=\"o\">=</span><span class=\"n\">setup</span><span class=\"p\">,</span> <span class=\"n\">number</span><span class=\"o\">=</span><span class=\"mi\">100</span><span class=\"p\">)</span>\n",
       "    <span class=\"c1\">#t = timeit.timeit(&#39;ng = stepper0(grid)&#39;, setup=&#39;from __main__ import stepper0; import numpy as np; grid=np.random.rand(31,21)&gt;=0.5&#39;, number=100)</span>\n",
       "    <span class=\"n\">timeinfo</span> <span class=\"o\">=</span> <span class=\"p\">[</span> <span class=\"s1\">&#39;{:9.5f} {}&#39;</span><span class=\"o\">.</span><span class=\"n\">format</span><span class=\"p\">(</span><span class=\"n\">t</span><span class=\"p\">,</span><span class=\"n\">n</span><span class=\"p\">)</span> <span class=\"k\">for</span> <span class=\"p\">(</span><span class=\"n\">n</span><span class=\"p\">,</span><span class=\"n\">t</span><span class=\"p\">)</span> <span class=\"ow\">in</span> <span class=\"n\">times</span><span class=\"o\">.</span><span class=\"n\">items</span><span class=\"p\">()</span> <span class=\"p\">]</span>\n",
       "    <span class=\"k\">print</span><span class=\"p\">(</span> <span class=\"s1\">&#39;</span><span class=\"se\">\\n</span><span class=\"s1\">&#39;</span><span class=\"o\">.</span><span class=\"n\">join</span><span class=\"p\">(</span> <span class=\"nb\">sorted</span><span class=\"p\">(</span><span class=\"n\">timeinfo</span><span class=\"p\">)</span> <span class=\"p\">)</span> <span class=\"p\">)</span>\n",
       "    \n",
       "<span class=\"c1\">#newgrid = life_generation_stepper(grid, nsteps=1)</span>\n",
       "<span class=\"c1\">#p=plt.imshow(grid, interpolation=&#39;nearest&#39;)    </span>\n",
       "<span class=\"c1\">#p = plt.matshow(grid)</span>\n",
       "<span class=\"c1\">#newgrid = life_generation_stepper2(grid, nsteps=100, plot=p)</span>\n",
       "<span class=\"c1\">#p = plt.imshow(grid)</span>\n",
       "    \n",
       "</pre></div>\n"
      ],
      "text/plain": [
       "<IPython.core.display.HTML object>"
      ]
     },
     "execution_count": 113,
     "metadata": {},
     "output_type": "execute_result"
    }
   ],
   "source": [
    "#from pygments import highlight\n",
    "#from pygments.lexers import PythonLexer\n",
    "#from pygments.formatters import HtmlFormatter\n",
    "#import IPython\n",
    "\n",
    "#with open('phys481_game-of-life.py') as f:\n",
    "#    code = f.read()\n",
    "\n",
    "#formatter = HtmlFormatter()\n",
    "#IPython.display.HTML('<style type=\"text/css\">{}</style>{}'.format(\n",
    "#    formatter.get_style_defs('.highlight'),\n",
    "#    highlight(code, PythonLexer(), formatter)))"
   ]
  }
 ],
 "metadata": {
  "anaconda-cloud": {},
  "kernelspec": {
   "display_name": "Python 3",
   "language": "python",
   "name": "python3"
  },
  "language_info": {
   "codemirror_mode": {
    "name": "ipython",
    "version": 3
   },
   "file_extension": ".py",
   "mimetype": "text/x-python",
   "name": "python",
   "nbconvert_exporter": "python",
   "pygments_lexer": "ipython3",
   "version": "3.6.0"
  }
 },
 "nbformat": 4,
 "nbformat_minor": 1
}
