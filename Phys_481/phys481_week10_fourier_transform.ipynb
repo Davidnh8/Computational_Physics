{
 "cells": [
  {
   "cell_type": "markdown",
   "metadata": {},
   "source": [
    "# Fourier Transform\n",
    "## Physics 481  Week 10  Fall 2017"
   ]
  },
  {
   "cell_type": "code",
   "execution_count": 37,
   "metadata": {
    "collapsed": true
   },
   "outputs": [],
   "source": [
    "import numpy as np\n",
    "import matplotlib.pyplot as plt\n",
    "%matplotlib inline\n",
    "\n",
    "import scipy.integrate as integrate"
   ]
  },
  {
   "cell_type": "markdown",
   "metadata": {},
   "source": [
    "## Orthogonal decomposition\n",
    "\n",
    "Any arbitrary function $f(x)$ can be represented by some combination of _complete_ basis functions $\\phi_k(x)$\n",
    " \n",
    " $$ f(x) = \\sum_k c_k \\; \\phi_k(x) $$\n",
    "\n",
    "where the coefficients $c_k$ can be found by \"projecting\" $f(x)$ onto each element of the basis set\n",
    "in order to determine the coefficients.   \n",
    " \n",
    " $$ c_k = P \\left( f, \\phi_k \\right ) $$\n",
    " \n",
    "where this projection may be written in terms of an inner product \n",
    " \n",
    " $$ c_k = \\left < \\, f(x)  \\, \\phi_k(x)  \\, \\right >_x $$\n",
    " \n",
    "If the inner product of two functions is simply the integral of the two functions multiplied together\n",
    " \n",
    " $$ c_k = \\int f(x) \\phi_k(x) $$\n",
    " \n",
    "then we can substitute the expansion for $f(x)$ and exchange the order of summation and integration \n",
    " \n",
    " $$ \\begin{align} c_k &= \\int \\sum_j c_j \\phi_j(x) \\; \\phi_k(x) \\\\ \n",
    " &= \\sum_k c_k \\int  \\phi_j(x) \\; \\phi_k(x) \\end{align}$$\n",
    " \n",
    "where the last step is only true if the basis functions are *orthonormal* (or at least orthogonal)\n",
    "\n",
    "  $$ \\int  \\phi_j(x) \\; \\phi_k(x) = \\delta_{j,k}  $$"
   ]
  },
  {
   "cell_type": "markdown",
   "metadata": {},
   "source": [
    "## Sine Transform\n",
    "\n",
    "It can be shown that sinusoids are orthogonal and complete over the range $-\\infty$ to $+\\infty$.  This leads to a definition for the Sine transform\n",
    "\n",
    "  $$ F(k) = \\sqrt{\\frac{2}{\\pi}} \\int_{0}^\\infty f(x) ;\\ \\sin(2\\pi x k) \\mathrm{d} x. $$\n"
   ]
  },
  {
   "cell_type": "code",
   "execution_count": 38,
   "metadata": {
    "collapsed": true
   },
   "outputs": [],
   "source": [
    "import sympy\n",
    "from sympy import sine_transform, exp\n",
    "#from sympy.abc import sx, sk, sa, sb\n",
    "sx = sympy.Symbol('sx')\n",
    "sk = sympy.Symbol('sk')\n",
    "sa = sympy.Symbol('sa')\n",
    "sb = sympy.Symbol('sb')\n",
    "sn = sympy.Symbol('sn', positive=True)\n",
    "sm = sympy.Symbol('sm', positive=True)"
   ]
  },
  {
   "cell_type": "code",
   "execution_count": null,
   "metadata": {
    "collapsed": true
   },
   "outputs": [],
   "source": []
  },
  {
   "cell_type": "code",
   "execution_count": 39,
   "metadata": {},
   "outputs": [
    {
     "name": "stdout",
     "output_type": "stream",
     "text": [
      "Piecewise((1 - sin(2*pi*sn)/(2*pi*sn), Eq(sm, sn)), (2*(-sm*sin(pi*sn)*cos(pi*sm) + sn*sin(pi*sm)*cos(pi*sn))/(pi*(sm**2 - sn**2)), True))\n"
     ]
    }
   ],
   "source": [
    "funca = sympy.sin(sn*sympy.pi*sx)\n",
    "funcb = sympy.sin(sm*sympy.pi*sx)                  \n",
    "func = sympy.integrate( funca*funcb, (sx, -1, 1))\n",
    "print( sympy.simplify(func) )"
   ]
  },
  {
   "cell_type": "markdown",
   "metadata": {},
   "source": [
    "### Examples"
   ]
  },
  {
   "cell_type": "code",
   "execution_count": 40,
   "metadata": {},
   "outputs": [
    {
     "name": "stdout",
     "output_type": "stream",
     "text": [
      "sqrt(2)*sk*exp(-sk**2/(4*sa))/(4*sa**(3/2))\n"
     ]
    }
   ],
   "source": [
    "funcx = sx*exp(-sa*sx**2)\n",
    "funck = sine_transform( funcx, sx, sk)\n",
    "print(funck)\n",
    "#sympy.plot( [func.subs(a,2), func.subs(a,1)], (x, -5, +5), label='a=1' )"
   ]
  },
  {
   "cell_type": "code",
   "execution_count": null,
   "metadata": {
    "collapsed": true
   },
   "outputs": [],
   "source": []
  },
  {
   "cell_type": "markdown",
   "metadata": {},
   "source": [
    "It is very easy to produce a simple plot in sympy.  However, anything more complicated (eg. subplots, multiple curves per plot) seems to be difficult or impossible."
   ]
  },
  {
   "cell_type": "code",
   "execution_count": 41,
   "metadata": {},
   "outputs": [
    {
     "data": {
      "image/png": "[encoded data removed]",
      "text/plain": [
       "<matplotlib.figure.Figure at 0xb0e55c0>"
      ]
     },
     "metadata": {},
     "output_type": "display_data"
    },
    {
     "data": {
      "image/png": "[encoded data removed]",
      "text/plain": [
       "<matplotlib.figure.Figure at 0xb18ba90>"
      ]
     },
     "metadata": {},
     "output_type": "display_data"
    }
   ],
   "source": [
    "plot1 = sympy.plot( funcx.subs(sa,1), (sx, -5, +5) )\n",
    "plot2 = sympy.plot( funck.subs(sa,1), (sk, -5, +5) )\n",
    "#plot1.append( plot2[0] ) ?"
   ]
  },
  {
   "cell_type": "markdown",
   "metadata": {},
   "source": [
    "For now I will do a relatively crude evaluation over an array.\n",
    "\n",
    "### Scaling under transformation\n",
    "\n",
    "Fourier transforming a wide function will tend to produce a narrow function, and vice versa.  The uncertainty principle will result if two observables are related by the Fourier transform "
   ]
  },
  {
   "cell_type": "code",
   "execution_count": 42,
   "metadata": {},
   "outputs": [
    {
     "data": {
      "text/plain": [
       "<matplotlib.text.Text at 0x7962c50>"
      ]
     },
     "execution_count": 42,
     "metadata": {},
     "output_type": "execute_result"
    },
    {
     "data": {
      "image/png": "[encoded data removed]",
      "text/plain": [
       "<matplotlib.figure.Figure at 0xb1fe9e8>"
      ]
     },
     "metadata": {},
     "output_type": "display_data"
    }
   ],
   "source": [
    "xvals = np.linspace(-5, 5, 99)\n",
    "for v in [0.1, 1, 10]:\n",
    "    func = funcx.subs(sa,v) * v\n",
    "    y = np.array( [func.subs(sx,w) for w in xvals] )\n",
    "    plt.plot(xvals, y, label='a='+str(v) )\n",
    "plt.legend(loc=0)\n",
    "plt.xlabel('x')"
   ]
  },
  {
   "cell_type": "code",
   "execution_count": 43,
   "metadata": {},
   "outputs": [
    {
     "data": {
      "text/plain": [
       "<matplotlib.text.Text at 0x807c908>"
      ]
     },
     "execution_count": 43,
     "metadata": {},
     "output_type": "execute_result"
    },
    {
     "data": {
      "image/png": "[encoded data removed]",
      "text/plain": [
       "<matplotlib.figure.Figure at 0xb2a5c18>"
      ]
     },
     "metadata": {},
     "output_type": "display_data"
    }
   ],
   "source": [
    "kvals = np.linspace(-5, 5, 99)\n",
    "for v in [0.1, 1, 10]:\n",
    "    func = funck.subs(sa,v) * v\n",
    "    y = np.array( [func.subs(sk,w) for w in kvals] )\n",
    "    plt.plot(kvals, y, label='a='+str(v) )\n",
    "plt.legend(loc=0)\n",
    "plt.xlabel('k')"
   ]
  },
  {
   "cell_type": "markdown",
   "metadata": {},
   "source": [
    "Note: the Sine transform makes wide functions narrower and vice versa."
   ]
  },
  {
   "cell_type": "markdown",
   "metadata": {},
   "source": [
    "## Quadrature\n",
    "Numpy provides a collection of tools for numerical integration of functions"
   ]
  },
  {
   "cell_type": "code",
   "execution_count": 283,
   "metadata": {
    "scrolled": true
   },
   "outputs": [
    {
     "data": {
      "image/png": "[encoded data removed]",
      "text/plain": [
       "<matplotlib.figure.Figure at 0x26a42eb8>"
      ]
     },
     "metadata": {},
     "output_type": "display_data"
    }
   ],
   "source": [
    "# test function with a Gaussian profile\n",
    "#\n",
    "def gfunc(x, width=1.0, offset=0.0):\n",
    "    arg = (x - offset) / width\n",
    "    return np.exp(-arg**2 ) / np.sqrt( np.pi * width**2 )\n",
    "\n",
    "x = np.linspace(-5.0, 5.0, 99)\n",
    "y = gfunc(x)\n",
    "plt.plot(x,y)\n",
    "plt.grid('on')"
   ]
  },
  {
   "cell_type": "markdown",
   "metadata": {},
   "source": [
    "### The area under a Gaussian should be exactly one."
   ]
  },
  {
   "cell_type": "code",
   "execution_count": 45,
   "metadata": {},
   "outputs": [
    {
     "name": "stdout",
     "output_type": "stream",
     "text": [
      "1.0 8.012979942038555e-09\n"
     ]
    }
   ],
   "source": [
    "amount, error = integrate.quad( gfunc, -np.inf, +np.inf )\n",
    "print(amount,error)"
   ]
  },
  {
   "cell_type": "markdown",
   "metadata": {},
   "source": [
    "### The integral of an odd function is zero."
   ]
  },
  {
   "cell_type": "code",
   "execution_count": 46,
   "metadata": {},
   "outputs": [
    {
     "name": "stdout",
     "output_type": "stream",
     "text": [
      "(0.0, 0.0)\n"
     ]
    }
   ],
   "source": [
    "afunc = lambda x: gfunc(x) * x\n",
    "amount = integrate.quad( afunc, -np.inf, +np.inf )\n",
    "print(amount)"
   ]
  },
  {
   "cell_type": "markdown",
   "metadata": {},
   "source": [
    "## Even/odd\n",
    "https://math.stackexchange.com/questions/5274/how-do-i-divide-a-function-into-even-and-odd-sections\n",
    "\n",
    "Suppose you could write a function $f(x)$ as the sum of an even and an odd function; call them $E(x)$ and $O(x)$.\n",
    "\n",
    "In particular, you would have\n",
    " \n",
    " $$f(x)=E(x)+O(x)$$\n",
    "\n",
    "and you would also have\n",
    "\n",
    "$$ f(−x)=E(−x)+O(−x)=E(x)−O(x) $$\n",
    "\n",
    "with the latter equation because we are assuming $E$ is even and $O$ is odd, so $$E(x)=E(−x)$$ and $$O(−x)=−O(x)$$.\n",
    "\n",
    "Adding both equations you get $$f(x)+f(−x)=2E(x)$$. Subtracting the second equation from the first gives you $$ f(x)−f(−x)=2O(x)$$. Now solve for $E(x)$ and $O(x)$, and you get the formulas you see in the solution. Then you check that the answer does indeed work (that is, you check that the formulas you found do give you an even and an odd function in all cases).\n",
    "\n",
    "In other words: pretend you already know the answer, and try to deduce conditions that the answer must satisfy (these will be necessary conditions"
   ]
  },
  {
   "cell_type": "markdown",
   "metadata": {},
   "source": [
    "### Passing args to integrate"
   ]
  },
  {
   "cell_type": "code",
   "execution_count": 57,
   "metadata": {},
   "outputs": [
    {
     "data": {
      "text/plain": [
       "[<matplotlib.lines.Line2D at 0xeeab2e8>]"
      ]
     },
     "execution_count": 57,
     "metadata": {},
     "output_type": "execute_result"
    },
    {
     "data": {
      "image/png": "[encoded data removed]",
      "text/plain": [
       "<matplotlib.figure.Figure at 0xed60ef0>"
      ]
     },
     "metadata": {},
     "output_type": "display_data"
    }
   ],
   "source": [
    "def cosfunc(x, k):\n",
    "    return np.cos(k*np.pi*x)\n",
    "    \n",
    "def fourier_cos_transform(func, lim=[-1,+1]):\n",
    "    \n",
    "    result = []\n",
    "    kvals = np.linspace(-5,5,101)\n",
    "    for k in kvals:\n",
    "        tmp = integrate.quad( cosfunc, lim[0], lim[1], args=(k,) )\n",
    "        result.append(tmp[0])      \n",
    "    return np.array(result), kvals\n",
    "        \n",
    "y, k = fourier_cos_transform( gfunc )\n",
    "plt.plot(k, y)"
   ]
  },
  {
   "cell_type": "markdown",
   "metadata": {},
   "source": [
    "## Factory function\n",
    "\n",
    "The return statement in a Python function is used to pass information back to the caller.  This could be a True/False status, some value, or a list, or really *anything* you want.  \n",
    "\n",
    "It is also possible to define functions inside other functions.  Note that when the inner function is defined"
   ]
  },
  {
   "cell_type": "code",
   "execution_count": 98,
   "metadata": {},
   "outputs": [
    {
     "name": "stdout",
     "output_type": "stream",
     "text": [
      "<class 'function'> <function outerfunc.<locals>.innerfunc at 0x000000000AF5B158>\n",
      "1024.0\n"
     ]
    }
   ],
   "source": [
    "def outerfunc(x, n=3):\n",
    "    \n",
    "    def innerfunc(x):\n",
    "        return x**n\n",
    "    \n",
    "    return innerfunc\n",
    "\n",
    "test = outerfunc(2.0, 5.0)\n",
    "print( type(test), test )\n",
    "print( test(4.0) )"
   ]
  },
  {
   "cell_type": "code",
   "execution_count": 99,
   "metadata": {
    "scrolled": true
   },
   "outputs": [
    {
     "name": "stdout",
     "output_type": "stream",
     "text": [
      "<class 'function'> <function outerfunc.<locals>.innerfunc at 0x000000000BC03AE8>\n",
      "64.0\n",
      "<class 'function'> <function outerfunc.<locals>.innerfunc at 0x000000000EF3FAE8>\n",
      "1024.0\n"
     ]
    }
   ],
   "source": [
    "test3 = outerfunc(2.0, 3.0)\n",
    "print( type(test3), test3 )\n",
    "print( test3(4.0) )\n",
    "\n",
    "test5 = outerfunc(2.0, 5.0)\n",
    "print( type(test5), test5 )\n",
    "print( test5(4.0) )"
   ]
  },
  {
   "cell_type": "code",
   "execution_count": 100,
   "metadata": {},
   "outputs": [
    {
     "name": "stdout",
     "output_type": "stream",
     "text": [
      "<class 'function'> <function outerfunc.<locals>.<lambda> at 0x000000000AF5B0D0>\n",
      "1024.0\n"
     ]
    }
   ],
   "source": [
    "def outerfunc(x, n=3):   \n",
    "    return lambda x: x**n\n",
    "\n",
    "test = outerfunc(2.0, 5.0)\n",
    "print( type(test), test )\n",
    "print( test(4.0) )"
   ]
  },
  {
   "cell_type": "code",
   "execution_count": 101,
   "metadata": {
    "collapsed": true
   },
   "outputs": [],
   "source": [
    "def inner_product(func1, func2, lim=[-np.infty,+np.infty]):\n",
    "    \n",
    "    func = lambda x: func1(x)*func2(x)\n",
    "    result = integrate.quad( func, lim[0], lim[1] )\n",
    "    return result"
   ]
  },
  {
   "cell_type": "code",
   "execution_count": 102,
   "metadata": {
    "collapsed": true
   },
   "outputs": [],
   "source": [
    "def cos_func_factory(n):\n",
    "    twopi = 2 * np.pi\n",
    "    func = lambda x: np.cos(twopi * n * x)\n",
    "    return func"
   ]
  },
  {
   "cell_type": "code",
   "execution_count": 105,
   "metadata": {},
   "outputs": [
    {
     "name": "stdout",
     "output_type": "stream",
     "text": [
      "(0.08815404609785595, 4.726447190400961e-15)\n"
     ]
    }
   ],
   "source": [
    "cos_func = lambda x: np.cos(2.0*np.pi*x)    \n",
    "print( inner_product( outerfunc(x,5), cos_func_factory(1), [0, 1] ) )"
   ]
  },
  {
   "cell_type": "markdown",
   "metadata": {},
   "source": [
    "## Write functions to numerically evaluate each of the the cosine and sine transforms\n",
    "\n",
    "  $$ F_s(k) = \\sqrt{\\frac{1}{\\pi}} \\int_{-\\infty}^{+\\infty} f(x) \\; \\sin(2\\pi x k) \\; dx $$\n",
    "  \n",
    "   $$ F_c(k) = \\sqrt{\\frac{1}{\\pi}} \\int_{-\\infty}^{+\\infty} f(x) \\; \\cos(2\\pi x k) \\; dx $$"
   ]
  },
  {
   "cell_type": "code",
   "execution_count": 305,
   "metadata": {
    "collapsed": true
   },
   "outputs": [],
   "source": [
    "def sin_factory(k):\n",
    "    func = lambda x: np.sin(2*np.pi * k * x)\n",
    "    return func\n",
    "\n",
    "def cos_factory(k):\n",
    "    func = lambda x: np.cos(2*np.pi * k * x)\n",
    "    return func\n",
    "\n",
    "def custom_func(x,k):   \n",
    "    return lambda x: np.exp(-i*k*x*2*np.pi)\n",
    "\n",
    "\n",
    "def sin_T(func1,func2,lim=[-np.infty,np.infty]):\n",
    "\n",
    "    funct= lambda x: func1(x)*func2(x)\n",
    "    r1,r2=integrate.quad(funct,lim[0],lim[1])\n",
    "    \n",
    "    return r1,r2\n"
   ]
  },
  {
   "cell_type": "code",
   "execution_count": 306,
   "metadata": {
    "collapsed": true
   },
   "outputs": [],
   "source": [
    "kvals=np.linspace(-5,5,101)\n",
    "\n",
    "result=[]\n",
    "\n",
    "for k in kvals:\n",
    "    \n",
    "    re=sin_T(gfunc,cos_factory(k))\n",
    "    result.append(re)"
   ]
  },
  {
   "cell_type": "code",
   "execution_count": 307,
   "metadata": {},
   "outputs": [
    {
     "data": {
      "image/png": "[encoded data removed]",
      "text/plain": [
       "<matplotlib.figure.Figure at 0x2799c908>"
      ]
     },
     "metadata": {},
     "output_type": "display_data"
    }
   ],
   "source": [
    "plt.plot(kvals,np.array(result)[:,0])\n",
    "plt.show()"
   ]
  },
  {
   "cell_type": "code",
   "execution_count": null,
   "metadata": {
    "collapsed": true
   },
   "outputs": [],
   "source": []
  },
  {
   "cell_type": "code",
   "execution_count": null,
   "metadata": {
    "collapsed": true
   },
   "outputs": [],
   "source": []
  },
  {
   "cell_type": "markdown",
   "metadata": {
    "collapsed": true
   },
   "source": [
    "## Write a function to numerically evaluate the Fourier transform."
   ]
  },
  {
   "cell_type": "markdown",
   "metadata": {},
   "source": [
    "https://en.wikipedia.org/wiki/Fourier_transform\n",
    "    \n",
    "$$ F(k) = \\frac{1}{\\sqrt{2\\pi}} \\int_{-\\infty}^{+\\infty} f(x) \\; e^{-ikx} \\; dx $$"
   ]
  },
  {
   "cell_type": "code",
   "execution_count": 1,
   "metadata": {},
   "outputs": [
    {
     "ename": "NameError",
     "evalue": "name 'sx' is not defined",
     "output_type": "error",
     "traceback": [
      "\u001b[1;31m---------------------------------------------------------------------------\u001b[0m",
      "\u001b[1;31mNameError\u001b[0m                                 Traceback (most recent call last)",
      "\u001b[1;32m<ipython-input-1-d196a87799b1>\u001b[0m in \u001b[0;36m<module>\u001b[1;34m()\u001b[0m\n\u001b[1;32m----> 1\u001b[1;33m \u001b[0mfuncx\u001b[0m \u001b[1;33m=\u001b[0m \u001b[0msx\u001b[0m\u001b[1;33m*\u001b[0m\u001b[0mexp\u001b[0m\u001b[1;33m(\u001b[0m\u001b[1;33m-\u001b[0m\u001b[0msa\u001b[0m\u001b[1;33m*\u001b[0m\u001b[0msx\u001b[0m\u001b[1;33m**\u001b[0m\u001b[1;36m2\u001b[0m\u001b[1;33m)\u001b[0m\u001b[1;33m\u001b[0m\u001b[0m\n\u001b[0m\u001b[0;32m      2\u001b[0m \u001b[0mfunck\u001b[0m \u001b[1;33m=\u001b[0m \u001b[0msine_transform\u001b[0m\u001b[1;33m(\u001b[0m \u001b[0mfuncx\u001b[0m\u001b[1;33m,\u001b[0m \u001b[0msx\u001b[0m\u001b[1;33m,\u001b[0m \u001b[0msk\u001b[0m\u001b[1;33m)\u001b[0m\u001b[1;33m\u001b[0m\u001b[0m\n\u001b[0;32m      3\u001b[0m \u001b[0mprint\u001b[0m\u001b[1;33m(\u001b[0m\u001b[0mfunck\u001b[0m\u001b[1;33m)\u001b[0m\u001b[1;33m\u001b[0m\u001b[0m\n\u001b[0;32m      4\u001b[0m \u001b[1;31m#sympy.plot( [func.subs(a,2), func.subs(a,1)], (x, -5, +5), label='a=1' )\u001b[0m\u001b[1;33m\u001b[0m\u001b[1;33m\u001b[0m\u001b[0m\n",
      "\u001b[1;31mNameError\u001b[0m: name 'sx' is not defined"
     ]
    }
   ],
   "source": [
    "funcx = sx*exp(-sa*sx**2)\n",
    "funck = sine_transform( funcx, sx, sk)\n",
    "print(funck)\n",
    "#sympy.plot( [func.subs(a,2), func.subs(a,1)], (x, -5, +5), label='a=1' )"
   ]
  },
  {
   "cell_type": "code",
   "execution_count": null,
   "metadata": {
    "collapsed": true
   },
   "outputs": [],
   "source": []
  },
  {
   "cell_type": "code",
   "execution_count": 62,
   "metadata": {
    "collapsed": true
   },
   "outputs": [],
   "source": [
    "k=np.linspace(-5,5,99)\n",
    "\n",
    "def sin(x):\n",
    "    return np.sin(2*np.pi*x)\n",
    "\n",
    "\n",
    "def sin_T(f_input,k,lim=[-1,1]):\n",
    "\n",
    "    result=[]\n",
    "    \n",
    "    for kvals in k:\n",
    "        func= sin(x)\n",
    "        tmp=integrate.quad(func,lim[0],lim[1],args=(k,))\n",
    "        \n",
    "    return np.array(result),k"
   ]
  },
  {
   "cell_type": "code",
   "execution_count": 63,
   "metadata": {},
   "outputs": [
    {
     "ename": "ValueError",
     "evalue": "invalid callable given",
     "output_type": "error",
     "traceback": [
      "\u001b[1;31m---------------------------------------------------------------------------\u001b[0m",
      "\u001b[1;31mValueError\u001b[0m                                Traceback (most recent call last)",
      "\u001b[1;32m<ipython-input-63-1a52e4acbf52>\u001b[0m in \u001b[0;36m<module>\u001b[1;34m()\u001b[0m\n\u001b[1;32m----> 1\u001b[1;33m \u001b[0msin_T\u001b[0m\u001b[1;33m(\u001b[0m\u001b[0mfunc1\u001b[0m\u001b[1;33m,\u001b[0m\u001b[0mk\u001b[0m\u001b[1;33m)\u001b[0m\u001b[1;33m\u001b[0m\u001b[0m\n\u001b[0m",
      "\u001b[1;32m<ipython-input-62-6fcb2092e301>\u001b[0m in \u001b[0;36msin_T\u001b[1;34m(f_input, k, lim)\u001b[0m\n\u001b[0;32m     11\u001b[0m     \u001b[1;32mfor\u001b[0m \u001b[0mkvals\u001b[0m \u001b[1;32min\u001b[0m \u001b[0mk\u001b[0m\u001b[1;33m:\u001b[0m\u001b[1;33m\u001b[0m\u001b[0m\n\u001b[0;32m     12\u001b[0m         \u001b[0mfunc\u001b[0m\u001b[1;33m=\u001b[0m \u001b[0msin\u001b[0m\u001b[1;33m(\u001b[0m\u001b[0mx\u001b[0m\u001b[1;33m)\u001b[0m\u001b[1;33m\u001b[0m\u001b[0m\n\u001b[1;32m---> 13\u001b[1;33m         \u001b[0mtmp\u001b[0m\u001b[1;33m=\u001b[0m\u001b[0mintegrate\u001b[0m\u001b[1;33m.\u001b[0m\u001b[0mquad\u001b[0m\u001b[1;33m(\u001b[0m\u001b[0mfunc\u001b[0m\u001b[1;33m,\u001b[0m\u001b[0mlim\u001b[0m\u001b[1;33m[\u001b[0m\u001b[1;36m0\u001b[0m\u001b[1;33m]\u001b[0m\u001b[1;33m,\u001b[0m\u001b[0mlim\u001b[0m\u001b[1;33m[\u001b[0m\u001b[1;36m1\u001b[0m\u001b[1;33m]\u001b[0m\u001b[1;33m,\u001b[0m\u001b[0margs\u001b[0m\u001b[1;33m=\u001b[0m\u001b[1;33m(\u001b[0m\u001b[0mk\u001b[0m\u001b[1;33m,\u001b[0m\u001b[1;33m)\u001b[0m\u001b[1;33m)\u001b[0m\u001b[1;33m\u001b[0m\u001b[0m\n\u001b[0m\u001b[0;32m     14\u001b[0m \u001b[1;33m\u001b[0m\u001b[0m\n\u001b[0;32m     15\u001b[0m     \u001b[1;32mreturn\u001b[0m \u001b[0mnp\u001b[0m\u001b[1;33m.\u001b[0m\u001b[0marray\u001b[0m\u001b[1;33m(\u001b[0m\u001b[0mresult\u001b[0m\u001b[1;33m)\u001b[0m\u001b[1;33m,\u001b[0m\u001b[0mk\u001b[0m\u001b[1;33m\u001b[0m\u001b[0m\n",
      "\u001b[1;32m~\\Miniconda3\\lib\\site-packages\\scipy\\integrate\\quadpack.py\u001b[0m in \u001b[0;36mquad\u001b[1;34m(func, a, b, args, full_output, epsabs, epsrel, limit, points, weight, wvar, wopts, maxp1, limlst)\u001b[0m\n\u001b[0;32m    321\u001b[0m     \u001b[1;32mif\u001b[0m \u001b[1;33m(\u001b[0m\u001b[0mweight\u001b[0m \u001b[1;32mis\u001b[0m \u001b[1;32mNone\u001b[0m\u001b[1;33m)\u001b[0m\u001b[1;33m:\u001b[0m\u001b[1;33m\u001b[0m\u001b[0m\n\u001b[0;32m    322\u001b[0m         retval = _quad(func, a, b, args, full_output, epsabs, epsrel, limit,\n\u001b[1;32m--> 323\u001b[1;33m                        points)\n\u001b[0m\u001b[0;32m    324\u001b[0m     \u001b[1;32melse\u001b[0m\u001b[1;33m:\u001b[0m\u001b[1;33m\u001b[0m\u001b[0m\n\u001b[0;32m    325\u001b[0m         retval = _quad_weight(func, a, b, args, full_output, epsabs, epsrel,\n",
      "\u001b[1;32m~\\Miniconda3\\lib\\site-packages\\scipy\\integrate\\quadpack.py\u001b[0m in \u001b[0;36m_quad\u001b[1;34m(func, a, b, args, full_output, epsabs, epsrel, limit, points)\u001b[0m\n\u001b[0;32m    388\u001b[0m             \u001b[1;32mreturn\u001b[0m \u001b[0m_quadpack\u001b[0m\u001b[1;33m.\u001b[0m\u001b[0m_qagse\u001b[0m\u001b[1;33m(\u001b[0m\u001b[0mfunc\u001b[0m\u001b[1;33m,\u001b[0m\u001b[0ma\u001b[0m\u001b[1;33m,\u001b[0m\u001b[0mb\u001b[0m\u001b[1;33m,\u001b[0m\u001b[0margs\u001b[0m\u001b[1;33m,\u001b[0m\u001b[0mfull_output\u001b[0m\u001b[1;33m,\u001b[0m\u001b[0mepsabs\u001b[0m\u001b[1;33m,\u001b[0m\u001b[0mepsrel\u001b[0m\u001b[1;33m,\u001b[0m\u001b[0mlimit\u001b[0m\u001b[1;33m)\u001b[0m\u001b[1;33m\u001b[0m\u001b[0m\n\u001b[0;32m    389\u001b[0m         \u001b[1;32melse\u001b[0m\u001b[1;33m:\u001b[0m\u001b[1;33m\u001b[0m\u001b[0m\n\u001b[1;32m--> 390\u001b[1;33m             \u001b[1;32mreturn\u001b[0m \u001b[0m_quadpack\u001b[0m\u001b[1;33m.\u001b[0m\u001b[0m_qagie\u001b[0m\u001b[1;33m(\u001b[0m\u001b[0mfunc\u001b[0m\u001b[1;33m,\u001b[0m\u001b[0mbound\u001b[0m\u001b[1;33m,\u001b[0m\u001b[0minfbounds\u001b[0m\u001b[1;33m,\u001b[0m\u001b[0margs\u001b[0m\u001b[1;33m,\u001b[0m\u001b[0mfull_output\u001b[0m\u001b[1;33m,\u001b[0m\u001b[0mepsabs\u001b[0m\u001b[1;33m,\u001b[0m\u001b[0mepsrel\u001b[0m\u001b[1;33m,\u001b[0m\u001b[0mlimit\u001b[0m\u001b[1;33m)\u001b[0m\u001b[1;33m\u001b[0m\u001b[0m\n\u001b[0m\u001b[0;32m    391\u001b[0m     \u001b[1;32melse\u001b[0m\u001b[1;33m:\u001b[0m\u001b[1;33m\u001b[0m\u001b[0m\n\u001b[0;32m    392\u001b[0m         \u001b[1;32mif\u001b[0m \u001b[0minfbounds\u001b[0m \u001b[1;33m!=\u001b[0m \u001b[1;36m0\u001b[0m\u001b[1;33m:\u001b[0m\u001b[1;33m\u001b[0m\u001b[0m\n",
      "\u001b[1;31mValueError\u001b[0m: invalid callable given"
     ]
    }
   ],
   "source": [
    "sin_T(func1,k)"
   ]
  },
  {
   "cell_type": "code",
   "execution_count": null,
   "metadata": {
    "collapsed": true
   },
   "outputs": [],
   "source": []
  },
  {
   "cell_type": "code",
   "execution_count": null,
   "metadata": {
    "collapsed": true
   },
   "outputs": [],
   "source": []
  },
  {
   "cell_type": "code",
   "execution_count": null,
   "metadata": {
    "collapsed": true
   },
   "outputs": [],
   "source": [
    "def cosfunc(x, k):\n",
    "    return np.cos(k*np.pi*x)\n",
    "    \n",
    "def fourier_cos_transform(func, lim=[-1,+1]):\n",
    "    \n",
    "    result = []\n",
    "    kvals = np.linspace(-5,5,101)\n",
    "    for k in kvals:\n",
    "        tmp = integrate.quad( cosfunc, lim[0], lim[1], args=(k,) )\n",
    "        result.append(tmp[0])      \n",
    "    return np.array(result), kvals\n",
    "        \n",
    "y, k = fourier_cos_transform( gfunc )\n",
    "plt.plot(k, y)"
   ]
  },
  {
   "cell_type": "code",
   "execution_count": null,
   "metadata": {
    "collapsed": true
   },
   "outputs": [],
   "source": []
  },
  {
   "cell_type": "markdown",
   "metadata": {},
   "source": [
    "## Additional reading\n",
    "\n",
    "http://calebmadrigal.com/fourier-transform-notes/"
   ]
  }
 ],
 "metadata": {
  "anaconda-cloud": {},
  "kernelspec": {
   "display_name": "Python 3",
   "language": "python",
   "name": "python3"
  },
  "language_info": {
   "codemirror_mode": {
    "name": "ipython",
    "version": 3
   },
   "file_extension": ".py",
   "mimetype": "text/x-python",
   "name": "python",
   "nbconvert_exporter": "python",
   "pygments_lexer": "ipython3",
   "version": "3.6.0"
  }
 },
 "nbformat": 4,
 "nbformat_minor": 1
}
