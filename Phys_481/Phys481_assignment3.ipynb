{
 "cells": [
  {
   "cell_type": "markdown",
   "metadata": {},
   "source": [
    "# PHYS 481 Assignment 3\n",
    "Physics 481 Fall 2017 Week 3\n",
    "\n",
    "Gisu Ham 10134838  \n",
    "Lincoln Phung \n",
    "\n"
   ]
  },
  {
   "cell_type": "code",
   "execution_count": 1001,
   "metadata": {
    "collapsed": true
   },
   "outputs": [],
   "source": [
    "#import \n",
    "import numpy as np\n",
    "import random\n",
    "import time\n",
    "import matplotlib.pyplot as plt"
   ]
  },
  {
   "cell_type": "markdown",
   "metadata": {},
   "source": [
    "# Intro"
   ]
  },
  {
   "cell_type": "markdown",
   "metadata": {},
   "source": [
    "First we create a Rule_book dictionary that contains all 256 rules"
   ]
  },
  {
   "cell_type": "code",
   "execution_count": 1066,
   "metadata": {
    "collapsed": true
   },
   "outputs": [],
   "source": [
    "Rule_book={}\n",
    "for i in range(2**8):\n",
    "    Rule_book[i]=bin(i)[2:].zfill(8)"
   ]
  },
  {
   "cell_type": "markdown",
   "metadata": {},
   "source": [
    "For example, the 235's rule can be fetched with a key 235"
   ]
  },
  {
   "cell_type": "code",
   "execution_count": 909,
   "metadata": {},
   "outputs": [
    {
     "data": {
      "text/plain": [
       "'11101011'"
      ]
     },
     "execution_count": 909,
     "metadata": {},
     "output_type": "execute_result"
    }
   ],
   "source": [
    "Rule_book[235]"
   ]
  },
  {
   "cell_type": "markdown",
   "metadata": {},
   "source": [
    "But we haven't mapped 3 bit to the numbers in the rule yet:"
   ]
  },
  {
   "cell_type": "code",
   "execution_count": 912,
   "metadata": {
    "collapsed": true
   },
   "outputs": [],
   "source": [
    "def Rule_book_to_map(Rule_book,rule):\n",
    "    \"\"\"Creates a map between Rule_book and 3 digit binary numbers (0 to 7)\n",
    "        args:\n",
    "            Rule_book (dictionray): rule book defined above\n",
    "            rule (int) : rule number.\n",
    "        return Map(dictionary): map from 3 digit integer to 0 or 1\"\"\"\n",
    "    \n",
    "    Map={}\n",
    "               \n",
    "    for i in range(7,-1,-1):\n",
    "        key=bin(i)[2:].zfill(3) # completely fill 8 bit with leading zeros\n",
    "        value=Rule_book[rule][7-i]\n",
    "        Map[key]=value\n",
    "        \n",
    "    return Map"
   ]
  },
  {
   "cell_type": "markdown",
   "metadata": {},
   "source": [
    "using the above function, map from 3 digit binary number to the rule can be eaily fetched, for example, for rule 2, it has a map"
   ]
  },
  {
   "cell_type": "code",
   "execution_count": 915,
   "metadata": {},
   "outputs": [
    {
     "data": {
      "text/plain": [
       "{'000': '0',\n",
       " '001': '1',\n",
       " '010': '0',\n",
       " '011': '0',\n",
       " '100': '0',\n",
       " '101': '0',\n",
       " '110': '0',\n",
       " '111': '0'}"
      ]
     },
     "execution_count": 915,
     "metadata": {},
     "output_type": "execute_result"
    }
   ],
   "source": [
    "Map=Rule_book_to_map(Rule_book,2)\n",
    "Map"
   ]
  },
  {
   "cell_type": "markdown",
   "metadata": {},
   "source": [
    "Define cellular_step:"
   ]
  },
  {
   "cell_type": "code",
   "execution_count": 1064,
   "metadata": {
    "collapsed": true
   },
   "outputs": [],
   "source": [
    "def cellular_step(state, rule):\n",
    "    \"\"\"Takes an array and return after applying cellular rule \n",
    "        args:\n",
    "            state(np.ndarray): initial state\n",
    "            rule(int): rule number\n",
    "        returns:\n",
    "            new_state (np.ndarray): new rule\"\"\"\n",
    "    \n",
    "    #make 2 copies, prev is used for wrapping around.\n",
    "    prev_state=list(state).copy()\n",
    "    new_state=list(state).copy()\n",
    "    \n",
    "    prev_state.insert(0,state[-1])\n",
    "    prev_state.append(state[0])\n",
    "    \n",
    "    get_map=Rule_book_to_map(Rule_book,rule)\n",
    "    \n",
    "    for i in range(1,len(state)-1):\n",
    "        \n",
    "        new_state[i]=get_map[str(state[i-1])+str(state[i])+str(state[i+1])]\n",
    "        \n",
    "    return new_state"
   ]
  },
  {
   "cell_type": "markdown",
   "metadata": {},
   "source": [
    "## Visualization of Cellular automata\n",
    "\n",
    "Here we visualize some of the sequences produced by the rules up to 64 iterations via the cellular step function above."
   ]
  },
  {
   "cell_type": "code",
   "execution_count": 919,
   "metadata": {},
   "outputs": [],
   "source": [
    "\n",
    "def image_me(cell_steps,ncells,rule):\n",
    "    \"\"\"performs iterations of cellular_step and return image set that can be plotted\n",
    "        args:\n",
    "            cell_steps(int): number of iterations\n",
    "            ncells(int): elements of row (each sequence).\n",
    "            rule(int): rule number\n",
    "        returns:\n",
    "            image_int(np.ndarray): image set that can be plotted\"\"\"\n",
    "\n",
    "    state = np.zeros(ncells, dtype=np.int8 ) \n",
    "    state[ncells//2] = 1\n",
    "    \n",
    "    image_set=[]\n",
    "    image_set.append(state)\n",
    "    \n",
    "    \n",
    "    for i in range(cell_steps):\n",
    "        state=cellular_step(state,rule)\n",
    "        image_set.append(state)\n",
    "\n",
    "    image_int=np.array(image_set).astype(int)\n",
    "    \n",
    "    return image_int"
   ]
  },
  {
   "cell_type": "markdown",
   "metadata": {},
   "source": [
    "Plotting all 255 plots seem a bit excessive so we plot only some of them."
   ]
  },
  {
   "cell_type": "code",
   "execution_count": 1005,
   "metadata": {},
   "outputs": [
    {
     "data": {
      "image/png": "[encoded data removed]",
      "text/plain": [
       "<matplotlib.figure.Figure at 0x1a180e876d8>"
      ]
     },
     "metadata": {},
     "output_type": "display_data"
    },
    {
     "data": {
      "image/png": "[encoded data removed]",
      "text/plain": [
       "<matplotlib.figure.Figure at 0x1a18500ff28>"
      ]
     },
     "metadata": {},
     "output_type": "display_data"
    },
    {
     "data": {
      "image/png": "[encoded data removed]",
      "text/plain": [
       "<matplotlib.figure.Figure at 0x1a180b2f5c0>"
      ]
     },
     "metadata": {},
     "output_type": "display_data"
    },
    {
     "data": {
      "image/png": "[encoded data removed]",
      "text/plain": [
       "<matplotlib.figure.Figure at 0x1a18519e1d0>"
      ]
     },
     "metadata": {},
     "output_type": "display_data"
    },
    {
     "data": {
      "image/png": "[encoded data removed]",
      "text/plain": [
       "<matplotlib.figure.Figure at 0x1a1812d06a0>"
      ]
     },
     "metadata": {},
     "output_type": "display_data"
    },
    {
     "data": {
      "image/png": "[encoded data removed]",
      "text/plain": [
       "<matplotlib.figure.Figure at 0x1a1e9199b70>"
      ]
     },
     "metadata": {},
     "output_type": "display_data"
    }
   ],
   "source": [
    "# want to plot 4 plots in each line:\n",
    "for i in range(160,160+8*6,8):\n",
    "    fig,ax=plt.subplots(1,8,figsize=(12,12))\n",
    "    for j in [0,1,2,3,4,5,6,7]:\n",
    "        image=image_me(64,64,i+j)\n",
    "        ax[j].imshow(image,cmap='gray')\n",
    "        ax[j].set_title(\"rule \"+str(i+j))\n",
    "    plt.show()\n"
   ]
  },
  {
   "cell_type": "markdown",
   "metadata": {},
   "source": [
    "## Testing Randomness\n",
    "\n",
    "We believe the entropy is not the ideal way of measuring randomness because it reaches the upper bound whenever 0 and 1 are evenly distributed, even when each rows do not change. So we employ the 'Unique permutation test' that measures the number of unique permutation from one row to the next by analyzing each cellular step.\n",
    "\n",
    "For example, rule 207 above would report a very low number since the permutations don't change whle 193 will report very high number because every rows are different.\n",
    "\n",
    "note* Mathematically, this approach is flawed since we don't know the explicit permutation, for each cellular step, possible permutation is not unique. So perhaps a better name is measuring number of unique local (between two) unique transformations."
   ]
  },
  {
   "cell_type": "code",
   "execution_count": 982,
   "metadata": {
    "collapsed": true
   },
   "outputs": [],
   "source": [
    "number_of_steps=960"
   ]
  },
  {
   "cell_type": "code",
   "execution_count": 983,
   "metadata": {
    "collapsed": true
   },
   "outputs": [],
   "source": [
    "#for simplicity, store each image in a dictionary called Rule_to_image with the key being rule number\n",
    "\n",
    "Rule_to_image={}\n",
    "for i in range(0,256):\n",
    "    image=image_me(number_of_steps,64,i)\n",
    "    Rule_to_image[i]=image\n"
   ]
  },
  {
   "cell_type": "markdown",
   "metadata": {},
   "source": [
    "to analyze, we want to combine each line in image (which is an array) into a sequence of string for simplicity. See below"
   ]
  },
  {
   "cell_type": "code",
   "execution_count": 1007,
   "metadata": {},
   "outputs": [],
   "source": [
    "#define dictionary that contains string or rows, key: rule\n",
    "Rule_to_image_bin={}\n",
    "\n",
    "for key in Rule_to_image:\n",
    "    #fetch shape\n",
    "    shapey,shapex=Rule_to_image[key].shape\n",
    "    #this list contains the string of binarys for each row\n",
    "    image_bin=[]\n",
    "    \n",
    "    #going down vertical indices\n",
    "    for i in range(shapey):\n",
    "        temp_str=\"\"\n",
    "        #left to right of the array\n",
    "        for j in range(shapex):\n",
    "            temp_str+=str(Rule_to_image[key][i][j])\n",
    "        image_bin.append(temp_str)\n",
    "        \n",
    "    Rule_to_image_bin[key]=image_bin"
   ]
  },
  {
   "cell_type": "markdown",
   "metadata": {},
   "source": [
    "for example, Rule_to_image_bin for rule 0 looks like"
   ]
  },
  {
   "cell_type": "code",
   "execution_count": 1009,
   "metadata": {},
   "outputs": [
    {
     "data": {
      "text/plain": [
       "['0000000000000000000000000000000010000000000000000000000000000000',\n",
       " '0000000000000000000000000000000000000000000000000000000000000000',\n",
       " '0000000000000000000000000000000000000000000000000000000000000000',\n",
       " '0000000000000000000000000000000000000000000000000000000000000000',\n",
       " '0000000000000000000000000000000000000000000000000000000000000000',\n",
       " '0000000000000000000000000000000000000000000000000000000000000000',\n",
       " '0000000000000000000000000000000000000000000000000000000000000000',\n",
       " '0000000000000000000000000000000000000000000000000000000000000000',\n",
       " '0000000000000000000000000000000000000000000000000000000000000000',\n",
       " '0000000000000000000000000000000000000000000000000000000000000000']"
      ]
     },
     "execution_count": 1009,
     "metadata": {},
     "output_type": "execute_result"
    }
   ],
   "source": [
    "Rule_to_image_bin[0][0:10]"
   ]
  },
  {
   "cell_type": "markdown",
   "metadata": {},
   "source": [
    "once we have Rule_to_image, we can define Unique_Perm to perform analysis between each row"
   ]
  },
  {
   "cell_type": "code",
   "execution_count": 1010,
   "metadata": {
    "collapsed": true
   },
   "outputs": [],
   "source": [
    "def Unique_Perm(image_bin):\n",
    "    \"\"\"returns a list containing unique permutations. examine each consecusive row and output a\n",
    "        unique permutations\n",
    "        args:\n",
    "            image_bin(np.ndarray): image set to analyze\n",
    "        returns:\n",
    "            Unique(list): list containing unique permutations\"\"\"\n",
    "    \n",
    "    Unique=[]\n",
    "    for i in range(len(image_bin)-1):\n",
    "        if image_bin[i]+image_bin[i+1] not in Unique:\n",
    "            Unique.append(image_bin[i]+image_bin[i+1])\n",
    "    return Unique"
   ]
  },
  {
   "cell_type": "markdown",
   "metadata": {},
   "source": [
    "Then count length of each uniqueness counts, which gives us the randomness factor"
   ]
  },
  {
   "cell_type": "code",
   "execution_count": 1018,
   "metadata": {
    "collapsed": true
   },
   "outputs": [],
   "source": [
    "Randomness_length={}\n",
    "for i in range(255):\n",
    "    Randomness_length[i]=len(Unique_Perm(Rule_to_image_bin[i]))\n"
   ]
  },
  {
   "cell_type": "markdown",
   "metadata": {},
   "source": [
    "Want to sort by the highest randomness"
   ]
  },
  {
   "cell_type": "code",
   "execution_count": 1032,
   "metadata": {},
   "outputs": [],
   "source": [
    "import operator\n",
    "sorted_x = sorted(Randomness_length.items(), key=operator.itemgetter(1))"
   ]
  },
  {
   "cell_type": "code",
   "execution_count": 1020,
   "metadata": {},
   "outputs": [
    {
     "name": "stdout",
     "output_type": "stream",
     "text": [
      "rule: 4    Randomness:  1\n",
      "rule: 12    Randomness:  1\n",
      "rule: 36    Randomness:  1\n",
      "rule: 44    Randomness:  1\n",
      "rule: 68    Randomness:  1\n",
      "rule: 76    Randomness:  1\n",
      "rule: 100    Randomness:  1\n",
      "rule: 108    Randomness:  1\n",
      "rule: 132    Randomness:  1\n",
      "rule: 140    Randomness:  1\n",
      "rule: 164    Randomness:  1\n",
      "rule: 172    Randomness:  1\n",
      "rule: 196    Randomness:  1\n",
      "rule: 204    Randomness:  1\n",
      "rule: 228    Randomness:  1\n",
      "rule: 236    Randomness:  1\n",
      "rule: 0    Randomness:  2\n",
      "rule: 1    Randomness:  2\n",
      "rule: 5    Randomness:  2\n",
      "rule: 8    Randomness:  2\n",
      "rule: 32    Randomness:  2\n",
      "rule: 33    Randomness:  2\n",
      "rule: 40    Randomness:  2\n",
      "rule: 51    Randomness:  2\n",
      "rule: 64    Randomness:  2\n",
      "rule: 72    Randomness:  2\n",
      "rule: 96    Randomness:  2\n",
      "rule: 104    Randomness:  2\n",
      "rule: 128    Randomness:  2\n",
      "rule: 136    Randomness:  2\n",
      "rule: 160    Randomness:  2\n",
      "rule: 168    Randomness:  2\n",
      "rule: 192    Randomness:  2\n",
      "rule: 200    Randomness:  2\n",
      "rule: 205    Randomness:  2\n",
      "rule: 207    Randomness:  2\n",
      "rule: 219    Randomness:  2\n",
      "rule: 221    Randomness:  2\n",
      "rule: 223    Randomness:  2\n",
      "rule: 224    Randomness:  2\n",
      "rule: 232    Randomness:  2\n",
      "rule: 23    Randomness:  3\n",
      "rule: 29    Randomness:  3\n",
      "rule: 31    Randomness:  3\n",
      "rule: 55    Randomness:  3\n",
      "rule: 63    Randomness:  3\n",
      "rule: 71    Randomness:  3\n",
      "rule: 87    Randomness:  3\n",
      "rule: 95    Randomness:  3\n",
      "rule: 119    Randomness:  3\n",
      "rule: 127    Randomness:  3\n",
      "rule: 201    Randomness:  3\n",
      "rule: 203    Randomness:  3\n",
      "rule: 217    Randomness:  3\n",
      "rule: 237    Randomness:  3\n",
      "rule: 239    Randomness:  3\n",
      "rule: 251    Randomness:  3\n",
      "rule: 253    Randomness:  3\n",
      "rule: 7    Randomness:  4\n",
      "rule: 19    Randomness:  4\n",
      "rule: 21    Randomness:  4\n",
      "rule: 37    Randomness:  4\n",
      "rule: 235    Randomness:  4\n",
      "rule: 249    Randomness:  4\n",
      "rule: 123    Randomness:  5\n",
      "rule: 233    Randomness:  5\n",
      "rule: 91    Randomness:  7\n",
      "rule: 77    Randomness:  16\n",
      "rule: 109    Randomness:  16\n",
      "rule: 133    Randomness:  18\n",
      "rule: 179    Randomness:  18\n",
      "rule: 147    Randomness:  19\n",
      "rule: 13    Randomness:  31\n",
      "rule: 20    Randomness:  31\n",
      "rule: 28    Randomness:  31\n",
      "rule: 52    Randomness:  31\n",
      "rule: 69    Randomness:  31\n",
      "rule: 93    Randomness:  31\n",
      "rule: 141    Randomness:  31\n",
      "rule: 148    Randomness:  31\n",
      "rule: 156    Randomness:  31\n",
      "rule: 180    Randomness:  31\n",
      "rule: 197    Randomness:  31\n",
      "rule: 220    Randomness:  31\n",
      "rule: 252    Randomness:  31\n",
      "rule: 16    Randomness:  32\n",
      "rule: 24    Randomness:  32\n",
      "rule: 48    Randomness:  32\n",
      "rule: 50    Randomness:  32\n",
      "rule: 54    Randomness:  32\n",
      "rule: 56    Randomness:  32\n",
      "rule: 58    Randomness:  32\n",
      "rule: 60    Randomness:  32\n",
      "rule: 70    Randomness:  32\n",
      "rule: 78    Randomness:  32\n",
      "rule: 79    Randomness:  32\n",
      "rule: 80    Randomness:  32\n",
      "rule: 84    Randomness:  32\n",
      "rule: 88    Randomness:  32\n",
      "rule: 92    Randomness:  32\n",
      "rule: 102    Randomness:  32\n",
      "rule: 112    Randomness:  32\n",
      "rule: 114    Randomness:  32\n",
      "rule: 116    Randomness:  32\n",
      "rule: 120    Randomness:  32\n",
      "rule: 122    Randomness:  32\n",
      "rule: 144    Randomness:  32\n",
      "rule: 152    Randomness:  32\n",
      "rule: 176    Randomness:  32\n",
      "rule: 178    Randomness:  32\n",
      "rule: 184    Randomness:  32\n",
      "rule: 186    Randomness:  32\n",
      "rule: 198    Randomness:  32\n",
      "rule: 206    Randomness:  32\n",
      "rule: 208    Randomness:  32\n",
      "rule: 212    Randomness:  32\n",
      "rule: 216    Randomness:  32\n",
      "rule: 222    Randomness:  32\n",
      "rule: 238    Randomness:  32\n",
      "rule: 240    Randomness:  32\n",
      "rule: 242    Randomness:  32\n",
      "rule: 244    Randomness:  32\n",
      "rule: 248    Randomness:  32\n",
      "rule: 250    Randomness:  32\n",
      "rule: 254    Randomness:  32\n",
      "rule: 2    Randomness:  33\n",
      "rule: 6    Randomness:  33\n",
      "rule: 10    Randomness:  33\n",
      "rule: 14    Randomness:  33\n",
      "rule: 22    Randomness:  33\n",
      "rule: 34    Randomness:  33\n",
      "rule: 38    Randomness:  33\n",
      "rule: 42    Randomness:  33\n",
      "rule: 46    Randomness:  33\n",
      "rule: 66    Randomness:  33\n",
      "rule: 74    Randomness:  33\n",
      "rule: 94    Randomness:  33\n",
      "rule: 98    Randomness:  33\n",
      "rule: 106    Randomness:  33\n",
      "rule: 130    Randomness:  33\n",
      "rule: 134    Randomness:  33\n",
      "rule: 138    Randomness:  33\n",
      "rule: 142    Randomness:  33\n",
      "rule: 157    Randomness:  33\n",
      "rule: 162    Randomness:  33\n",
      "rule: 166    Randomness:  33\n",
      "rule: 170    Randomness:  33\n",
      "rule: 174    Randomness:  33\n",
      "rule: 194    Randomness:  33\n",
      "rule: 199    Randomness:  33\n",
      "rule: 202    Randomness:  33\n",
      "rule: 226    Randomness:  33\n",
      "rule: 234    Randomness:  33\n",
      "rule: 158    Randomness:  35\n",
      "rule: 183    Randomness:  35\n",
      "rule: 62    Randomness:  37\n",
      "rule: 118    Randomness:  42\n",
      "rule: 131    Randomness:  53\n",
      "rule: 188    Randomness:  59\n",
      "rule: 103    Randomness:  61\n",
      "rule: 125    Randomness:  62\n",
      "rule: 11    Randomness:  63\n",
      "rule: 15    Randomness:  63\n",
      "rule: 39    Randomness:  63\n",
      "rule: 43    Randomness:  63\n",
      "rule: 47    Randomness:  63\n",
      "rule: 61    Randomness:  63\n",
      "rule: 65    Randomness:  63\n",
      "rule: 81    Randomness:  63\n",
      "rule: 85    Randomness:  63\n",
      "rule: 113    Randomness:  63\n",
      "rule: 117    Randomness:  63\n",
      "rule: 159    Randomness:  63\n",
      "rule: 189    Randomness:  63\n",
      "rule: 191    Randomness:  63\n",
      "rule: 215    Randomness:  63\n",
      "rule: 230    Randomness:  63\n",
      "rule: 231    Randomness:  63\n",
      "rule: 247    Randomness:  63\n",
      "rule: 3    Randomness:  64\n",
      "rule: 35    Randomness:  64\n",
      "rule: 139    Randomness:  64\n",
      "rule: 153    Randomness:  64\n",
      "rule: 155    Randomness:  64\n",
      "rule: 171    Randomness:  64\n",
      "rule: 175    Randomness:  64\n",
      "rule: 187    Randomness:  64\n",
      "rule: 195    Randomness:  64\n",
      "rule: 209    Randomness:  64\n",
      "rule: 211    Randomness:  64\n",
      "rule: 214    Randomness:  64\n",
      "rule: 241    Randomness:  64\n",
      "rule: 243    Randomness:  64\n",
      "rule: 245    Randomness:  64\n",
      "rule: 53    Randomness:  65\n",
      "rule: 145    Randomness:  65\n",
      "rule: 17    Randomness:  66\n",
      "rule: 49    Randomness:  66\n",
      "rule: 163    Randomness:  66\n",
      "rule: 177    Randomness:  66\n",
      "rule: 173    Randomness:  69\n",
      "rule: 181    Randomness:  69\n",
      "rule: 229    Randomness:  69\n",
      "rule: 167    Randomness:  70\n",
      "rule: 111    Randomness:  72\n",
      "rule: 9    Randomness:  73\n",
      "rule: 190    Randomness:  90\n",
      "rule: 126    Randomness:  92\n",
      "rule: 246    Randomness:  93\n",
      "rule: 151    Randomness:  97\n",
      "rule: 143    Randomness:  119\n",
      "rule: 213    Randomness:  119\n",
      "rule: 27    Randomness:  124\n",
      "rule: 83    Randomness:  124\n",
      "rule: 185    Randomness:  124\n",
      "rule: 227    Randomness:  124\n",
      "rule: 18    Randomness:  126\n",
      "rule: 26    Randomness:  126\n",
      "rule: 82    Randomness:  126\n",
      "rule: 90    Randomness:  126\n",
      "rule: 146    Randomness:  126\n",
      "rule: 154    Randomness:  126\n",
      "rule: 165    Randomness:  126\n",
      "rule: 210    Randomness:  126\n",
      "rule: 218    Randomness:  126\n",
      "rule: 105    Randomness:  128\n",
      "rule: 150    Randomness:  128\n",
      "rule: 135    Randomness:  132\n",
      "rule: 57    Randomness:  148\n",
      "rule: 99    Randomness:  148\n",
      "rule: 149    Randomness:  150\n",
      "rule: 86    Randomness:  154\n",
      "rule: 169    Randomness:  161\n",
      "rule: 225    Randomness:  161\n",
      "rule: 59    Randomness:  178\n",
      "rule: 115    Randomness:  178\n",
      "rule: 30    Randomness:  180\n",
      "rule: 45    Randomness:  217\n",
      "rule: 124    Randomness:  223\n",
      "rule: 110    Randomness:  279\n",
      "rule: 193    Randomness:  279\n",
      "rule: 107    Randomness:  295\n",
      "rule: 137    Randomness:  341\n",
      "rule: 67    Randomness:  365\n",
      "rule: 25    Randomness:  379\n",
      "rule: 182    Randomness:  415\n",
      "rule: 121    Randomness:  422\n",
      "rule: 129    Randomness:  534\n",
      "rule: 161    Randomness:  534\n",
      "rule: 89    Randomness:  733\n",
      "rule: 41    Randomness:  960\n",
      "rule: 73    Randomness:  960\n",
      "rule: 75    Randomness:  960\n",
      "rule: 97    Randomness:  960\n",
      "rule: 101    Randomness:  960\n"
     ]
    }
   ],
   "source": [
    "for i,j in sorted_x:\n",
    "    print(\"rule:\",i,\"  \",\"Randomness: \",j)"
   ]
  },
  {
   "cell_type": "markdown",
   "metadata": {},
   "source": [
    "Up to 960 iterations, the rules 41,73,75,97,101 seem to be the most random. We can increase the number of iterations, but we only require 5 most random rules. We then plot them to visually check they are indeed random."
   ]
  },
  {
   "cell_type": "code",
   "execution_count": 1028,
   "metadata": {},
   "outputs": [
    {
     "data": {
      "image/png": "[encoded data removed]",
      "text/plain": [
       "<matplotlib.figure.Figure at 0x1a180892ef0>"
      ]
     },
     "metadata": {},
     "output_type": "display_data"
    }
   ],
   "source": [
    "list1=[41,73,75,97,101]\n",
    "fig,ax=plt.subplots(1,len(list1),figsize=(12,12))\n",
    "for i in range(len(list1)):\n",
    "    image=image_me(number_of_steps,64,list1[i])\n",
    "    ax[i].imshow(image[:190,:320],cmap='gray')\n",
    "    r=Unique_Perm(Rule_to_image_bin[i])\n",
    "    ax[i].set_title(\"rule \"+str(list1[i]))\n",
    "plt.show()\n"
   ]
  },
  {
   "cell_type": "markdown",
   "metadata": {},
   "source": [
    "They seem pretty random to us.  \n",
    "Then we generate random numbers by converting each binary string in the images above into decimal, which gives us reasonably random sequences of numbers"
   ]
  },
  {
   "cell_type": "code",
   "execution_count": 1029,
   "metadata": {},
   "outputs": [
    {
     "name": "stdout",
     "output_type": "stream",
     "text": [
      "Random number by rule  41  :\n",
      "\n",
      "289360691284934664\n",
      "8210609617357504482\n",
      "4973386882533556232\n",
      "1329250676127039458\n",
      "4629771061632696328\n",
      "2242545357995114466\n",
      "5787213827040870408\n",
      "2821266740699201506\n",
      "289360691352043528\n",
      "8210609617122623458\n",
      "4973386882617442312\n",
      "1329250675900547042\n",
      "4629771061636890632\n",
      "2242545357980434402\n",
      "5787213827046113288\n",
      "\n",
      "\n",
      "Random number by rule  73  :\n",
      "\n",
      "8935601439815270462\n",
      "5043337241062162338\n",
      "1226564869289451656\n",
      "4931873287724207650\n",
      "1249082661266320008\n",
      "4900348399572656162\n",
      "1296371093003177864\n",
      "4973530940042176674\n",
      "1184908363705524744\n",
      "5140166482082793698\n",
      "1513667465289196200\n",
      "4647026661459404802\n",
      "2253394715446215672\n",
      "5841591113825188362\n",
      "307862708203456736\n",
      "\n",
      "\n",
      "Random number by rule  75  :\n",
      "\n",
      "7813806977439764164\n",
      "7915054295133321944\n",
      "7873455521688914138\n",
      "7789482300080354264\n",
      "7925030977700320858\n",
      "7857397651930810008\n",
      "7814697200424287802\n",
      "7914917703175717608\n",
      "7873814650627038370\n",
      "7789084615312536844\n",
      "7925191267162722428\n",
      "7857137941856872388\n",
      "7813958665667439704\n",
      "7915037860941950362\n",
      "7873512059755228600\n",
      "\n",
      "\n",
      "Random number by rule  97  :\n",
      "\n",
      "2882303762056093728\n",
      "1441151878872141710\n",
      "4611686021122269346\n",
      "2305843001937514056\n",
      "4611686027051008514\n",
      "2305842979031021816\n",
      "4611686061545490954\n",
      "2305842892794815716\n",
      "4611686156405317664\n",
      "2305842526290939790\n",
      "4611686708317036706\n",
      "2305841146511642184\n",
      "4611688226074264066\n",
      "2305835282449627384\n",
      "4611697056661768714\n",
      "\n",
      "\n",
      "Random number by rule  101  :\n",
      "\n",
      "3836785228864904850\n",
      "2234630364731532178\n",
      "4717941785484077202\n",
      "6740060583487322770\n",
      "7397370918246338450\n",
      "2592603319095410834\n",
      "2886617200170524306\n",
      "4314995333350450066\n",
      "877099823435753618\n",
      "7329009044131330706\n",
      "2800785038924566418\n",
      "2549645564680618130\n",
      "3002415701166612114\n",
      "4107222617001943954\n",
      "720656336469633170\n",
      "\n",
      "\n"
     ]
    }
   ],
   "source": [
    "for i in [41,73,75,97,101]:\n",
    "    print(\"Random number by rule \",i,\" :\")\n",
    "    print(\"\")\n",
    "    for j in Rule_to_image_bin[i][30:45]:\n",
    "        print(int(j,2))\n",
    "    print(\"\")\n",
    "    print(\"\")\n",
    "    \n",
    "    "
   ]
  },
  {
   "cell_type": "markdown",
   "metadata": {},
   "source": [
    "## The game of life\n",
    "\n",
    "Read this Wikipedia page: https://en.wikipedia.org/wiki/Conway%27s_Game_of_Life\n",
    "\n",
    "Read the python file in D2L: phys481_game-of-life.py\n",
    "and work your way through different implementations of the algorithm in stepper0, stepper1...\n",
    "and play around with the results.\n",
    "\n",
    "Examine the steady-state (long time) behaviour for an initial configuration with 1/2 the cells randomly turned on ($p=0.5$).\n",
    "Calculate mean & standard deviation for at least 3 runs to estimate uncertainty.\n",
    "\n",
    "Examine the steady-state behaviour for a range of initial random densities ranging from $p=0$ to $p=1$.\n",
    "Discuss your results."
   ]
  },
  {
   "cell_type": "markdown",
   "metadata": {},
   "source": [
    "# p=1/2\n",
    "\n",
    "Here, the variable we are calculating the mean and standard deviation (SD) are number of live cells after n iterations. We examine steady state behavior for p=1/2 for each stepper. We only use stepper 4 since it's one of the most timely efficient stepper.\n",
    "\n",
    "We extract the stepper functions from the Dr. Jackel's code. Embedded at the very bottom of this notebook."
   ]
  },
  {
   "cell_type": "code",
   "execution_count": 1046,
   "metadata": {},
   "outputs": [
    {
     "name": "stdout",
     "output_type": "stream",
     "text": [
      "mean:  10980.73 SD: 140.388949351\n"
     ]
    }
   ],
   "source": [
    "#sample number\n",
    "n=100\n",
    "val_list=np.zeros(n)\n",
    "for i in range(n):\n",
    "    ini_grid = np.random.rand(200,200) > 0.5\n",
    "    grid = stepper4(ini_grid,nsteps=10000,plot=None)\n",
    "    val_list[i]=len(np.where(grid)[0])\n",
    "\n",
    "#SD = sqrt of mean square - square of the mean\n",
    "mean=sum(val_list)/n\n",
    "mean2=sum(val_list**2)/n\n",
    "SD=np.sqrt(mean2-mean**2)\n",
    "print(\"mean: \",mean,\"SD:\", SD)"
   ]
  },
  {
   "cell_type": "markdown",
   "metadata": {},
   "source": [
    "after 10000 iterations, it gives us the mean and SD above. Now we perform the same task for different P, between 0 and 1, with 0.01 as an increment"
   ]
  },
  {
   "cell_type": "code",
   "execution_count": 1058,
   "metadata": {},
   "outputs": [],
   "source": [
    "P=np.linspace(0,1,num=101)\n",
    "\n",
    "n=20\n",
    "#plotting tools\n",
    "x=[]\n",
    "y=[]\n",
    "yy=[]\n",
    "for j in P:\n",
    "    val_list=np.zeros(n)\n",
    "    for i in range(n):\n",
    "        ini_grid = np.random.rand(200,200) > j\n",
    "        grid = stepper4(ini_grid,nsteps=10000,plot=None)\n",
    "        val_list[i]=len(np.where(grid)[0])\n",
    "\n",
    "    mean=sum(val_list)/n\n",
    "    mean2=sum(val_list**2)/n\n",
    "    SD=np.sqrt(mean2-mean**2)\n",
    "    \n",
    "    #initialize the plots\n",
    "    yy.append(mean/40000)\n",
    "    x.append(j)\n",
    "    y.append(mean)"
   ]
  },
  {
   "cell_type": "code",
   "execution_count": 1065,
   "metadata": {},
   "outputs": [
    {
     "data": {
      "image/png": "[encoded data removed]",
      "text/plain": [
       "<matplotlib.figure.Figure at 0x1a1e8f35f98>"
      ]
     },
     "metadata": {},
     "output_type": "display_data"
    }
   ],
   "source": [
    "plt.plot(x,y)\n",
    "plt.title(\"Average number of live cells after game of life, 10000 iterations\")\n",
    "plt.ylabel(\"number of remaining live cells\")\n",
    "plt.xlabel(\"ratio of initially live cells ratio\")\n",
    "plt.show()"
   ]
  },
  {
   "cell_type": "markdown",
   "metadata": {},
   "source": [
    "But perhaps more useful tool is if the number of live cells after 10000 iterations is a fraction of the total number of cells:"
   ]
  },
  {
   "cell_type": "code",
   "execution_count": 1063,
   "metadata": {},
   "outputs": [
    {
     "data": {
      "image/png": "[encoded data removed]",
      "text/plain": [
       "<matplotlib.figure.Figure at 0x1a182ace8d0>"
      ]
     },
     "metadata": {},
     "output_type": "display_data"
    }
   ],
   "source": [
    "plt.plot(x,yy)\n",
    "plt.title(\"Average number of live cells after game of life, 10000 iterations\")\n",
    "plt.ylabel(\"number of remaining live cells/ tot cells\")\n",
    "plt.xlabel(\"ratio of initially live cells ratio\")\n",
    "plt.show()"
   ]
  },
  {
   "cell_type": "markdown",
   "metadata": {},
   "source": [
    "This gaussian plot captures how the initial condition affects the game of life quite well. If too little cells are alibe to begin with, it's not a very reproductive environment for the cell, same for the converse case.\n",
    "\n",
    "We are happy to report that the plots are almost gaussian (slightly skewed). This has an advantage since if we want to further analysis of this plot, we can extract properties of gaussian from the study of statistics."
   ]
  },
  {
   "cell_type": "markdown",
   "metadata": {},
   "source": [
    "## stepper codes"
   ]
  },
  {
   "cell_type": "code",
   "execution_count": 1056,
   "metadata": {},
   "outputs": [
    {
     "name": "stdout",
     "output_type": "stream",
     "text": [
      "Check agreement between different algorithms\n",
      "<function stepper0 at 0x000001A1E9A20EA0> True\n",
      "<function stepper1 at 0x000001A1805C1378> True\n",
      "<function stepper2 at 0x000001A1805C1E18> True\n",
      "<function stepper3 at 0x000001A182B2F950> True\n",
      "<function stepper4 at 0x000001A182B2F598> True\n",
      "Compare speed of different algorithms (lower is better)\n",
      "  0.02092 stepper3\n",
      "  0.02121 stepper4\n",
      "  0.02269 stepper2\n",
      "  0.84752 stepper1\n",
      "  1.54645 stepper0\n"
     ]
    }
   ],
   "source": [
    "# %load phys481_game-of-life.py\n",
    "\"\"\"\n",
    "Created on Mon Oct 31 17:53:50 2016\n",
    "\n",
    "@author: bjackel\n",
    "\"\"\"\n",
    "\n",
    "\"\"\"\n",
    "# example with animation\n",
    "grid = np.random.rand(401,501) > 0.5\n",
    "p = plt.matshow(grid)\n",
    "grid = life_generation_stepper(grid,nsteps=10000,plot=p)\n",
    "\"\"\"\n",
    "\n",
    "import numpy as np\n",
    "import matplotlib.pyplot as plt\n",
    "\n",
    "\n",
    "def life_generation_stepper(grid, nsteps=1, plot=None):\n",
    "    \n",
    "    # get most recently used plotting window\n",
    "    fig = list(map(plt.figure, plt.get_fignums()))[-1]\n",
    "\n",
    "    nx, ny = grid.shape\n",
    "    x, y = np.meshgrid( np.arange(nx), np.arange(ny), indexing='ij' )\n",
    "    xx = np.array([x+1, x-1, x+0, x+0, x+1, x-1, x+1, x-1]) % nx\n",
    "    yy = np.array([y+0, y+0, y+1, y-1, y+1, y-1, y-1, y+1]) % ny\n",
    "\n",
    "    for nstep in range(nsteps):\n",
    "        nnear = np.sum( grid[xx,yy] , axis=0 )\n",
    "        \n",
    "        grid[(nnear < 2) | (nnear > 3)] = 0\n",
    "        grid[nnear==3] = 1\n",
    "\n",
    "        if plot is not None:\n",
    "            plot.set_data(grid)\n",
    "            plot.axes.set_title(str(nstep))\n",
    "            fig.canvas.draw() ; fig.canvas.flush_events() #update plot window\n",
    "   \n",
    "    return grid\n",
    "\n",
    "    \n",
    "def stepper0(grid, nsteps=1, plot=None):\n",
    "    \"\"\"\n",
    "    One step in Conway's game of life with wrap-around edges.\n",
    "    \n",
    "    Loop over all pixels in grid, and over all neighbors (very slow)\n",
    "    \"\"\"\n",
    "    \n",
    "    nx, ny = grid.shape\n",
    "    xx, yy =  np.arange(nx), np.arange(ny) \n",
    "    newgrid = grid.copy()\n",
    "    \n",
    "    for x in xx:\n",
    "        for y in yy:\n",
    "            \n",
    "            nnear = 0  # count number of neighbors\n",
    "            \n",
    "            for dx in [-1,0,1]:\n",
    "                for dy in [-1,0,1]:\n",
    "                    if (dx!=0 or dy!=0):  # don't include the cell itself\n",
    "                        nnear += grid[ (x+dx)%nx, (y+dy)%ny ]\n",
    "\n",
    "            # dead cells with three live neighbours become live cells\n",
    "            if (grid[x,y] == 0):\n",
    "                if nnear == 3:\n",
    "                    newgrid[x,y]=1\n",
    "\n",
    "            # live cells with fewer than two or more than 3 live neighbors die\n",
    "            else:\n",
    "                if nnear < 2:\n",
    "                    newgrid[x,y]=0\n",
    "                if nnear >3 :\n",
    "                    newgrid[x,y]=0\n",
    "                                                            \n",
    "    return newgrid\n",
    "    \n",
    "\n",
    "def stepper1(grid, nsteps=1, plot=None):\n",
    "    \"\"\"\n",
    "    One step in Conway's game of life with wrap-around edges.\n",
    "    \n",
    "    Loop over all pixels in grid, and then add all 8 neighbours (slow)\n",
    "    \"\"\"\n",
    "    nx, ny = grid.shape\n",
    "    xx, yy =  np.arange(nx), np.arange(ny) \n",
    "    newgrid = grid.copy()\n",
    "    \n",
    "    dx = np.array( [1, -1, 0, 0, 1, -1, 1, -1] )\n",
    "    dy = np.array( [0, 0, 1, -1, 1, -1, -1, 1] )\n",
    "               \n",
    "    for x in xx:\n",
    "        for y in yy:\n",
    "            \n",
    "            nnear = np.sum( grid[ (x+dx)%nx, (y+dy)%ny ] )\n",
    "    \n",
    "            if (nnear < 2) or (nnear > 3): \n",
    "                newgrid[x,y] = 0\n",
    "            elif (nnear == 3):\n",
    "                newgrid[x,y] = 1\n",
    "                                            \n",
    "    return newgrid    \n",
    "    \n",
    "\n",
    "def stepper2(grid, nsteps=1, plot=None):\n",
    "    \"\"\"\n",
    "    One step in Conway's game of life with wrap-around edges.\n",
    "    \n",
    "    Loop over all neighbor shifts, adding an entire grid  (fast)\n",
    "    \"\"\"\n",
    "    \n",
    "    nx, ny = grid.shape\n",
    "    xx, yy = np.meshgrid( np.arange(nx), np.arange(ny), indexing='ij' )\n",
    "\n",
    "    nnear = 0\n",
    "    newgrid = grid.copy()\n",
    "\n",
    "    for dx in [-1,0,1]:\n",
    "        for dy in [-1,0,1]:\n",
    "            if (dx==0 and dy==0): continue\n",
    "            nnear += grid[ (xx+dx)%nx,(yy+dy)%ny ]\n",
    "    \n",
    "    newgrid[(grid>0) & (nnear<2)] = 0\n",
    "    newgrid[(grid>0) & (nnear>3)] = 0\n",
    "    newgrid[(grid==0) & (nnear==3)] = 1\n",
    "   \n",
    "    return newgrid\n",
    "\n",
    "\n",
    "def stepper3(grid, nsteps=1, plot=None):\n",
    "    \"\"\"\n",
    "    One step in Conway's game of life with wrap-around edges.\n",
    "    \n",
    "    Try cleaning up the neighbour loops (faster?)\n",
    "    \"\"\"\n",
    "    nx, ny = grid.shape\n",
    "    xx, yy = np.meshgrid( np.arange(nx), np.arange(ny), indexing='ij' )\n",
    "    dxy = [(1,0), (-1,0), (0,1), (0,-1), (1,1), (-1,-1), (1,-1), (-1,1) ]\n",
    "    \n",
    "    newgrid = grid.copy()           \n",
    "    nnear = 0\n",
    "    \n",
    "    for dx,dy in dxy:\n",
    "        nnear += grid[(xx+dx)%nx,(yy+dy)%ny] \n",
    "    \n",
    "    newgrid[nnear < 2] = 0  \n",
    "    newgrid[nnear > 3] = 0\n",
    "    newgrid[nnear==3] = 1\n",
    "   \n",
    "    return newgrid\n",
    "\n",
    "\n",
    "def stepper4(grid, nsteps=1, plot=None):\n",
    "    \"\"\"\n",
    "    One step in Conway's game of life with wrap-around edges.\n",
    "    \n",
    "    -move more calculations outside loop (fastest?)\n",
    "    -reuse input grid for output\n",
    "    \"\"\"\n",
    "    nx, ny = grid.shape\n",
    "    x, y = np.meshgrid( np.arange(nx), np.arange(ny), indexing='ij' )\n",
    "    \n",
    "    xx = np.array([x+1, x-1, x+0, x+0, x+1, x-1, x+1, x-1]) % nx\n",
    "    yy = np.array([y+0, y+0, y+1, y-1, y+1, y-1, y-1, y+1]) % ny\n",
    "\n",
    "    # grid[xx,yy].shape = 8,nx,ny  <= add up neighbours \n",
    "    # note: numpy will automatically convert boolean to integer before summing\n",
    "    nnear = np.sum( grid[xx,yy] , axis=0 )\n",
    "        \n",
    "    grid[(nnear < 2) | (nnear > 3)] = 0\n",
    "    grid[nnear==3] = 1\n",
    "\n",
    "    return grid\n",
    "    \n",
    "    \n",
    "      \n",
    "# the code below will not run if this file is \"included\"\n",
    "#\n",
    "if __name__ == '__main__':\n",
    "\n",
    "    print('Check agreement between different algorithms')\n",
    "    grid = np.random.rand(31,21) >= 0.5  # don't use a square grid\n",
    "    newgrid = stepper0(grid, nsteps=1)\n",
    "    stepfunclist = [stepper0, stepper1, stepper2, stepper3, stepper4]\n",
    "    \n",
    "    for stepfunc in stepfunclist:\n",
    "        test = stepfunc(grid)\n",
    "        print( str(stepfunc), np.all(test == newgrid) )\n",
    "        \n",
    "    \n",
    "    print('Compare speed of different algorithms (lower is better)')\n",
    "    import timeit\n",
    "    times = {}\n",
    "    for stepfunc in stepfunclist:\n",
    "        command = 'ng = {}(g)'.format(stepfunc.__name__)\n",
    "        setup = 'from __main__ import {}; import numpy as np; g=(np.random.rand(31,21)>=0.5)'.format(stepfunc.__name__)\n",
    "        times[stepfunc.__name__] = timeit.timeit(command,setup=setup, number=100)\n",
    "    #t = timeit.timeit('ng = stepper0(grid)', setup='from __main__ import stepper0; import numpy as np; grid=np.random.rand(31,21)>=0.5', number=100)\n",
    "    timeinfo = [ '{:9.5f} {}'.format(t,n) for (n,t) in times.items() ]\n",
    "    print( '\\n'.join( sorted(timeinfo) ) )\n",
    "    \n",
    "#newgrid = life_generation_stepper(grid, nsteps=1)\n",
    "#p=plt.imshow(grid, interpolation='nearest')    \n",
    "#p = plt.matshow(grid)\n",
    "#newgrid = life_generation_stepper2(grid, nsteps=100, plot=p)\n",
    "#p = plt.imshow(grid)\n",
    "    "
   ]
  },
  {
   "cell_type": "code",
   "execution_count": null,
   "metadata": {
    "collapsed": true
   },
   "outputs": [],
   "source": []
  },
  {
   "cell_type": "markdown",
   "metadata": {},
   "source": [
    "## Conclusion"
   ]
  },
  {
   "cell_type": "code",
   "execution_count": null,
   "metadata": {
    "collapsed": true
   },
   "outputs": [],
   "source": []
  }
 ],
 "metadata": {
  "anaconda-cloud": {},
  "kernelspec": {
   "display_name": "Python 3",
   "language": "python",
   "name": "python3"
  },
  "language_info": {
   "codemirror_mode": {
    "name": "ipython",
    "version": 3
   },
   "file_extension": ".py",
   "mimetype": "text/x-python",
   "name": "python",
   "nbconvert_exporter": "python",
   "pygments_lexer": "ipython3",
   "version": "3.6.0"
  }
 },
 "nbformat": 4,
 "nbformat_minor": 1
}
