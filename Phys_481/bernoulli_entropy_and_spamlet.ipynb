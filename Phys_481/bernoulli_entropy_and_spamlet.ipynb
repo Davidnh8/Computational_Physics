{
 "cells": [
  {
   "cell_type": "markdown",
   "metadata": {},
   "source": [
    "# Bernoulli, entropy and spamlet  Physics 481 Week 2"
   ]
  },
  {
   "cell_type": "code",
   "execution_count": 2,
   "metadata": {
    "collapsed": true
   },
   "outputs": [],
   "source": [
    "# load modules for math and plotting\n",
    "import numpy as np\n",
    "import matplotlib.pyplot as plt\n",
    "%matplotlib inline"
   ]
  },
  {
   "cell_type": "markdown",
   "metadata": {},
   "source": [
    "## Probability\n",
    "\n",
    "A random Bernoulli (binary) process has only two possible outcomes; these are often labelled as True/False or 0/1.\n",
    "One well-known example of such a process is flipping a coin to obtain either heads (H) or tails (T).\n",
    "The probability of getting a given outcome $i$ is usually represented as $p_i$.  By definition,\n",
    "the total probability of all possible outcomes must add up to one\n",
    "\n",
    " $$ \\sum p_i = p_H + p_T = 1 $$\n",
    "\n",
    "In other words: only one outcome can occur, and one outcome must occur.  \n",
    "\n",
    "For a perfectly \"fair\" coin the probabilities are equal\n",
    "\n",
    " $$ p_H = p_T = 0.5 $$"
   ]
  },
  {
   "cell_type": "markdown",
   "metadata": {},
   "source": [
    "## numpy.random\n",
    "\n",
    "Many useful tools for generating random numbers are located in the \"numpy.random\" module.  This can be loaded independently\n",
    "\n",
    "      import numpy.random as nprand\n",
    "    \n",
    "or used as part of numpy.  For example, we can produce 9 random numbers that should be distributed uniformly between 0 (inclusive) and 1.0 (exclusive)."
   ]
  },
  {
   "cell_type": "code",
   "execution_count": 3,
   "metadata": {},
   "outputs": [
    {
     "data": {
      "text/plain": [
       "array([ 0.07901179,  0.94787266,  0.02443968,  0.09997122,  0.27295941,\n",
       "        0.09468385,  0.88549769,  0.58218985,  0.99814214])"
      ]
     },
     "execution_count": 3,
     "metadata": {},
     "output_type": "execute_result"
    }
   ],
   "source": [
    "# Create an array of the given shape and populate it with random samples \n",
    "# from a uniform distribution over [0, 1).\n",
    "np.random.rand(9)"
   ]
  },
  {
   "cell_type": "markdown",
   "metadata": {},
   "source": [
    "In principle, any other distribution (ie. binomial, Gaussian) can be simulated by starting with a uniform distribution and applying an appropriate transformation of variables.  The numpy.random module also includes many convenient routines for obtaining random numbers from many useful distributions.   Although the Bernoulli distribution is not provided explicitly, there are several methods which can be used to produce binary random numbers.\n",
    "\n",
    "One approach is to start with floating point uniform random values and map them onto 0 and 1 as follows"
   ]
  },
  {
   "cell_type": "code",
   "execution_count": 4,
   "metadata": {},
   "outputs": [
    {
     "name": "stdout",
     "output_type": "stream",
     "text": [
      "[False  True  True False  True False  True  True  True]\n"
     ]
    }
   ],
   "source": [
    "print( np.random.rand(9) > 0.5 )"
   ]
  },
  {
   "cell_type": "markdown",
   "metadata": {},
   "source": [
    "### Discussion\n",
    "Should we instead use a slightly different comparison operator?"
   ]
  },
  {
   "cell_type": "code",
   "execution_count": 5,
   "metadata": {},
   "outputs": [
    {
     "name": "stdout",
     "output_type": "stream",
     "text": [
      "[ True False False False False False False False  True]\n"
     ]
    }
   ],
   "source": [
    "print( np.random.rand(9) >= 0.5 )"
   ]
  },
  {
   "cell_type": "markdown",
   "metadata": {},
   "source": [
    "Another approach is to use the \"randint\" function.  Remember that information about python modules and functions can be found in several different ways eg.\n",
    "\n",
    "    help(numpy.randint)\n",
    "    ?(numpy.randint)\n",
    "    dir(numpy.randint)\n",
    "\n",
    "        Help on package numpy.random in numpy:\n",
    "\n",
    "        NAME\n",
    "            numpy.random\n",
    "\n",
    "        DESCRIPTION\n",
    "            ========================\n",
    "            Random Number Generation\n",
    "            ========================"
   ]
  },
  {
   "cell_type": "code",
   "execution_count": 6,
   "metadata": {},
   "outputs": [
    {
     "name": "stdout",
     "output_type": "stream",
     "text": [
      "[0 0 0 0 0 0 0 0 0] <==== only zeros\n",
      "[1 1 1 1 0 0 1 1 1]\n",
      "[1 0 1 1 1 0 1 1 0]\n"
     ]
    }
   ],
   "source": [
    "#Return random integers from `low` (inclusive) to `high` (exclusive).\n",
    "\n",
    "# Calling \"randint\" with low=0 and high=1 does not produce a random\n",
    "# sequence of 1's and 0's.\n",
    "#\n",
    "print( np.random.randint(low=0, high=1, size=9 ), '<==== only zeros' )\n",
    "\n",
    "# Instead, the function is written to follow the python convention\n",
    "# where the upper limit is excluded.\n",
    "#\n",
    "print( np.random.randint(low=0, high=2, size=9 ) )\n",
    "\n",
    "#\n",
    "#\n",
    "print( np.random.randint(2, size=9 ) )"
   ]
  },
  {
   "cell_type": "markdown",
   "metadata": {},
   "source": [
    "I think a case could be made that this calling convention violates the \"Principle of Least Astonishment\"\n",
    "\n",
    "      https://en.wikipedia.org/wiki/Principle_of_least_astonishment\n",
    "\n",
    "which is basically that a system should behave in a manner consistent with how users are likely to expect it to behave; that is, users should not be astonished at the way it behaves.\n",
    "\n",
    "On the other hand, one could also argue that the exclusive upper bound is very pythonic.  Also note that other languages also use the exclusive upper bound ie.\n",
    "\n",
    "      https://stackoverflow.com/questions/363681/how-do-i-generate-random-integers-within-a-specific-range-in-java?rq=1\n",
    "\n",
    "\n",
    "In Java 1.7 or later, the standard way to do this is as follows:\n",
    "\n",
    "import java.util.concurrent.ThreadLocalRandom;\n",
    "\n",
    "    // nextInt is normally exclusive of the top value,\n",
    "    // so add 1 to make it inclusive\n",
    "    int randomNum = ThreadLocalRandom.current().nextInt(min, max + 1);"
   ]
  },
  {
   "cell_type": "markdown",
   "metadata": {},
   "source": [
    "Conclusion: ensure that your expectations are consistent with your tools.\n",
    "\n",
    "Note: There is a numpy.random.random_integers function that behaves the other way.  Sadly, it appears to be deprecated and may not be supported in future versions of numpy."
   ]
  },
  {
   "cell_type": "code",
   "execution_count": 8,
   "metadata": {},
   "outputs": [
    {
     "name": "stdout",
     "output_type": "stream",
     "text": [
      "[1 1 1 1 0 1 1 1 0]\n"
     ]
    },
    {
     "name": "stderr",
     "output_type": "stream",
     "text": [
      "C:\\Users\\David\\Miniconda3\\envs\\p36\\lib\\site-packages\\ipykernel_launcher.py:2: DeprecationWarning: This function is deprecated. Please call randint(0, 1 + 1) instead\n",
      "  \n"
     ]
    }
   ],
   "source": [
    "# Return random integers of type np.int from the “discrete uniform” distribution in the closed interval [low, high]\n",
    "print( np.random.random_integers(low=0, high=1, size=9 ) )"
   ]
  },
  {
   "cell_type": "markdown",
   "metadata": {},
   "source": [
    "Perhaps the best alternative is provided by numpy.random.choice which has a clear calling convention and can be used for more general applications."
   ]
  },
  {
   "cell_type": "code",
   "execution_count": 10,
   "metadata": {},
   "outputs": [
    {
     "name": "stdout",
     "output_type": "stream",
     "text": [
      "[1 0 1 0 1 1 0 0 1]\n",
      "['maybe' 'yes' 'no' 'maybe' 'maybe' 'no' 'yes' 'no' 'maybe']\n"
     ]
    }
   ],
   "source": [
    "print( np.random.choice([0,1], size=9, p=[0.5, 0.5] ) )\n",
    "print( np.random.choice(['yes', 'maybe', 'no'], size=9, p=[0.25, 0.5, 0.25] ) )"
   ]
  },
  {
   "cell_type": "markdown",
   "metadata": {},
   "source": [
    "## Entropy and Information\n",
    "\n",
    "A sequence of numbers may be considered random if each successive observation is ``surprising'' or communicates additional information beyond what the previous ones provided.  After seeing the first few symbols (values) in this sequence\n",
    " $$\\{0,0,0,0,0,0,0,0 \\ldots\\}$$\n",
    "we can easily guess the next one, but this sequence\n",
    " $$\\{0,1,0,0,1,1,0,1 \\ldots\\}$$\n",
    "is apparently unpredictable.\n",
    "\n",
    "A quantitative definition of entropy introduced by Shannon[1948]\n",
    "$$  H = -\\sum_{i=1}^n p_i \\; log{p_i} $$\n",
    "has a familiar physical analog in statistical mechanics and allows us to determine the maximum amount of information that can be transmitted over a noisy digital communication channel.\n",
    "\n"
   ]
  },
  {
   "cell_type": "markdown",
   "metadata": {},
   "source": [
    "### Gibbs entropy formula\n",
    "\n",
    "    https://en.wikipedia.org/wiki/Entropy_(statistical_thermodynamics)\n",
    "    \n",
    "The macroscopic state of a system is characterized by a distribution on the microstates. The entropy of this distribution is given by the Gibbs entropy formula, named after J. Willard Gibbs. For a classical system (i.e., a collection of classical particles) with a discrete set of microstates, if $E_{i}$ is the energy of microstate i, and $p_{i}$ is the probability that it occurs during the system's fluctuations, then the entropy of the system is\n",
    "\n",
    "$$S=-k_{{\\text{B}}}\\,\\sum _{i}p_{i}\\ln \\,p_{i}$$\n",
    "\n",
    "This S is almost universally called simply the entropy. It can also be called the statistical entropy or the thermodynamic entropy without changing the meaning. Note the above expression of the statistical entropy is a discretized version of Shannon entropy. The von Neumann entropy formula is an extension of the Gibbs entropy formula to the quantum mechanical case."
   ]
  },
  {
   "cell_type": "markdown",
   "metadata": {},
   "source": [
    "The logarithm is often taken with base 2\n",
    "$$  H = -\\sum_{i=1}^n p_i \\; log_2{p_i} = -1/\\ln 2 \\,\\sum_{i=1}^n p_i \\; ln{p_i} $$\n",
    "to produce a result in terms of bits per symbol. Some properties of the entropy are\n",
    "\n",
    "1) $H(p_1,\\ldots,p_N)$ is a concave function of the $p_i$. \n",
    "\n",
    "2) for a given $N$, the uniform distribution $p_i=1/N$ has the maximum entropy $H$. \n",
    "\n",
    "3) $H(p_1,\\ldots,p_N)$ is zero if and only if one of the $p_i=1$.  In other words, if there is only one possible outcome then there is no new information provided by observing that event. \n",
    "\n",
    "\n",
    "A Bernoulli (binary) process has two discrete outcomes (eg. true and false) that occur with probability $p$ and $q=1-p$.  The entropy of this process\n",
    "\n",
    "$$  H(p) = -p\\,\\log(p) - q\\,\\log(q) = -p\\,\\log(p) - (1-p)\\,\\log(1-p) $$\n",
    "has a maximum of 1 bit per outcome\n",
    "\n",
    " $$  {{\\partial H(p)}\\over{\\partial p}} = -\\left[ \\log p + {p \\over p} - \\log(1-p) - {{1-p}\\over{1-p}} \\right] \n",
    "  = -\\log p + \\log(1-p) = 0 $$\n",
    "\n",
    "$$  \\exp\\left(\\log p\\right) = \\exp\\left(\\log(1-p)\\right)  \\qquad\\Rightarrow\\qquad p=1-p $$\n",
    "\n",
    "at $p=q=0.5$ where the outcome of this system is least predictable.  As shown in the following example the entropy is zero at the endpoints $p=q=0$ where the outcome is totally predictable."
   ]
  },
  {
   "cell_type": "code",
   "execution_count": 11,
   "metadata": {},
   "outputs": [
    {
     "name": "stderr",
     "output_type": "stream",
     "text": [
      "C:\\Users\\David\\Miniconda3\\envs\\p36\\lib\\site-packages\\ipykernel_launcher.py:5: RuntimeWarning: divide by zero encountered in log\n",
      "  \"\"\"\n",
      "C:\\Users\\David\\Miniconda3\\envs\\p36\\lib\\site-packages\\ipykernel_launcher.py:5: RuntimeWarning: invalid value encountered in multiply\n",
      "  \"\"\"\n"
     ]
    },
    {
     "data": {
      "text/plain": [
       "<matplotlib.text.Text at 0x262c3128cf8>"
      ]
     },
     "execution_count": 11,
     "metadata": {},
     "output_type": "execute_result"
    },
    {
     "data": {
      "image/png": "[encoded data removed]",
      "text/plain": [
       "<matplotlib.figure.Figure at 0x262bfa4f7f0>"
      ]
     },
     "metadata": {},
     "output_type": "display_data"
    }
   ],
   "source": [
    "import numpy as np\n",
    "import matplotlib.pyplot as plt\n",
    "%matplotlib inline\n",
    "p = np.arange(0.00, 1.00, 0.001)\n",
    "H = -p*np.log(p) - (1-p)*np.log(1-p)\n",
    "plt.plot(p,H/np.log(2.0))\n",
    "plt.xlabel('probability')\n",
    "plt.ylabel('Entropy  [bits]')\n",
    "plt.title('Bernoulli process')"
   ]
  },
  {
   "cell_type": "markdown",
   "metadata": {},
   "source": [
    "## Monkey Shakespeare\n",
    "\n",
    "<img src=\"http://static02.mediaite.com/themarysue/uploads//2014/04/19580483_af3de93fca_o.jpg\">\n",
    "\n",
    "https://en.wikipedia.org/wiki/Infinite_monkey_theorem\n",
    "\n",
    "The infinite monkey theorem states that a monkey hitting keys at random on a typewriter keyboard for an infinite amount of time will almost surely type a given text, such as the complete works of William Shakespeare. In fact the monkey would almost surely type every possible finite text an infinite number of times. However, the probability of a universe full of monkeys typing a complete work such as Shakespeare's Hamlet is so tiny that the chance of it occurring during a period of time hundreds of thousands of orders of magnitude longer than the age of the universe is extremely low (but technically not zero).\n",
    "\n",
    "In this context, \"almost surely\" is a mathematical term with a precise meaning, and the \"monkey\" is not an actual monkey, but a metaphor for an abstract device that produces an endless random sequence of letters and symbols. One of the earliest instances of the use of the \"monkey metaphor\" is that of French mathematician Émile Borel in 1913,[1] but the first instance may be even earlier.\n",
    "\n",
    "Variants of the theorem include multiple and even infinitely many typists, and the target text varies between an entire library and a single sentence. Jorge Luis Borges traced the history of this idea from Aristotle's On Generation and Corruption and Cicero's De natura deorum (On the Nature of the Gods), through Blaise Pascal and Jonathan Swift, up to modern statements with their iconic simians and typewriters. In the early 20th century, Borel and Arthur Eddington used the theorem to illustrate the timescales implicit in the foundations of statistical mechanics.\n",
    "\n",
    "\n",
    "<img src=\"http://minnov8.com/site/wp-content/uploads/2013/11/monkey-cartoon.jpg\">"
   ]
  },
  {
   "cell_type": "code",
   "execution_count": 12,
   "metadata": {},
   "outputs": [
    {
     "name": "stdout",
     "output_type": "stream",
     "text": [
      "Full quote:  To be, or not to be? That is the question—\n",
      "Simplified quote:  to be or not to be that is the question\n",
      "Length of simplified quote:  39\n",
      "Unique characters:   abehinoqrstu\n",
      "Number of unique characters:  13\n",
      "Number of 13 character combinations of 27 characters:  4052555153018976267\n",
      "Probability of typing \"to be...\" at random:  2.4675790019909876e-19\n",
      "Entropy [bits per key] 4.75488750216\n"
     ]
    }
   ],
   "source": [
    "# Start with the classic quote,\n",
    "#\n",
    "full_quote = 'To be, or not to be? That is the question—'\n",
    "print('Full quote: ',full_quote)\n",
    "\n",
    "# Simplify by stripping punctuation and converting to lower case.\n",
    "charlist = [c.lower() for c in full_quote if c.isalpha() or c==' ']\n",
    "print('Simplified quote: ', ''.join(charlist) )\n",
    "print('Length of simplified quote: ', len(charlist) )\n",
    "\n",
    "# Get a list of the unique characters along with \"lookup\" index\n",
    "# where each element points to the corresponding unique character.\n",
    "#\n",
    "uchars, uindx, ucounts= np.unique(charlist, return_inverse=True, return_counts=True)\n",
    "print('Unique characters: ', ''.join( uchars ) )\n",
    "print('Number of unique characters: ', len(uchars) )\n",
    "\n",
    "print('Number of 13 character combinations of 27 characters: ', 27**13)\n",
    "print('Probability of typing \"to be...\" at random: ', 27**-13)\n",
    "\n",
    "\"\"\"\n",
    "What is the entropy (in bits per symbol) for a uniform 27-key typewriter?\n",
    "\"\"\"\n",
    "p27 = 1.0/27.0 * np.ones(27)\n",
    "print('Entropy [bits per key]', -np.sum(np.log(p27) * p27 )/ np.log(2) )"
   ]
  },
  {
   "cell_type": "code",
   "execution_count": 13,
   "metadata": {
    "collapsed": true
   },
   "outputs": [],
   "source": [
    "# So how long will it take a monkey to type Hamlet?\n",
    "\n",
    "# Don't pull the same file every time!\n",
    "#\n",
    "import urllib.request\n",
    "url = 'http://www.gutenberg.org/cache/epub/1524/pg1524.txt'\n",
    "bytedata = urllib.request.urlopen( url ).read()\n",
    "\n",
    "# Get a local copy with browser or \"wget\" command."
   ]
  },
  {
   "cell_type": "code",
   "execution_count": 14,
   "metadata": {},
   "outputs": [
    {
     "name": "stdout",
     "output_type": "stream",
     "text": [
      "Project Gutenberg Etext of Hamlet by Shakespeare\r\n",
      "PG has multiple editions of William Shakespear\n"
     ]
    }
   ],
   "source": [
    "# Note that the file contains a preamble about the text (metadata).\n",
    "# A more careful analysis might remove all this, but for simplicity \n",
    "# we will ignore this detail.\n",
    "#\n",
    "print( bytedata[3:99].decode('ascii') )"
   ]
  },
  {
   "cell_type": "code",
   "execution_count": 15,
   "metadata": {},
   "outputs": [
    {
     "name": "stdout",
     "output_type": "stream",
     "text": [
      "Length of simplified Hamlet:  167664\n",
      "{'r': 8381, 'o': 11985, 'j': 150, 'e': 16138, 'c': 2906, 't': 12707, ' ': 28805, 'g': 2608, 'u': 4617, 'n': 8864, 'b': 1971, 'x': 270, 'f': 2889, 'h': 8988, 'a': 10513, 'm': 4487, 'l': 6195, 'y': 3437, 's': 8840, 'k': 1315, 'p': 2251, 'i': 9141, 'd': 5358, 'w': 3239, 'v': 1302, 'z': 78, 'q': 229}\n"
     ]
    }
   ],
   "source": [
    "# Change bytes to characters\n",
    "# +ignore the first 4 \"magic\" bytes (file type)\n",
    "# +ignore everything except a-z and spaces\n",
    "# +change all letters to lower case\n",
    "data = bytedata[4:].decode('ascii')\n",
    "charlist = [c.lower() for c in data if c.isalpha() or c==' ']\n",
    "print('Length of simplified Hamlet: ', len(charlist) )\n",
    "\n",
    "# This is one way to count how many times each letter occurs.\n",
    "# Using numpy might be faster, but this is easy to understand.\n",
    "#\n",
    "catalog = {}\n",
    "for symbol in charlist:\n",
    "    \n",
    "    if symbol in catalog:\n",
    "        catalog[symbol] += 1  #increment\n",
    "    else:\n",
    "        catalog[symbol] = 1  # initialize\n",
    "        \n",
    "print( catalog ) "
   ]
  },
  {
   "cell_type": "markdown",
   "metadata": {},
   "source": [
    "### Question: what is the entropy of \"simplified Hamlet\" (Spamlet)?\n",
    "    \n",
    "### Question: what is the probability that a monkey with a uniform random selection of 27-keys would produce Spamlet?  In other words, how many different sequences with 167664 characters are there?\n",
    "\n",
    "### Question: how does the probability change if the chance of hitting any given key was not 1/27, but the same as the distribution of Spamlet?\n",
    "\n",
    "### Optional: determine the joint probability of each 2-key sequence eg. 'aa', 'ab', 'ac' from Spamlet.  How does the probability of producing Spamlet change if the monkey hits keys according to this distribution?\n",
    "\n",
    "### Optional: write a program to generate sequences of text that sound somewhat like Shakespeare.  See for inspiration http://www.elsewhere.org/journal/pomo/ "
   ]
  },
  {
   "cell_type": "code",
   "execution_count": 29,
   "metadata": {
    "collapsed": true
   },
   "outputs": [],
   "source": [
    "import time\n",
    "import numpy as np"
   ]
  },
  {
   "cell_type": "markdown",
   "metadata": {},
   "source": [
    "# Q1\n",
    "\n",
    "Probability of occurences of letters are simply extracted from the 'catalog' dictionary above. \n",
    "First I check that its length is 27. Ohterwise I need to assign a value of 0 to missing keys (lettess)"
   ]
  },
  {
   "cell_type": "code",
   "execution_count": 30,
   "metadata": {
    "collapsed": true
   },
   "outputs": [],
   "source": [
    "assert len(catalog)==27"
   ]
  },
  {
   "cell_type": "markdown",
   "metadata": {},
   "source": [
    "Then simply apply \n",
    "$$  H = -\\sum_{i=1}^n p_i \\; log{p_i} $$"
   ]
  },
  {
   "cell_type": "code",
   "execution_count": 39,
   "metadata": {},
   "outputs": [
    {
     "name": "stdout",
     "output_type": "stream",
     "text": [
      "Entropy of Spamlet:  42498.5737891\n",
      "time taken:  0.41545772552490234  seconds\n"
     ]
    }
   ],
   "source": [
    "#Entropy H\n",
    "H=0.0\n",
    "\n",
    "begin=time.time()\n",
    "\n",
    "for i in charlist:\n",
    "    p=catalog[i]/len(charlist)\n",
    "    H+=-p*np.log(p)/(np.log(2))\n",
    "\n",
    "end=time.time()\n",
    "\n",
    "print(\"Entropy of Spamlet: \",H)\n",
    "print(\"time taken: \",end-begin,\" seconds\")\n"
   ]
  },
  {
   "cell_type": "markdown",
   "metadata": {},
   "source": [
    "It can alternatively written in a much more timely efficient, 'pythonic' way"
   ]
  },
  {
   "cell_type": "code",
   "execution_count": 140,
   "metadata": {},
   "outputs": [
    {
     "data": {
      "text/plain": [
       "167664"
      ]
     },
     "execution_count": 140,
     "metadata": {},
     "output_type": "execute_result"
    }
   ],
   "source": [
    "len(charlist)"
   ]
  },
  {
   "cell_type": "code",
   "execution_count": 40,
   "metadata": {},
   "outputs": [
    {
     "name": "stdout",
     "output_type": "stream",
     "text": [
      "Entropy of Spamlet:  42498.5737892\n",
      "time taken:  0.003504514694213867  seconds\n"
     ]
    }
   ],
   "source": [
    "#Entropy H\n",
    "H=0.0\n",
    "\n",
    "begin=time.time()\n",
    "\n",
    "for i in catalog:\n",
    "    p=catalog[i]/len(charlist)*np.ones(catalog[i])\n",
    "    H+=-np.sum(np.log(p)*p)/(np.log(2))\n",
    "\n",
    "end=time.time()\n",
    "\n",
    "print(\"Entropy of Spamlet: \",H)\n",
    "print(\"time taken: \",end-begin,\" seconds\")"
   ]
  },
  {
   "cell_type": "markdown",
   "metadata": {},
   "source": [
    "# Q2\n"
   ]
  },
  {
   "cell_type": "markdown",
   "metadata": {},
   "source": [
    "Given the uniform distribution, the probability $P_u$ would be\n",
    "$$P_u=\\left(\\frac{1}{27}\\right)^{167664}$$"
   ]
  },
  {
   "cell_type": "markdown",
   "metadata": {},
   "source": [
    "It's apparaent that this would approach 0 very rapidly:"
   ]
  },
  {
   "cell_type": "code",
   "execution_count": 141,
   "metadata": {},
   "outputs": [
    {
     "name": "stdout",
     "output_type": "stream",
     "text": [
      "(1/27) to the power of  0  =  1.0\n",
      "(1/27) to the power of  20  =  2.35898248759e-29\n",
      "(1/27) to the power of  40  =  5.56479837677e-58\n",
      "(1/27) to the power of  60  =  1.31272619178e-86\n",
      "(1/27) to the power of  80  =  3.09669809741e-115\n",
      "(1/27) to the power of  100  =  7.30505658115e-144\n",
      "(1/27) to the power of  120  =  1.72325005458e-172\n",
      "(1/27) to the power of  140  =  4.0651167005e-201\n",
      "(1/27) to the power of  160  =  9.58953910649e-230\n",
      "(1/27) to the power of  180  =  2.26215548163e-258\n",
      "(1/27) to the power of  200  =  5.33638516538e-287\n",
      "(1/27) to the power of  220  =  1.25884391521e-315\n",
      "(1/27) to the power of  240  =  0.0\n",
      "(1/27) to the power of  260  =  0.0\n",
      "(1/27) to the power of  280  =  0.0\n"
     ]
    }
   ],
   "source": [
    "for i in np.arange(0,300)[::20]:\n",
    "    a=(1/27)**i\n",
    "    print(\"(1/27) to the power of \",i,\" = \",a)"
   ]
  },
  {
   "cell_type": "markdown",
   "metadata": {},
   "source": [
    "Usually, Python gives up on displaying small floats after around $10^{-300}$"
   ]
  },
  {
   "cell_type": "markdown",
   "metadata": {},
   "source": [
    "So its' clear that there is a limit on how much Python can handle float. However, Python does not have a limit on how high it can go up in integer as long as RAM permits it. So I define\n",
    "$$PR_u:=P_u^{-1}=27^{167664}$$"
   ]
  },
  {
   "cell_type": "markdown",
   "metadata": {},
   "source": [
    "Simply displaying the number gives a wall of numbers. So while that confirms Python can handle very very very large integers, it has way too much entropy for us humans to handle. So I count its length to write in scientific notation."
   ]
  },
  {
   "cell_type": "code",
   "execution_count": 142,
   "metadata": {},
   "outputs": [
    {
     "name": "stdout",
     "output_type": "stream",
     "text": [
      "PR_n=  1.49 *10^ 239988\n"
     ]
    }
   ],
   "source": [
    "PR_n=str(27**len(charlist))\n",
    "length=len(PR_n)\n",
    "print(\"PR_n= \",PR_n[0]+\".\"+PR_n[1]+PR_n[2],\"*10^\",length-1)"
   ]
  },
  {
   "cell_type": "markdown",
   "metadata": {},
   "source": [
    "So the probability of typing Spamlet is simply an inverse of $PR_n$"
   ]
  },
  {
   "cell_type": "markdown",
   "metadata": {},
   "source": [
    "# Q3"
   ]
  },
  {
   "cell_type": "markdown",
   "metadata": {},
   "source": [
    "Define the probability of typing according to the distribution as $P_d$:\n",
    "$$P_d=\\prod_{i=0}^{167774-1}p_i$$\n",
    "where $p_i$ are probability of occurence of $i^{th}$ letter.\n",
    "\n",
    "This can alternatively be written as\n",
    "$$P_d=\\prod_{l=0}^{27-1}\\prod_{n=0}^{n_l}p_l$$"
   ]
  },
  {
   "cell_type": "markdown",
   "metadata": {},
   "source": [
    "where $p_l$ is the probability of occurence of $l^{th}$ latin letter and $n_l$ is the number of $l^{th}$ present in the Spamlet"
   ]
  },
  {
   "cell_type": "markdown",
   "metadata": {},
   "source": [
    "Similar to $Q2$, the float $P_d$ approaches 0 too quickly for Python to handle. So I define\n",
    "$$PR_d=P_d^{-1}$$ and work with integers."
   ]
  },
  {
   "cell_type": "code",
   "execution_count": 192,
   "metadata": {
    "collapsed": true
   },
   "outputs": [],
   "source": [
    "PR_d=1\n",
    "up=1\n",
    "down=1\n",
    "for l in catalog:\n",
    "    for n in range(catalog[l]):\n",
    "        up=up*len(charlist)\n",
    "        down=down*catalog[l]"
   ]
  },
  {
   "cell_type": "code",
   "execution_count": 144,
   "metadata": {
    "collapsed": true
   },
   "outputs": [],
   "source": [
    "PR_d_r=str(up%down)\n",
    "PR_d_app=str(up//down)\n",
    "\n",
    "L_PR_d_r=len(PR_d_r)\n",
    "L_PR_d_app=len(PR_d_app)"
   ]
  },
  {
   "cell_type": "code",
   "execution_count": 145,
   "metadata": {},
   "outputs": [
    {
     "name": "stdout",
     "output_type": "stream",
     "text": [
      "4.13 10^ 208633\n"
     ]
    }
   ],
   "source": [
    "print(PR_d_app[0]+\".\"+PR_d_app[1:3],\"10^\",L_PR_d_app-1)"
   ]
  },
  {
   "cell_type": "code",
   "execution_count": 195,
   "metadata": {},
   "outputs": [
    {
     "ename": "AttributeError",
     "evalue": "module 'numpy' has no attribute 'randint'",
     "output_type": "error",
     "traceback": [
      "\u001b[1;31m---------------------------------------------------------------------------\u001b[0m",
      "\u001b[1;31mAttributeError\u001b[0m                            Traceback (most recent call last)",
      "\u001b[1;32m<ipython-input-195-99031a3cf9ac>\u001b[0m in \u001b[0;36m<module>\u001b[1;34m()\u001b[0m\n\u001b[1;32m----> 1\u001b[1;33m \u001b[0mnp\u001b[0m\u001b[1;33m.\u001b[0m\u001b[0mrandint\u001b[0m\u001b[1;33m(\u001b[0m\u001b[1;36m5\u001b[0m\u001b[1;33m)\u001b[0m\u001b[1;33m\u001b[0m\u001b[0m\n\u001b[0m",
      "\u001b[1;31mAttributeError\u001b[0m: module 'numpy' has no attribute 'randint'"
     ]
    }
   ],
   "source": []
  },
  {
   "cell_type": "markdown",
   "metadata": {},
   "source": [
    "# Optional Q4\n",
    "\n",
    "Defined joint probability denoted by dictionary\n",
    "$JP: (x,y)\\rightarrow \\mathbb{R}$\n",
    "\n",
    "note that the ordered pair (x,y) is commutative, and either key will work"
   ]
  },
  {
   "cell_type": "code",
   "execution_count": 185,
   "metadata": {
    "collapsed": true
   },
   "outputs": [],
   "source": [
    "JC={}\n",
    "for i in range(0,len(charlist)-1,1):\n",
    "    jc=charlist[i]+charlist[i+1]\n",
    "    if jc in JC:\n",
    "        JC[jc]+=1\n",
    "    else:\n",
    "        JC[jc]=1\n",
    "        \n",
    "#print(JC)\n",
    "JC_length=0\n",
    "for i in JC:\n",
    "    JC_length+=JC[i]"
   ]
  },
  {
   "cell_type": "code",
   "execution_count": 150,
   "metadata": {},
   "outputs": [
    {
     "data": {
      "text/plain": [
       "167664"
      ]
     },
     "execution_count": 150,
     "metadata": {},
     "output_type": "execute_result"
    }
   ],
   "source": [
    "JC_length*2"
   ]
  },
  {
   "cell_type": "code",
   "execution_count": 187,
   "metadata": {
    "collapsed": true
   },
   "outputs": [],
   "source": [
    "up=1\n",
    "down=1\n",
    "for i in range(0,len(charlist),2):\n",
    "    jc=charlist[i]+charlist[i+1]\n",
    "    up=up*len(charlist)\n",
    "    down=down*JC[jc]"
   ]
  },
  {
   "cell_type": "code",
   "execution_count": 188,
   "metadata": {
    "collapsed": true
   },
   "outputs": [],
   "source": [
    "PJ=str(up//down)\n",
    "L_PJ=len(str(up//down))"
   ]
  },
  {
   "cell_type": "code",
   "execution_count": 189,
   "metadata": {},
   "outputs": [
    {
     "name": "stdout",
     "output_type": "stream",
     "text": [
      "4.04 10^ 191651\n"
     ]
    }
   ],
   "source": [
    "print(PJ[0]+\".\"+PJ[1:3],\"10^\",L_PJ-1)"
   ]
  },
  {
   "cell_type": "code",
   "execution_count": 266,
   "metadata": {
    "collapsed": true
   },
   "outputs": [],
   "source": [
    "def isbitset(sequence,setbit=4):\n",
    "    bitmask=2**setbit\n",
    "    \n",
    "    return (sequence&bitmask)!=0"
   ]
  },
  {
   "cell_type": "code",
   "execution_count": 248,
   "metadata": {},
   "outputs": [
    {
     "data": {
      "text/plain": [
       "array([False,  True, False, False,  True], dtype=bool)"
      ]
     },
     "execution_count": 248,
     "metadata": {},
     "output_type": "execute_result"
    }
   ],
   "source": [
    "\n",
    "\n",
    "\n",
    "isbitset(np.array([0,2,1,4,7]),setbit=1)"
   ]
  },
  {
   "cell_type": "code",
   "execution_count": null,
   "metadata": {
    "collapsed": true
   },
   "outputs": [],
   "source": []
  },
  {
   "cell_type": "code",
   "execution_count": 270,
   "metadata": {
    "collapsed": true
   },
   "outputs": [],
   "source": [
    "z=[]\n",
    "for i in range(20):\n",
    "    z.append(np.random.randint(0,10))"
   ]
  },
  {
   "cell_type": "code",
   "execution_count": 272,
   "metadata": {},
   "outputs": [
    {
     "data": {
      "text/plain": [
       "array([False, False, False, False, False, False, False, False, False,\n",
       "       False, False, False, False, False, False, False, False, False,\n",
       "       False, False], dtype=bool)"
      ]
     },
     "execution_count": 272,
     "metadata": {},
     "output_type": "execute_result"
    }
   ],
   "source": [
    "isbitset(np.array(z),setbit=4)"
   ]
  },
  {
   "cell_type": "code",
   "execution_count": null,
   "metadata": {
    "collapsed": true
   },
   "outputs": [],
   "source": []
  },
  {
   "cell_type": "code",
   "execution_count": null,
   "metadata": {
    "collapsed": true
   },
   "outputs": [],
   "source": []
  },
  {
   "cell_type": "code",
   "execution_count": 5,
   "metadata": {},
   "outputs": [
    {
     "name": "stdout",
     "output_type": "stream",
     "text": [
      "12345\n",
      "1406932606\n",
      "654583775\n"
     ]
    }
   ],
   "source": [
    "def unix_rand(seed=None):\n",
    "    \n",
    "    unix_rand.seed = unix_rand.seed if seed is None else seed\n",
    "    if unix_rand.seed is None:\n",
    "        unix_rand.seed = 0\n",
    "    \n",
    "    multval, addval, maxval = 1103515245, 12345, 2**31\n",
    "    unix_rand.seed = (multval * unix_rand.seed + addval) % maxval\n",
    "    \n",
    "    return unix_rand.seed\n",
    "\n",
    "print( unix_rand(0) )\n",
    "print( unix_rand() )\n",
    "print( unix_rand() )"
   ]
  },
  {
   "cell_type": "code",
   "execution_count": null,
   "metadata": {
    "collapsed": true
   },
   "outputs": [],
   "source": []
  },
  {
   "cell_type": "code",
   "execution_count": 277,
   "metadata": {},
   "outputs": [
    {
     "name": "stdout",
     "output_type": "stream",
     "text": [
      "[ True False False  True  True  True  True  True False  True  True  True\n",
      "  True  True False  True  True False  True False]\n",
      "\n",
      "[ True False  True  True False False False  True  True  True False  True\n",
      " False  True False False  True False  True False]\n",
      "\n",
      "[False  True False False False False False False  True  True  True  True\n",
      "  True False False  True False False  True False]\n",
      "\n",
      "[False False False False  True  True  True False False False False False\n",
      " False False False False False False False False]\n",
      "\n",
      "[False False False False False False False False False False False False\n",
      " False False False False False False False False]\n",
      "\n",
      "[False False False False False False False False False False False False\n",
      " False False False False False False False False]\n",
      "\n",
      "[False False False False False False False False False False False False\n",
      " False False False False False False False False]\n",
      "\n",
      "[False False False False False False False False False False False False\n",
      " False False False False False False False False]\n",
      "\n",
      "[False False False False False False False False False False False False\n",
      " False False False False False False False False]\n",
      "\n",
      "[False False False False False False False False False False False False\n",
      " False False False False False False False False]\n",
      "\n",
      "[False False False False False False False False False False False False\n",
      " False False False False False False False False]\n",
      "\n",
      "[False False False False False False False False False False False False\n",
      " False False False False False False False False]\n",
      "\n",
      "[False False False False False False False False False False False False\n",
      " False False False False False False False False]\n",
      "\n",
      "[False False False False False False False False False False False False\n",
      " False False False False False False False False]\n",
      "\n",
      "[False False False False False False False False False False False False\n",
      " False False False False False False False False]\n",
      "\n",
      "[False False False False False False False False False False False False\n",
      " False False False False False False False False]\n",
      "\n",
      "[False False False False False False False False False False False False\n",
      " False False False False False False False False]\n",
      "\n"
     ]
    }
   ],
   "source": [
    "for i in range(0,17):\n",
    "    print(isbitset(np.array(z),setbit=i))\n",
    "    print(\"\")\n",
    "    "
   ]
  },
  {
   "cell_type": "code",
   "execution_count": 278,
   "metadata": {},
   "outputs": [
    {
     "name": "stdout",
     "output_type": "stream",
     "text": [
      "[ True False  True False  True False]\n",
      "\n",
      "[False  True  True False False  True]\n",
      "\n",
      "[False  True  True  True  True False]\n",
      "\n",
      "[ True  True  True  True False  True]\n",
      "\n",
      "[ True  True  True False  True False]\n",
      "\n",
      "[ True  True False  True  True False]\n",
      "\n",
      "[False  True  True False  True False]\n",
      "\n",
      "[False False  True False  True  True]\n",
      "\n",
      "[False False  True False False False]\n",
      "\n",
      "[False  True  True False  True False]\n",
      "\n",
      "[False  True  True  True  True  True]\n",
      "\n",
      "[False False False  True False  True]\n",
      "\n",
      "[ True  True False  True  True  True]\n",
      "\n",
      "[ True False  True False False False]\n",
      "\n",
      "[False False False False False False]\n",
      "\n",
      "[False False False False  True False]\n",
      "\n",
      "[False False False  True False  True]\n",
      "\n"
     ]
    }
   ],
   "source": [
    "z = [unix_rand(seed=0)]\n",
    "for i in range(5):\n",
    "    z.append(unix_rand() )\n",
    "    \n",
    "for i in range(0,17):\n",
    "    print(isbitset(np.array(z),setbit=i))\n",
    "    print(\"\")\n",
    "    "
   ]
  },
  {
   "cell_type": "code",
   "execution_count": null,
   "metadata": {
    "collapsed": true
   },
   "outputs": [],
   "source": []
  },
  {
   "cell_type": "code",
   "execution_count": null,
   "metadata": {
    "collapsed": true
   },
   "outputs": [],
   "source": []
  }
 ],
 "metadata": {
  "anaconda-cloud": {},
  "kernelspec": {
   "display_name": "Python 3",
   "language": "python",
   "name": "python3"
  },
  "language_info": {
   "codemirror_mode": {
    "name": "ipython",
    "version": 3
   },
   "file_extension": ".py",
   "mimetype": "text/x-python",
   "name": "python",
   "nbconvert_exporter": "python",
   "pygments_lexer": "ipython3",
   "version": "3.6.0"
  }
 },
 "nbformat": 4,
 "nbformat_minor": 1
}
