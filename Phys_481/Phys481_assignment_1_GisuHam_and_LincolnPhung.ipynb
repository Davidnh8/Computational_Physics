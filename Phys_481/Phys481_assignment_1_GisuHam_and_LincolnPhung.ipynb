{
 "cells": [
  {
   "cell_type": "markdown",
   "metadata": {},
   "source": [
    "# PHYS 481 Assignment 1: Spamlet and Random numbers"
   ]
  },
  {
   "cell_type": "markdown",
   "metadata": {},
   "source": [
    "Gisu Ham 10134838  \n",
    "Lincoln Phung 10148276"
   ]
  },
  {
   "cell_type": "markdown",
   "metadata": {},
   "source": [
    "## Introduction\n",
    "\n",
    "This notebook will cover aspects of probability theory starting with the bernouli process and ending with random number generators. Probability theory as it relates to Physics is substantially important in statistical mechanics as it relates to entropy in classical and quantum mechanical systems. The notebook will first start with the Bernouli process (a series of \"success\" or \"failure\" experiments). This will be used in order to determine the entropy of a simplified version of William Shakespeare's *Hamlet.* Following this, the \"infinite monkey theorem\" will be explored in order to determine the odds that monkeys hitting keys will produce the text of simplified Hamlet. This will be calculated for a random uniform distribution (all keys have equal chance of being hit) and for a weighted distribution based on the amount of times the keys appear in simplified Hamlet. Additionally, the implementation of pseudo random number generators (PRNGs) in computers will be explored, which includes number representation in computers and evaluating the \"randomness\" of given PRNGs."
   ]
  },
  {
   "cell_type": "markdown",
   "metadata": {},
   "source": [
    "### Q1: what is the entropy of \"simplified Hamlet\" (Spamlet)?\n",
    "    \n",
    "### Q2: what is the probability that a monkey with a uniform random selection of 27-keys would produce Spamlet?  In other words, how many different sequences with 167664 characters are there?\n",
    "\n",
    "### Q3: how does the probability change if the chance of hitting any given key was not 1/27, but the same as the distribution of Spamlet?\n",
    "\n",
    "### Optional Q4: determine the joint probability of each 2-key sequence eg. 'aa', 'ab', 'ac' from Spamlet.  How does the probability of producing Spamlet change if the monkey hits keys according to this distribution?\n",
    "\n",
    "### Optional Q5: write a program to generate sequences of text that sound somewhat like Shakespeare.  See for inspiration http://www.elsewhere.org/journal/pomo/ "
   ]
  },
  {
   "cell_type": "markdown",
   "metadata": {},
   "source": [
    "First, we import lines of codes that generate the 'catalog' of Hemlet that counts the occurences of each letter in the Spamlet and charlist that contains each leeter of the Spamlet (list)."
   ]
  },
  {
   "cell_type": "code",
   "execution_count": 4,
   "metadata": {
    "collapsed": true
   },
   "outputs": [],
   "source": [
    "# So how long will it take a monkey to type Hamlet?\n",
    "\n",
    "# Don't pull the same file every time!\n",
    "#\n",
    "import urllib.request\n",
    "url = 'http://www.gutenberg.org/cache/epub/1524/pg1524.txt'\n",
    "bytedata = urllib.request.urlopen( url ).read()\n",
    "\n",
    "# Get a local copy with browser or \"wget\" command."
   ]
  },
  {
   "cell_type": "code",
   "execution_count": 5,
   "metadata": {},
   "outputs": [
    {
     "name": "stdout",
     "output_type": "stream",
     "text": [
      "Project Gutenberg Etext of Hamlet by Shakespeare\r\n",
      "PG has multiple editions of William Shakespear\n"
     ]
    }
   ],
   "source": [
    "# Note that the file contains a preamble about the text (metadata).\n",
    "# A more careful analysis might remove all this, but for simplicity \n",
    "# we will ignore this detail.\n",
    "#\n",
    "print( bytedata[3:99].decode('ascii') )"
   ]
  },
  {
   "cell_type": "code",
   "execution_count": 6,
   "metadata": {},
   "outputs": [
    {
     "name": "stdout",
     "output_type": "stream",
     "text": [
      "Length of simplified Hamlet:  167664\n",
      "{'r': 8381, 'o': 11985, 'j': 150, 'e': 16138, 'c': 2906, 't': 12707, ' ': 28805, 'g': 2608, 'u': 4617, 'n': 8864, 'b': 1971, 'x': 270, 'f': 2889, 'h': 8988, 'a': 10513, 'm': 4487, 'l': 6195, 'y': 3437, 's': 8840, 'k': 1315, 'p': 2251, 'i': 9141, 'd': 5358, 'w': 3239, 'v': 1302, 'z': 78, 'q': 229}\n"
     ]
    }
   ],
   "source": [
    "# Change bytes to characters\n",
    "# +ignore the first 4 \"magic\" bytes (file type)\n",
    "# +ignore everything except a-z and spaces\n",
    "# +change all letters to lower case\n",
    "data = bytedata[4:].decode('ascii')\n",
    "charlist = [c.lower() for c in data if c.isalpha() or c==' ']\n",
    "print('Length of simplified Hamlet: ', len(charlist) )\n",
    "\n",
    "# This is one way to count how many times each letter occurs.\n",
    "# Using numpy might be faster, but this is easy to understand.\n",
    "#\n",
    "catalog = {}\n",
    "for symbol in charlist:\n",
    "    \n",
    "    if symbol in catalog:\n",
    "        catalog[symbol] += 1  #increment\n",
    "    else:\n",
    "        catalog[symbol] = 1  # initialize\n",
    "        \n",
    "print( catalog ) "
   ]
  },
  {
   "cell_type": "markdown",
   "metadata": {},
   "source": [
    "# Q1\n",
    "\n",
    "Probability of occurences of letters are simply extracted from the 'catalog' dictionary above.\n",
    "First I check that its length is 27. Ohterwise I need to assign a value of 0 to missing keys"
   ]
  },
  {
   "cell_type": "code",
   "execution_count": 171,
   "metadata": {},
   "outputs": [],
   "source": [
    "assert len(catalog)==27"
   ]
  },
  {
   "cell_type": "markdown",
   "metadata": {},
   "source": [
    "Then simply apply the Discrete Shannon entropy form:\n",
    "$$  H = -\\sum_{i=1}^n p_i \\; log{p_i} $$"
   ]
  },
  {
   "cell_type": "code",
   "execution_count": 174,
   "metadata": {},
   "outputs": [
    {
     "name": "stdout",
     "output_type": "stream",
     "text": [
      "Entropy of Spamlet:  42498.5737891\n",
      "time taken:  0.4161057472229004  seconds\n"
     ]
    }
   ],
   "source": [
    "#Entropy H\n",
    "H=0.0\n",
    "\n",
    "#also measure time\n",
    "begin=time.time()\n",
    "\n",
    "for i in charlist:\n",
    "    #probability= number of each letters' occurences / length of Spamlet\n",
    "    p=catalog[i]/len(charlist)\n",
    "    H+=-p*np.log(p)/(np.log(2))\n",
    "\n",
    "end=time.time()\n",
    "\n",
    "print(\"Entropy of Spamlet: \",H)\n",
    "print(\"time taken: \",end-begin,\" seconds\")\n"
   ]
  },
  {
   "cell_type": "markdown",
   "metadata": {},
   "source": [
    "Entropy can also be found in a more elegant way, using 'pythonic' code"
   ]
  },
  {
   "cell_type": "code",
   "execution_count": 14,
   "metadata": {},
   "outputs": [
    {
     "name": "stdout",
     "output_type": "stream",
     "text": [
      "Entropy of Spamlet:  42498.5737892\n",
      "time taken:  0.04689311981201172  seconds\n"
     ]
    }
   ],
   "source": [
    "#Entropy H\n",
    "H=0.0\n",
    "\n",
    "begin=time.time()\n",
    "\n",
    "for i in catalog:\n",
    "    p=catalog[i]/len(charlist)*np.ones(catalog[i])\n",
    "    H+=-np.sum(np.log(p)*p)/(np.log(2))\n",
    "\n",
    "end=time.time()\n",
    "\n",
    "print(\"Entropy of Spamlet: \",H)\n",
    "print(\"time taken: \",end-begin,\" seconds\")"
   ]
  },
  {
   "cell_type": "markdown",
   "metadata": {},
   "source": [
    "   #  Q2"
   ]
  },
  {
   "cell_type": "markdown",
   "metadata": {},
   "source": [
    "Given the uniform distribution, the probability $P_u$ of typing the Spamlet would be\n",
    "$$P_u=\\left(\\frac{1}{27}\\right)^{167664}$$"
   ]
  },
  {
   "cell_type": "markdown",
   "metadata": {},
   "source": [
    "It's apparaent that computing this would approach 0 very rapidly:"
   ]
  },
  {
   "cell_type": "code",
   "execution_count": 15,
   "metadata": {},
   "outputs": [
    {
     "name": "stdout",
     "output_type": "stream",
     "text": [
      "(1/27) to the power of  0  =  1.0\n",
      "(1/27) to the power of  20  =  2.35898248759e-29\n",
      "(1/27) to the power of  40  =  5.56479837677e-58\n",
      "(1/27) to the power of  60  =  1.31272619178e-86\n",
      "(1/27) to the power of  80  =  3.09669809741e-115\n",
      "(1/27) to the power of  100  =  7.30505658115e-144\n",
      "(1/27) to the power of  120  =  1.72325005458e-172\n",
      "(1/27) to the power of  140  =  4.0651167005e-201\n",
      "(1/27) to the power of  160  =  9.58953910649e-230\n",
      "(1/27) to the power of  180  =  2.26215548163e-258\n",
      "(1/27) to the power of  200  =  5.33638516538e-287\n",
      "(1/27) to the power of  220  =  1.25884391521e-315\n",
      "(1/27) to the power of  240  =  0.0\n",
      "(1/27) to the power of  260  =  0.0\n",
      "(1/27) to the power of  280  =  0.0\n"
     ]
    }
   ],
   "source": [
    "for i in np.arange(0,300)[::20]:\n",
    "    a=(1/27)**i\n",
    "    print(\"(1/27) to the power of \",i,\" = \",a)"
   ]
  },
  {
   "cell_type": "markdown",
   "metadata": {},
   "source": [
    "Python seems to give up on displaying small floats after around $10^{-300}$"
   ]
  },
  {
   "cell_type": "markdown",
   "metadata": {},
   "source": [
    "So its' clear that there is a limit on how much Python can handle float. However, Python does not have a limit on how high an integer can go up to as long as RAM permits it. So I define\n",
    "$$PR_u:=P_u^{-1}=27^{167664}$$"
   ]
  },
  {
   "cell_type": "markdown",
   "metadata": {},
   "source": [
    "Simply displaying $PR_u$ gives a wall of numbers. So while that confirms Python can handle very very very large integers, it has way too much entropy for us humans to handle. So I count its length to write in scientific notation."
   ]
  },
  {
   "cell_type": "code",
   "execution_count": 176,
   "metadata": {},
   "outputs": [
    {
     "name": "stdout",
     "output_type": "stream",
     "text": [
      "PR_n=  1.49 *10^ 239988\n"
     ]
    }
   ],
   "source": [
    "PR_n=str(27**len(charlist))\n",
    "length=len(PR_n)\n",
    "print(\"PR_n= \",PR_n[0]+\".\"+PR_n[1]+PR_n[2],\"*10^\",length-1)"
   ]
  },
  {
   "cell_type": "markdown",
   "metadata": {},
   "source": [
    "So the probability of typing Spamlet using the uniform distribution is simply an inverse of $PR_n$"
   ]
  },
  {
   "cell_type": "markdown",
   "metadata": {},
   "source": [
    "# Q3\n",
    "\n",
    "Define the probability of typing Spamlet according to the distribution of occurences of characters as $P_d$:\n",
    "$$P_d=\\prod_{i=0}^{167774-1}p_i$$\n",
    "where $p_i$ are probability of occurence of $i^{th}$ letter in Spamlet\n",
    "\n",
    "This can alternatively be written as\n",
    "$$P_d=\\prod_{l=0}^{27-1}\\prod_{n=0}^{n_l}p_l$$"
   ]
  },
  {
   "cell_type": "markdown",
   "metadata": {},
   "source": [
    "where $n_l$ is the number of each unique letters' occurences and $p_l$ is the probability of that letter occuring in Spamlet."
   ]
  },
  {
   "cell_type": "markdown",
   "metadata": {},
   "source": [
    "Similar to $Q2$, the float $P_d$ approaches 0 too quickly for Python to handle. So I define\n",
    "$$PR_d:=\\frac{1}{P_d}$$ and work with integers. Probability cannot be represented as an integer (unless 0 or 1), but since probability is a rational, we can have two integers representing that probability as a fraction:"
   ]
  },
  {
   "cell_type": "code",
   "execution_count": 196,
   "metadata": {
    "collapsed": true
   },
   "outputs": [],
   "source": [
    "PR_d=1\n",
    "up=1 # denominator of P_l above\n",
    "down=1 # numerator of the fraction of P_l\n",
    "\n",
    "#then multiply each p_l's numerator and denominator separately\n",
    "for l in catalog:\n",
    "    for n in range(catalog[l]):\n",
    "        up=up*len(charlist)\n",
    "        down=down*catalog[l]"
   ]
  },
  {
   "cell_type": "code",
   "execution_count": 253,
   "metadata": {
    "collapsed": true
   },
   "outputs": [],
   "source": [
    "#Then find the probability by dividing. We want to remain an integer\n",
    "# so we use operation //.\n",
    "# since the remainder would be very very small compared to the final result,\n",
    "#we ignore it.\n",
    "\n",
    "PR_d=str(up//down)\n"
   ]
  },
  {
   "cell_type": "code",
   "execution_count": 198,
   "metadata": {},
   "outputs": [
    {
     "name": "stdout",
     "output_type": "stream",
     "text": [
      "4.13 10^ 208633\n"
     ]
    }
   ],
   "source": [
    "print(PR_d[0]+\".\"+PR_d[1:3],\"10^\",L_PR_d-1)"
   ]
  },
  {
   "cell_type": "markdown",
   "metadata": {},
   "source": [
    "Like in Q2, the inverse of this number is the probability of typing Spamlet using the distribution of Hamlet. Compared to the uniform distribution, the probability has increase slightly, but it's still negligible."
   ]
  },
  {
   "cell_type": "markdown",
   "metadata": {},
   "source": [
    "# Optional Q4\n",
    "\n",
    "First we divide the Spamlet into pieces, each piece containing two letters. We can use these pieces to find the distribution of 2-key sequences."
   ]
  },
  {
   "cell_type": "code",
   "execution_count": 267,
   "metadata": {
    "collapsed": true
   },
   "outputs": [],
   "source": [
    "#Joint Probability dictionary\n",
    "JC={}\n",
    "\n",
    "for i in range(0,len(charlist)-1,2):\n",
    "    #jc= 2-key sequence. append to dictionary appropriately\n",
    "    jc=charlist[i]+charlist[i+1]\n",
    "    \n",
    "    if jc in JC:\n",
    "        JC[jc]+=1\n",
    "    else:\n",
    "        JC[jc]=1\n"
   ]
  },
  {
   "cell_type": "code",
   "execution_count": 268,
   "metadata": {
    "collapsed": true
   },
   "outputs": [],
   "source": [
    "#same as Q3, up is the denominator of the probability and down\n",
    "#is the numerator of the probability, initially 1.\n",
    "\n",
    "up=1\n",
    "down=1\n",
    "\n",
    "#the multiply each respectively, going up by steps of 2\n",
    "for i in range(0,len(charlist),2):\n",
    "    jc=charlist[i]+charlist[i+1]\n",
    "    up=up*len(charlist)\n",
    "    down=down*JC[jc]*2"
   ]
  },
  {
   "cell_type": "code",
   "execution_count": 269,
   "metadata": {},
   "outputs": [],
   "source": [
    "#calculating the probability. Again, we ignore the remainder\n",
    "\n",
    "PJ=str(up//down)\n",
    "L_PJ=len(str(up//down))"
   ]
  },
  {
   "cell_type": "code",
   "execution_count": 270,
   "metadata": {},
   "outputs": [
    {
     "name": "stdout",
     "output_type": "stream",
     "text": [
      "8.88 10^ 191580\n"
     ]
    }
   ],
   "source": [
    "print(PJ[0]+\".\"+PJ[1:3],\"10^\",L_PJ-1)"
   ]
  },
  {
   "cell_type": "markdown",
   "metadata": {},
   "source": [
    "This 2-key sequence probability offers the highest probability to type Spaming using the 2-key sequence distribution, but it is still negligibly low."
   ]
  },
  {
   "cell_type": "markdown",
   "metadata": {},
   "source": [
    "# Pseudo Random Q1\n",
    "\n",
    "First I create isbitset that checks the set bit of ith order of an integer in binary form"
   ]
  },
  {
   "cell_type": "code",
   "execution_count": 274,
   "metadata": {},
   "outputs": [],
   "source": [
    "def isbitset(sequence,setbit=1):\n",
    "    \"\"\"This function deter4mines whether a specific bit is set for each integer value\n",
    "        args:\n",
    "            sequence (np.ndarray): list of integers\n",
    "            setbit (int): setbit\n",
    "        returns:\n",
    "            return1 (bool): check the set bit of ith order.\"\"\"\n",
    "    \n",
    "    #convert to array if list is inputted\n",
    "    if sequence ==list(sequence):\n",
    "        sequence=np.array(sequence)\n",
    "        \n",
    "    #create bitmask    \n",
    "    bitmask=2**setbit\n",
    "    \n",
    "    return1= (sequence & bitmask)!=0\n",
    "    \n",
    "    return return1"
   ]
  },
  {
   "cell_type": "markdown",
   "metadata": {},
   "source": [
    "## numpy random generator\n",
    "I run the function above to random numbers generated by numpy.random.randint."
   ]
  },
  {
   "cell_type": "code",
   "execution_count": 286,
   "metadata": {},
   "outputs": [],
   "source": [
    "#create random numbers\n",
    "np_random_list=[]\n",
    "\n",
    "for i in range(10):\n",
    "    np_random_list.append(np.random.randint(0,2**31))\n"
   ]
  },
  {
   "cell_type": "markdown",
   "metadata": {},
   "source": [
    "displaying the numbers:"
   ]
  },
  {
   "cell_type": "code",
   "execution_count": 287,
   "metadata": {},
   "outputs": [
    {
     "data": {
      "text/plain": [
       "[2044920961,\n",
       " 853679168,\n",
       " 891923477,\n",
       " 244145354,\n",
       " 279165345,\n",
       " 1355676035,\n",
       " 1246909089,\n",
       " 683573426,\n",
       " 1326368857,\n",
       " 706097092]"
      ]
     },
     "execution_count": 287,
     "metadata": {},
     "output_type": "execute_result"
    }
   ],
   "source": [
    "np_random_list"
   ]
  },
  {
   "cell_type": "markdown",
   "metadata": {},
   "source": [
    "examining output of each set bit"
   ]
  },
  {
   "cell_type": "code",
   "execution_count": 288,
   "metadata": {},
   "outputs": [
    {
     "name": "stdout",
     "output_type": "stream",
     "text": [
      "setbit= 0  : [ True False  True False  True  True  True False  True False]\n",
      "setbit= 1  : [False False False  True False  True False  True False False]\n",
      "setbit= 2  : [False False  True False False False False False False  True]\n",
      "setbit= 3  : [False False False  True False False False False  True False]\n",
      "setbit= 4  : [False False  True False False False False  True  True False]\n",
      "setbit= 5  : [False False False False  True False  True  True False False]\n",
      "setbit= 6  : [False  True False  True False False False False  True  True]\n",
      "setbit= 7  : [ True False False  True  True  True  True  True False  True]\n",
      "setbit= 8  : [False False False False  True  True False False False  True]\n",
      "setbit= 9  : [False False False False False False  True False False  True]\n"
     ]
    }
   ],
   "source": [
    "for i in range(10):\n",
    "    print(\"setbit=\",i,\" :\",isbitset(np_random_list,setbit=i))"
   ]
  },
  {
   "cell_type": "markdown",
   "metadata": {},
   "source": [
    "## Unix rand"
   ]
  },
  {
   "cell_type": "markdown",
   "metadata": {},
   "source": [
    "We directly import unix_rand function from the pseudorandomness notebook by Dr. Jackel"
   ]
  },
  {
   "cell_type": "code",
   "execution_count": 313,
   "metadata": {},
   "outputs": [],
   "source": [
    "def unix_rand(seed=None):\n",
    "    \"\"\"Produce randmo integers based on the Grogonno algorithm\n",
    "        args:\n",
    "            seed (int): it provides initailization of the random number generator algorithm\n",
    "        returns:\n",
    "        unix_rand.seed (int): random number generated\"\"\"\n",
    "    \n",
    "    unix_rand.seed = unix_rand.seed if seed is None else seed\n",
    "    if unix_rand.seed is None:\n",
    "        unix_rand.seed = 0\n",
    "    \n",
    "    multval, addval, maxval = 1103515245, 12345, 2**31\n",
    "    unix_rand.seed = (multval * unix_rand.seed + addval) % maxval\n",
    "    \n",
    "    return unix_rand.seed\n"
   ]
  },
  {
   "cell_type": "markdown",
   "metadata": {},
   "source": [
    "create random numbers using unix_rand"
   ]
  },
  {
   "cell_type": "code",
   "execution_count": 314,
   "metadata": {},
   "outputs": [],
   "source": [
    "unix_random_list=[]\n",
    "\n",
    "unix_random_list.append(unix_rand(0))\n",
    "for i in range(10):\n",
    "    unix_random_list.append(unix_rand())\n",
    "\n"
   ]
  },
  {
   "cell_type": "markdown",
   "metadata": {},
   "source": [
    "display"
   ]
  },
  {
   "cell_type": "code",
   "execution_count": 315,
   "metadata": {},
   "outputs": [
    {
     "data": {
      "text/plain": [
       "[12345,\n",
       " 1406932606,\n",
       " 654583775,\n",
       " 1449466924,\n",
       " 229283573,\n",
       " 1109335178,\n",
       " 1051550459,\n",
       " 1293799192,\n",
       " 794471793,\n",
       " 551188310,\n",
       " 803550167]"
      ]
     },
     "execution_count": 315,
     "metadata": {},
     "output_type": "execute_result"
    }
   ],
   "source": [
    "unix_random_list"
   ]
  },
  {
   "cell_type": "markdown",
   "metadata": {},
   "source": [
    "and run for each set bit"
   ]
  },
  {
   "cell_type": "code",
   "execution_count": 316,
   "metadata": {},
   "outputs": [
    {
     "name": "stdout",
     "output_type": "stream",
     "text": [
      "setbit= 0 :  [ True False  True False  True False  True False  True False  True]\n",
      "setbit= 1 :  [False  True  True False False  True  True False False  True  True]\n",
      "setbit= 2 :  [False  True  True  True  True False False False False  True  True]\n",
      "setbit= 3 :  [ True  True  True  True False  True  True  True False False False]\n",
      "setbit= 4 :  [ True  True  True False  True False  True  True  True  True  True]\n",
      "setbit= 5 :  [ True  True False  True  True False  True False  True False False]\n",
      "setbit= 6 :  [False  True  True False  True False  True False  True  True  True]\n",
      "setbit= 7 :  [False False  True False  True  True  True False False False  True]\n",
      "setbit= 8 :  [False False  True False False False False  True  True  True  True]\n",
      "setbit= 9 :  [False  True  True False  True False  True  True False  True  True]\n"
     ]
    }
   ],
   "source": [
    "for i in range(10):\n",
    "    print (\"setbit=\",i,\": \",isbitset(unix_random_list,setbit=i))"
   ]
  },
  {
   "cell_type": "markdown",
   "metadata": {},
   "source": [
    "\n",
    "From the above results, using a bitset of 1, we can see that the numpy.random generator appears to be more random. This will be explained by first explaining what the isbitset function performs.\n",
    "\n",
    "The function isbitset takes two parameters, the list of integers to be examined, and a \"bitset\". Using bitset=0 means that we are looking at whether the least significant bit has a value of 1, using a bitset=1 means we are looking at whether the second least significant bit has a value of 1, and so on. For example, for the above results (bitset of 1), we write the first 4 numbers generated from the UNIX RAND generator in binary:\n",
    "\n",
    "12345$_{10}$ = 110000001110**0**1$_{2}$  \n",
    "1406932606$_{10}$ = 10100111101110000010110011111**1**0$_{2}$  \n",
    "654583775$_{10}$ = 1001110000010000100111110111**1**1$_{2}$  \n",
    "1449466924$_{10}$ = 10101100110010100011100001011**0**0$_{2}$  \n",
    "\n",
    "The second least significant bit has been bolded in the above. Because the values are 0, 1, 1, and 0. The bit is set only for the second and third number. \n",
    "\n",
    "Observing whether the bit is set shows us that the UNIX RAND operator is not as random as it appears. Looking at the results, whether the bit is set or not has a period of 4. This means the numbers generated from the UNIX RAND will have the second least significant bit return 0,1,1,0 (False, True, True, False) repeatedly.\n",
    "\n",
    "However, this result is not specific to just bitset=1. More generally, as mentioned by K.W. Miller and S.K. Park in *\"Random Number Generators: Good Ones are Hard to Find\"* the UNIX Rand, and any generators in the form of:\n",
    "\n",
    "$f(z) = (az+c)$ $mod$ $m$, **where:** $m=2^{b}$ **and** $a$ $mod$ $4$ $=$ $1$ **and** $c$ $is$ $odd$\n",
    "\n",
    "have bits that cycle. This starts with the least significant bit having a period of 2, the next least significant bit a period of 4, and further bits onwards with periods increasing by powers of 2. \n",
    "\n",
    "For this reason, the numpy.random generator is more random than the UNIX Rand generator as the low bits do not have a period.\n"
   ]
  },
  {
   "cell_type": "markdown",
   "metadata": {},
   "source": [
    "# Conclusion"
   ]
  },
  {
   "cell_type": "markdown",
   "metadata": {},
   "source": [
    "We explored the probabilities of typing the \"Spamlet\" according to various probability distributions of the letter, including uniform, character-based distribution, and 2-key sequence distribution.  \n",
    "\n",
    "We also discussed the two types of pseudo-random number generator, one used by numpy.random based on Mersenne twister and Unix_rand based on Grogonno's generator type. It's evident that Grogonno's type shows a definite pattern for low order bits, giving us a cycle of 1 and 0's while numpy.random gives us low order bits that are more 'random'.\n",
    "\n",
    "We have learned that even when something looks random on the surface, examining it may prove to be a vaulable to prove its predictability."
   ]
  },
  {
   "cell_type": "code",
   "execution_count": null,
   "metadata": {
    "collapsed": true
   },
   "outputs": [],
   "source": []
  }
 ],
 "metadata": {
  "kernelspec": {
   "display_name": "Python 3",
   "language": "python",
   "name": "python3"
  },
  "language_info": {
   "codemirror_mode": {
    "name": "ipython",
    "version": 3
   },
   "file_extension": ".py",
   "mimetype": "text/x-python",
   "name": "python",
   "nbconvert_exporter": "python",
   "pygments_lexer": "ipython3",
   "version": "3.6.0"
  }
 },
 "nbformat": 4,
 "nbformat_minor": 2
}
