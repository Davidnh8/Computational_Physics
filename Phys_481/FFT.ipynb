{
 "cells": [
  {
   "cell_type": "markdown",
   "metadata": {},
   "source": [
    "# This notebook explores the Cooley Tukey algorithm for FFT"
   ]
  },
  {
   "cell_type": "code",
   "execution_count": 1,
   "metadata": {
    "collapsed": true
   },
   "outputs": [],
   "source": [
    "import numpy as np"
   ]
  },
  {
   "cell_type": "markdown",
   "metadata": {},
   "source": [
    "References: https://jakevdp.github.io/blog/2013/08/28/understanding-the-fft/"
   ]
  },
  {
   "cell_type": "markdown",
   "metadata": {},
   "source": [
    "# Dicrete Fourier Transform\n",
    "let $x_n$ denote the coordinate of configuration spaces and let $X_n$ be the frequency space.  \n",
    "Then discrete forward Fourier Transform is given by\n",
    "$$X_k=\\sum_{n=0}^{N-1}x_n\\cdot e^{-i~2\\pi kn/N}$$\n",
    "and inverse by\n",
    "$$x_n=\\frac{1}{N}\\sum_{k=0}^{N-1}X_k e^{-i~2\\pi kn/N}$$"
   ]
  },
  {
   "cell_type": "markdown",
   "metadata": {},
   "source": [
    "Note that obtaining $X$ Is nothing more than taking the dot product of $x$ and some matrix M so that\n",
    "$$\\vec{X}=M\\cdot \\vec{x}$$\n",
    "where M is of the form\n",
    "$$M_{kn}=e^{-i~2\\pi kn/N}$$"
   ]
  },
  {
   "cell_type": "code",
   "execution_count": 137,
   "metadata": {
    "collapsed": true
   },
   "outputs": [],
   "source": [
    "def DFT_slow(x):\n",
    "    \"\"\"Compute the discrete Fourier Transform of the 1D array x\"\"\"\n",
    "    x=np.asarray(x,dtype=float)\n",
    "    N=x.shape[0]\n",
    "    n=np.arange(N)\n",
    "    k=n.reshape((N,1))\n",
    "    M = np.exp(-2j * np.pi * k * n / N)\n",
    "    \n",
    "    return np.dot(M,x)"
   ]
  },
  {
   "cell_type": "markdown",
   "metadata": {},
   "source": [
    "make sure it coincides with built in function numpy.fft.fft()"
   ]
  },
  {
   "cell_type": "code",
   "execution_count": 138,
   "metadata": {
    "collapsed": false
   },
   "outputs": [
    {
     "data": {
      "text/plain": [
       "True"
      ]
     },
     "execution_count": 138,
     "metadata": {},
     "output_type": "execute_result"
    }
   ],
   "source": [
    "x=np.random.random(123)\n",
    "#print(DFT_slow(y))\n",
    "np.allclose(DFT_slow(x), np.fft.fft(x))"
   ]
  },
  {
   "cell_type": "markdown",
   "metadata": {},
   "source": [
    "measure time difference between fft and my dft"
   ]
  },
  {
   "cell_type": "code",
   "execution_count": 139,
   "metadata": {
    "collapsed": false
   },
   "outputs": [
    {
     "name": "stdout",
     "output_type": "stream",
     "text": [
      "1000 loops, best of 3: 1.08 ms per loop\n",
      "The slowest run took 13.25 times longer than the fastest. This could mean that an intermediate result is being cached.\n",
      "100000 loops, best of 3: 8.92 µs per loop\n"
     ]
    }
   ],
   "source": [
    "%timeit DFT_slow(x)\n",
    "%timeit np.fft.fft(x)"
   ]
  },
  {
   "cell_type": "markdown",
   "metadata": {},
   "source": [
    "To reduce computation time, I exploit the symmetry.  \n",
    "Consider"
   ]
  },
  {
   "cell_type": "markdown",
   "metadata": {},
   "source": [
    "\\begin{align}\n",
    "X_{N+k}&=\\sum_{n=0}^{N-1}x_ne^{-i~2\\pi (N+k)n/N}\\\\\n",
    "&=\\sum_{n=0}^{N-1}x_ne^{-i~2\\pi n}e^{-i~2\\pi kn/N}\\\\\n",
    "&=\\sum_{n=0}^{N-1}x_ne^{-i~2\\pi kn/N}\n",
    "\\end{align}"
   ]
  },
  {
   "cell_type": "markdown",
   "metadata": {},
   "source": [
    "Thus\n",
    "$$X_{N+k}=X_N$$"
   ]
  },
  {
   "cell_type": "markdown",
   "metadata": {},
   "source": [
    "Then it's obvious that\n",
    "$$X_{k+hN}=X_N$$ for any integer h."
   ]
  },
  {
   "cell_type": "markdown",
   "metadata": {},
   "source": [
    "Cooley and Tucky showed that the DFT can be 'divided' as follows\n",
    "\n"
   ]
  },
  {
   "cell_type": "code",
   "execution_count": null,
   "metadata": {
    "collapsed": true
   },
   "outputs": [],
   "source": []
  }
 ],
 "metadata": {
  "kernelspec": {
   "display_name": "Python 3",
   "language": "python",
   "name": "python3"
  },
  "language_info": {
   "codemirror_mode": {
    "name": "ipython",
    "version": 3
   },
   "file_extension": ".py",
   "mimetype": "text/x-python",
   "name": "python",
   "nbconvert_exporter": "python",
   "pygments_lexer": "ipython3",
   "version": "3.5.2"
  }
 },
 "nbformat": 4,
 "nbformat_minor": 2
}
